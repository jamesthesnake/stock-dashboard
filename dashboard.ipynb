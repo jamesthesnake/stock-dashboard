{
 "cells": [
  {
   "cell_type": "code",
   "execution_count": 1,
   "id": "b99d8299-e2fb-41d7-a086-5a8af4cf826f",
   "metadata": {},
   "outputs": [],
   "source": [
    "import os\n",
    "\n",
    "import ipyvuetify as v\n",
    "import ipywidgets as ipw\n",
    "import yfinance as yf\n",
    "from ipyflex import FlexLayout\n",
    "from voila.utils import get_query_string\n",
    "from ticker import TickerData\n",
    "from widgets import (\n",
    "    financial_info_factory,\n",
    "    new_factory,\n",
    "    price_chart_factory,\n",
    "    price_history_factory,\n",
    "    text_widget,\n",
    ")\n"
   ]
  },
  {
   "cell_type": "code",
   "execution_count": 2,
   "id": "ebaae013-207f-4499-b602-1926f595cac4",
   "metadata": {},
   "outputs": [],
   "source": [
    "voila = os.getenv(\"VOILA_KERNEL_ID\")\n",
    "if voila is not None:\n",
    "    editable = True\n",
    "    height = \"calc(100vh - 60px)\"\n",
    "else:\n",
    "    editable = True\n",
    "    height = \"800px\""
   ]
  },
  {
   "cell_type": "code",
   "execution_count": 3,
   "id": "d2731aae-553a-4243-8e9b-1021329e4377",
   "metadata": {},
   "outputs": [],
   "source": [
    "w = FlexLayout(\n",
    "    style={\"height\": height},\n",
    "    header={\"title\": \"STOCK DASHBOAD\", \"style\": {\"backgroundColor\": \"rgb(53 53 53)\"}},\n",
    "    template=\"ticker.json\",\n",
    "    editable=editable,\n",
    ")\n",
    "style = ipw.HTML(\"\"\"<style>.js-plotly-plot {height: 100%;}</style> \"\"\")"
   ]
  },
  {
   "cell_type": "code",
   "execution_count": 4,
   "id": "a9c6f911-d895-4a36-8982-b8ae76b994ca",
   "metadata": {
    "tags": []
   },
   "outputs": [
    {
     "data": {
      "application/vnd.jupyter.widget-view+json": {
       "model_id": "9d0d20430e3e48e29b3df70f1f52904e",
       "version_major": 2,
       "version_minor": 0
      },
      "text/plain": [
       "VBox(children=(FlexLayout(header={'title': 'STOCK DASHBOAD', 'style': {'backgroundColor': 'rgb(53 53 53)'}, 'b…"
      ]
     },
     "metadata": {},
     "output_type": "display_data"
    }
   ],
   "source": [
    "ipw.VBox([w, style])"
   ]
  },
  {
   "cell_type": "code",
   "execution_count": 5,
   "id": "cbbd643e-e7e7-4890-9ffb-a6608d4ec26d",
   "metadata": {},
   "outputs": [],
   "source": [
    "query_string = get_query_string()\n",
    "ticker_name = \"NVDA\"\n",
    "if query_string is not None:\n",
    "    for item in query_string.split(\"?\"):\n",
    "        query = item.split(\"=\")\n",
    "        if len(query) > 1:\n",
    "            ticker_name = query[1]\n"
   ]
  },
  {
   "cell_type": "code",
   "execution_count": null,
   "id": "69f9c03e-f04f-4307-9ee1-6c1519f1d0e5",
   "metadata": {},
   "outputs": [],
   "source": [
    "ticker = TickerData(ticker_name)\n",
    "news = new_factory(ticker.news)\n",
    "info = financial_info_factory(ticker.financial_info, ticker._info[\"logo_url\"])\n",
    "price = price_chart_factory(ticker.price(), ticker_name)\n",
    "history = price_history_factory(ticker.price('3y'), ticker_name)\n",
    "summary = text_widget(\"Business Summary \", ticker._info[\"longBusinessSummary\"])\n",
    "widgets = {\n",
    "    \"news\": news,\n",
    "    \"info\": info,\n",
    "    \"price\": price,\n",
    "    \"history\": history,\n",
    "    \"summary\": summary,\n",
    "}"
   ]
  },
  {
   "cell_type": "code",
   "execution_count": null,
   "id": "599965a0-1ca7-4eb2-9a9d-30c505ea6be4",
   "metadata": {},
   "outputs": [],
   "source": [
    "for key, value in widgets.items():\n",
    "    w.add(key, value)\n",
    "w.editable=False"
   ]
  },
  {
   "cell_type": "code",
   "execution_count": null,
   "id": "ec327262-3660-4084-82b0-bb9637dd4303",
   "metadata": {},
   "outputs": [],
   "source": []
  }
 ],
 "metadata": {
  "kernelspec": {
   "display_name": "Python 3 (ipykernel)",
   "language": "python",
   "name": "python3"
  },
  "language_info": {
   "codemirror_mode": {
    "name": "ipython",
    "version": 3
   },
   "file_extension": ".py",
   "mimetype": "text/x-python",
   "name": "python",
   "nbconvert_exporter": "python",
   "pygments_lexer": "ipython3",
   "version": "3.9.9"
  }
 },
 "nbformat": 4,
 "nbformat_minor": 5
}
