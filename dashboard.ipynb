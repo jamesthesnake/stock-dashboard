{
 "cells": [
  {
   "cell_type": "code",
   "execution_count": 1,
   "id": "b99d8299-e2fb-41d7-a086-5a8af4cf826f",
   "metadata": {},
   "outputs": [],
   "source": [
    "from ipyflex import FlexLayout\n",
    "import ipywidgets as ipw\n",
    "import yfinance as yf\n",
    "import ipyvuetify as v\n",
    "from widgets import new_factory, financial_info_factory\n",
    "from ticker import TickerData"
   ]
  },
  {
   "cell_type": "code",
   "execution_count": 2,
   "id": "d907c7b5-991c-463d-8dcb-95814f31b85d",
   "metadata": {},
   "outputs": [],
   "source": [
    "ticker = TickerData(\"NVDA\")"
   ]
  },
  {
   "cell_type": "code",
   "execution_count": 3,
   "id": "a8664bc2-aa04-4e52-ae82-5ac751e9406a",
   "metadata": {},
   "outputs": [],
   "source": [
    "news = new_factory(ticker.news)\n",
    "info = financial_info_factory(ticker.financial_info)"
   ]
  },
  {
   "cell_type": "code",
   "execution_count": 4,
   "id": "61d48577-30e7-446f-aac6-22c4ee6c1b28",
   "metadata": {},
   "outputs": [],
   "source": [
    "widgets = {'news':news, 'info': info}"
   ]
  },
  {
   "cell_type": "code",
   "execution_count": 5,
   "id": "d2731aae-553a-4243-8e9b-1021329e4377",
   "metadata": {},
   "outputs": [],
   "source": [
    "w = FlexLayout( \n",
    "    widgets,\n",
    "            style={'height':'600px'}, \n",
    "            header={'title': 'Demo',\n",
    "                    'style':{'background': 'green'}}\n",
    "           ) "
   ]
  },
  {
   "cell_type": "code",
   "execution_count": 6,
   "id": "a9c6f911-d895-4a36-8982-b8ae76b994ca",
   "metadata": {},
   "outputs": [
    {
     "data": {
      "application/vnd.jupyter.widget-view+json": {
       "model_id": "4d4f2bebc21d4a35b4ba05d189ad61c5",
       "version_major": 2,
       "version_minor": 0
      },
      "text/plain": [
       "FlexLayout(children={'news': Html(children=[Card(children=[CardTitle(children=['3 Top Artificial Intelligence …"
      ]
     },
     "metadata": {},
     "output_type": "display_data"
    }
   ],
   "source": [
    "w"
   ]
  }
 ],
 "metadata": {
  "kernelspec": {
   "display_name": "Python 3 (ipykernel)",
   "language": "python",
   "name": "python3"
  },
  "language_info": {
   "codemirror_mode": {
    "name": "ipython",
    "version": 3
   },
   "file_extension": ".py",
   "mimetype": "text/x-python",
   "name": "python",
   "nbconvert_exporter": "python",
   "pygments_lexer": "ipython3",
   "version": "3.9.9"
  }
 },
 "nbformat": 4,
 "nbformat_minor": 5
}
