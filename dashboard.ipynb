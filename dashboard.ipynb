{
 "cells": [
  {
   "cell_type": "code",
   "execution_count": 1,
   "id": "b99d8299-e2fb-41d7-a086-5a8af4cf826f",
   "metadata": {},
   "outputs": [],
   "source": [
    "import os\n",
    "\n",
    "import ipyvuetify as v\n",
    "import ipywidgets as ipw\n",
    "import yfinance as yf\n",
    "from ipyflex import FlexLayout\n",
    "from voila.utils import get_query_string\n",
    "from ticker import TickerData\n",
    "from widgets import (\n",
    "    financial_info_factory,\n",
    "    new_factory,\n",
    "    price_chart_factory,\n",
    "    price_history_factory,\n",
    "    text_widget,\n",
    "    balance_sheet_factory,\n",
    "    analysis_factory\n",
    ")\n",
    "from ipydatagrid import DataGrid"
   ]
  },
  {
   "cell_type": "code",
   "execution_count": 2,
   "id": "ebaae013-207f-4499-b602-1926f595cac4",
   "metadata": {},
   "outputs": [],
   "source": [
    "voila = os.getenv(\"VOILA_KERNEL_ID\")\n",
    "if voila is not None:\n",
    "    editable = True\n",
    "    height = \"calc(100vh - 60px)\"\n",
    "else:\n",
    "    editable = True\n",
    "    height = \"800px\""
   ]
  },
  {
   "cell_type": "code",
   "execution_count": 3,
   "id": "d2731aae-553a-4243-8e9b-1021329e4377",
   "metadata": {},
   "outputs": [],
   "source": [
    "w = FlexLayout(\n",
    "    style={\"height\": height},\n",
    "    header={\"title\": \"STOCK DASHBOAD\", \"style\": {\"backgroundColor\": \"rgb(53 53 53)\"}},\n",
    "    template=\"ticker2.json\",\n",
    "    editable=editable,\n",
    ")\n",
    "style = ipw.HTML(\"\"\"<style>.js-plotly-plot {height: 100%;}</style> \"\"\")"
   ]
  },
  {
   "cell_type": "code",
   "execution_count": 4,
   "id": "a9c6f911-d895-4a36-8982-b8ae76b994ca",
   "metadata": {
    "tags": []
   },
   "outputs": [
    {
     "data": {
      "application/vnd.jupyter.widget-view+json": {
       "model_id": "a37246fe6ed44b9b8bb4c5de96e0bef3",
       "version_major": 2,
       "version_minor": 0
      },
      "text/plain": [
       "VBox(children=(FlexLayout(header={'title': 'STOCK DASHBOAD', 'style': {'backgroundColor': 'rgb(53 53 53)'}, 'b…"
      ]
     },
     "metadata": {},
     "output_type": "display_data"
    }
   ],
   "source": [
    "ipw.VBox([w, style])"
   ]
  },
  {
   "cell_type": "code",
   "execution_count": 5,
   "id": "cbbd643e-e7e7-4890-9ffb-a6608d4ec26d",
   "metadata": {},
   "outputs": [],
   "source": [
    "query_string = get_query_string()\n",
    "ticker_name = \"NVDA\"\n",
    "if query_string is not None:\n",
    "    for item in query_string.split(\"?\"):\n",
    "        query = item.split(\"=\")\n",
    "        if len(query) > 1:\n",
    "            ticker_name = query[1]\n"
   ]
  },
  {
   "cell_type": "code",
   "execution_count": 6,
   "id": "69f9c03e-f04f-4307-9ee1-6c1519f1d0e5",
   "metadata": {},
   "outputs": [],
   "source": [
    "ticker = TickerData(ticker_name)\n",
    "news = new_factory(ticker.news)\n",
    "info = financial_info_factory(ticker.financial_info, ticker._info[\"logo_url\"])\n",
    "price = price_chart_factory(ticker.price(), ticker_name)\n",
    "history = price_history_factory(ticker.price('3y'), ticker_name)\n",
    "summary = text_widget(\"Business Summary \", ticker._info[\"longBusinessSummary\"])\n",
    "balance_sheet = balance_sheet_factory(ticker.balance_sheet)\n",
    "analysis = analysis_factory(ticker.analysis)\n",
    "widgets = {\n",
    "    \"news\": news,\n",
    "    \"info\": info,\n",
    "    \"price\": price,\n",
    "    \"history\": history,\n",
    "    \"summary\": summary,\n",
    "    \"balance_sheet\": balance_sheet,\n",
    "    \"analysis\": analysis\n",
    "}"
   ]
  },
  {
   "cell_type": "code",
   "execution_count": 7,
   "id": "599965a0-1ca7-4eb2-9a9d-30c505ea6be4",
   "metadata": {},
   "outputs": [],
   "source": [
    "for key, value in widgets.items():\n",
    "    w.add(key, value)\n"
   ]
  }
 ],
 "metadata": {
  "kernelspec": {
   "display_name": "Python 3 (ipykernel)",
   "language": "python",
   "name": "python3"
  },
  "language_info": {
   "codemirror_mode": {
    "name": "ipython",
    "version": 3
   },
   "file_extension": ".py",
   "mimetype": "text/x-python",
   "name": "python",
   "nbconvert_exporter": "python",
   "pygments_lexer": "ipython3",
   "version": "3.9.7"
  },
  "widgets": {
   "application/vnd.jupyter.widget-state+json": {
    "state": {
     "0042fb098811430887a89e65a59e1e5f": {
      "model_module": "@jupyter-widgets/base",
      "model_module_version": "1.2.0",
      "model_name": "LayoutModel",
      "state": {}
     },
     "00fe3a3499e84a369e8bdad34fea2e89": {
      "model_module": "@jupyter-widgets/base",
      "model_module_version": "1.2.0",
      "model_name": "LayoutModel",
      "state": {}
     },
     "03859d3e0d484ef68ef49107a52803b3": {
      "model_module": "jupyter-vuetify",
      "model_module_version": "^1.8.1",
      "model_name": "CardTitleModel",
      "state": {
       "_events": [],
       "_jupyter_vue": "IPY_MODEL_c0b82a7dc38f4c74854dac118d2d7baa",
       "attributes": {},
       "children": [
        "Why Nvidia Stock Popped Again on Monday"
       ],
       "layout": "IPY_MODEL_3e65bf423abc4168a20e84db5cc82664",
       "style_": "font-size: 1.1rem",
       "v_slots": []
      }
     },
     "039024dc4540497aacd38235bbe16328": {
      "model_module": "jupyter-vuetify",
      "model_module_version": "^1.8.1",
      "model_name": "CardModel",
      "state": {
       "_events": [],
       "_jupyter_vue": "IPY_MODEL_c0b82a7dc38f4c74854dac118d2d7baa",
       "attributes": {},
       "children": [
        "IPY_MODEL_388701a47a70481aade0700b7ccd3fc6",
        "IPY_MODEL_c6b422b8fa424b0e9d8bc2cc39e8c493"
       ],
       "elevation": null,
       "height": null,
       "href": null,
       "layout": "IPY_MODEL_f88c3837dd284a4a9f35e414fd61c9e8",
       "loader_height": null,
       "loading": null,
       "max_height": null,
       "max_width": null,
       "min_height": null,
       "min_width": null,
       "outlined": true,
       "ripple": null,
       "to": null,
       "v_slots": [],
       "width": null
      }
     },
     "04f390bbac624c38a5ae217e958d9530": {
      "model_module": "@jupyter-widgets/base",
      "model_module_version": "1.2.0",
      "model_name": "LayoutModel",
      "state": {}
     },
     "059c060c6f3b4e35aed1c095a4dcda6d": {
      "model_module": "@jupyter-widgets/base",
      "model_module_version": "1.2.0",
      "model_name": "LayoutModel",
      "state": {}
     },
     "0d5d47292f7246299788cf196eae453e": {
      "model_module": "jupyter-vuetify",
      "model_module_version": "^1.8.1",
      "model_name": "CardModel",
      "state": {
       "_events": [],
       "_jupyter_vue": "IPY_MODEL_c0b82a7dc38f4c74854dac118d2d7baa",
       "attributes": {},
       "children": [
        "IPY_MODEL_158761645212480d954729a6b057eec3",
        "IPY_MODEL_86907d45e7ca44d991b7cfdaf399e02c",
        "IPY_MODEL_36db9611d2ed4cefa74ff7ffe2351b78"
       ],
       "elevation": null,
       "height": null,
       "href": null,
       "layout": "IPY_MODEL_1cca4e1f7e864d9d993ecb238d3143f5",
       "loader_height": null,
       "loading": null,
       "max_height": null,
       "max_width": null,
       "min_height": null,
       "min_width": null,
       "outlined": true,
       "ripple": null,
       "to": null,
       "v_slots": [],
       "width": null
      }
     },
     "0de108088129488fb8eb89f92996fc52": {
      "model_module": "@jupyter-widgets/base",
      "model_module_version": "1.2.0",
      "model_name": "LayoutModel",
      "state": {}
     },
     "0e25d2f6b78e4b09968e241d65722eab": {
      "model_module": "jupyter-vuetify",
      "model_module_version": "^1.8.1",
      "model_name": "HtmlModel",
      "state": {
       "_events": [],
       "_jupyter_vue": "IPY_MODEL_c0b82a7dc38f4c74854dac118d2d7baa",
       "_model_module_version": "^1.8.1",
       "_view_module_version": "^1.8.1",
       "attributes": {},
       "children": [
        "IPY_MODEL_1af53b11a9bd4f7093ac137b81d3e64c",
        "IPY_MODEL_0e59cdaa85c940418613606e92dcad57",
        "IPY_MODEL_745efa790b4d441ba869a4347d8dbca5",
        "IPY_MODEL_9ec7588e23bb4286be41e9ee9a270446",
        "IPY_MODEL_a5079f78e631422fa30e6477dbdf56ea",
        "IPY_MODEL_741c911f3ff14c998c676a0e8ac25de9",
        "IPY_MODEL_332520b4f40c4cbd81049b4143cf999c"
       ],
       "class_": "d-flex flex-row",
       "layout": "IPY_MODEL_5a27ab1d3b3b4be398597b7099705eec",
       "style_": "flex-wrap: wrap",
       "tag": "div",
       "v_slots": []
      }
     },
     "0e59cdaa85c940418613606e92dcad57": {
      "model_module": "jupyter-vuetify",
      "model_module_version": "^1.8.1",
      "model_name": "CardModel",
      "state": {
       "_events": [],
       "_jupyter_vue": "IPY_MODEL_c0b82a7dc38f4c74854dac118d2d7baa",
       "attributes": {},
       "children": [
        "IPY_MODEL_73229445a041486eab813f0ae18b1c8a",
        "IPY_MODEL_c1cfe28060264473aa35d54cd31ca43b"
       ],
       "class_": "ma-1",
       "elevation": null,
       "height": null,
       "href": null,
       "layout": "IPY_MODEL_eeac77ab043e4759a3125e07e48c3e8c",
       "loader_height": null,
       "loading": null,
       "max_height": null,
       "max_width": null,
       "min_height": null,
       "min_width": null,
       "outlined": true,
       "ripple": null,
       "style_": "width: calc(14.28% - 8px); min-width: 150px",
       "to": null,
       "v_slots": [],
       "width": null
      }
     },
     "0f7c59fbc3ab45fbb98ead21ac9f3dcf": {
      "model_module": "jupyter-vuetify",
      "model_module_version": "^1.8.1",
      "model_name": "CardSubtitleModel",
      "state": {
       "_events": [],
       "_jupyter_vue": "IPY_MODEL_c0b82a7dc38f4c74854dac118d2d7baa",
       "attributes": {},
       "children": [
        "GuruFocus.com (02/07/2022, 19:38)"
       ],
       "layout": "IPY_MODEL_b98bfdd256344f44a8afda449517afeb",
       "v_slots": []
      }
     },
     "0fa335128da149b286a987465401fcf4": {
      "model_module": "@jupyter-widgets/base",
      "model_module_version": "1.2.0",
      "model_name": "LayoutModel",
      "state": {}
     },
     "1111fae177524ecf90efbf59af944df3": {
      "model_module": "jupyter-vuetify",
      "model_module_version": "^1.8.1",
      "model_name": "HtmlModel",
      "state": {
       "_events": [],
       "_jupyter_vue": "IPY_MODEL_c0b82a7dc38f4c74854dac118d2d7baa",
       "_model_module_version": "^1.8.1",
       "_view_module_version": "^1.8.1",
       "attributes": {},
       "children": [
        "IPY_MODEL_ffdeb2a2bcb048759b63f80ee89983b4",
        "IPY_MODEL_38237fdf8b954fd184d97f31aca0d7dc",
        "IPY_MODEL_888d8583c9e24b1a8ac6af224a61deb3",
        "IPY_MODEL_76854580c4744698a723adfd3e69240d",
        "IPY_MODEL_f84d6b0055df4f5cafa07cbb07ee8534",
        "IPY_MODEL_cda5c003371344479a5c0ebc7d408f02",
        "IPY_MODEL_0d5d47292f7246299788cf196eae453e",
        "IPY_MODEL_80af217720c14450bf683c9fbf66fc35"
       ],
       "class_": "d-flex flex-column",
       "layout": "IPY_MODEL_c599f27e38e14f52ac11e2bfbb0828c9",
       "tag": "div",
       "v_slots": []
      }
     },
     "122a66bed2064bde8589cccccd1eac64": {
      "model_module": "@jupyter-widgets/base",
      "model_module_version": "1.2.0",
      "model_name": "LayoutModel",
      "state": {}
     },
     "125c9ba1f040429382619cee07e41d13": {
      "model_module": "@jupyter-widgets/base",
      "model_module_version": "1.2.0",
      "model_name": "LayoutModel",
      "state": {}
     },
     "14f1de86839a4dd8b3acea2b0e4f4f4f": {
      "model_module": "ipydatagrid",
      "model_module_version": "^1.1.6",
      "model_name": "VegaExprModel",
      "state": {
       "_model_module_version": "^1.1.6",
       "_view_module": "ipydatagrid",
       "_view_module_version": "^1.1.6",
       "_view_name": "VegaExprView"
      }
     },
     "158761645212480d954729a6b057eec3": {
      "model_module": "jupyter-vuetify",
      "model_module_version": "^1.8.1",
      "model_name": "CardTitleModel",
      "state": {
       "_events": [],
       "_jupyter_vue": "IPY_MODEL_c0b82a7dc38f4c74854dac118d2d7baa",
       "attributes": {},
       "children": [
        "Tesla, Nvidia, Microsoft Regroup As Uptrend Looks To Firm Up"
       ],
       "layout": "IPY_MODEL_5a5305ad1a954a01aa30cf77d6606fde",
       "style_": "font-size: 1.1rem",
       "v_slots": []
      }
     },
     "1724ed7377d74802b5420be683c572d3": {
      "model_module": "jupyter-vuetify",
      "model_module_version": "^1.8.1",
      "model_name": "BtnModel",
      "state": {
       "_events": [],
       "_jupyter_vue": "IPY_MODEL_c0b82a7dc38f4c74854dac118d2d7baa",
       "attributes": {},
       "block": true,
       "children": [
        "Open"
       ],
       "elevation": null,
       "height": null,
       "href": "https://finance.yahoo.com/m/769699aa-507d-3001-9ff4-87488e458101/why-nvidia-stock-popped-again.html",
       "layout": "IPY_MODEL_5054092481c34693b39997bbbc31cc17",
       "max_height": null,
       "max_width": null,
       "min_height": null,
       "min_width": null,
       "ripple": null,
       "small": true,
       "target": "_blank",
       "text": true,
       "to": null,
       "v_slots": [],
       "width": null
      }
     },
     "18f9c6f2e5734daaa0d735a99abc9d13": {
      "model_module": "jupyter-vuetify",
      "model_module_version": "^1.8.1",
      "model_name": "CardActionsModel",
      "state": {
       "_events": [],
       "_jupyter_vue": "IPY_MODEL_c0b82a7dc38f4c74854dac118d2d7baa",
       "attributes": {},
       "children": [
        "IPY_MODEL_bb5aea2375d944eeb8f274756fa986c5"
       ],
       "layout": "IPY_MODEL_330f91356fba43258cba3c994eec3403",
       "v_slots": []
      }
     },
     "1a69213186ae4c57abdd079e1f070d13": {
      "model_module": "@jupyter-widgets/base",
      "model_module_version": "1.2.0",
      "model_name": "LayoutModel",
      "state": {}
     },
     "1af53b11a9bd4f7093ac137b81d3e64c": {
      "model_module": "jupyter-vuetify",
      "model_module_version": "^1.8.1",
      "model_name": "CardModel",
      "state": {
       "_events": [],
       "_jupyter_vue": "IPY_MODEL_c0b82a7dc38f4c74854dac118d2d7baa",
       "attributes": {},
       "children": [
        "IPY_MODEL_9da2530af62240ca945e9a50bc0f8bf1"
       ],
       "class_": "ma-1",
       "elevation": null,
       "height": null,
       "href": null,
       "layout": "IPY_MODEL_0042fb098811430887a89e65a59e1e5f",
       "loader_height": null,
       "loading": null,
       "max_height": null,
       "max_width": null,
       "min_height": null,
       "min_width": null,
       "outlined": true,
       "ripple": null,
       "style_": "width: calc(14.28% - 8px); min-width: 150px",
       "to": null,
       "v_slots": [],
       "width": null
      }
     },
     "1cca4e1f7e864d9d993ecb238d3143f5": {
      "model_module": "@jupyter-widgets/base",
      "model_module_version": "1.2.0",
      "model_name": "LayoutModel",
      "state": {}
     },
     "1d53c1ee1cb44300bca74a54029c2b1b": {
      "model_module": "jupyter-vuetify",
      "model_module_version": "^1.8.1",
      "model_name": "CardTextModel",
      "state": {
       "_events": [],
       "_jupyter_vue": "IPY_MODEL_c0b82a7dc38f4c74854dac118d2d7baa",
       "attributes": {},
       "children": [
        "24273999872"
       ],
       "layout": "IPY_MODEL_f99e7df7d7ad4a68998da7f755a58203",
       "v_slots": []
      }
     },
     "223ebfe5364f463a9263a1305d796816": {
      "model_module": "jupyter-vuetify",
      "model_module_version": "^1.8.1",
      "model_name": "CardTitleModel",
      "state": {
       "_events": [],
       "_jupyter_vue": "IPY_MODEL_c0b82a7dc38f4c74854dac118d2d7baa",
       "attributes": {},
       "children": [
        "Gross profit"
       ],
       "layout": "IPY_MODEL_4b42cc3c3e7b4e50ae24d6a62fbfc4c6",
       "style_": "font-size: 18px; color: #51ef98",
       "v_slots": []
      }
     },
     "25d3947e62e44bc0aedb73ab6136b664": {
      "model_module": "@jupyter-widgets/base",
      "model_module_version": "1.2.0",
      "model_name": "LayoutModel",
      "state": {}
     },
     "271606873e504ab0b2f677e32715d4bb": {
      "model_module": "@jupyter-widgets/base",
      "model_module_version": "1.2.0",
      "model_name": "LayoutModel",
      "state": {}
     },
     "2b5fc184b54a485fa33210542dcda224": {
      "model_module": "@jupyter-widgets/base",
      "model_module_version": "1.2.0",
      "model_name": "LayoutModel",
      "state": {}
     },
     "2de841e594e143fd90cfa7398aced018": {
      "model_module": "@jupyter-widgets/base",
      "model_module_version": "1.2.0",
      "model_name": "LayoutModel",
      "state": {}
     },
     "2eea3e55d030424f93c38462513fb557": {
      "model_module": "jupyter-vuetify",
      "model_module_version": "^1.8.1",
      "model_name": "CardSubtitleModel",
      "state": {
       "_events": [],
       "_jupyter_vue": "IPY_MODEL_c0b82a7dc38f4c74854dac118d2d7baa",
       "attributes": {},
       "children": [
        "GuruFocus.com (02/07/2022, 19:38)"
       ],
       "layout": "IPY_MODEL_bd8662af02e64f8488f9d489c6ee0c04",
       "v_slots": []
      }
     },
     "330f91356fba43258cba3c994eec3403": {
      "model_module": "@jupyter-widgets/base",
      "model_module_version": "1.2.0",
      "model_name": "LayoutModel",
      "state": {}
     },
     "332520b4f40c4cbd81049b4143cf999c": {
      "model_module": "jupyter-vuetify",
      "model_module_version": "^1.8.1",
      "model_name": "CardModel",
      "state": {
       "_events": [],
       "_jupyter_vue": "IPY_MODEL_c0b82a7dc38f4c74854dac118d2d7baa",
       "attributes": {},
       "children": [
        "IPY_MODEL_c68078da36204731bd46ca08142ce5de",
        "IPY_MODEL_6ae8f5de3eb94b01a0e8ed1a8dad8809"
       ],
       "class_": "ma-1",
       "elevation": null,
       "height": null,
       "href": null,
       "layout": "IPY_MODEL_125c9ba1f040429382619cee07e41d13",
       "loader_height": null,
       "loading": null,
       "max_height": null,
       "max_width": null,
       "min_height": null,
       "min_width": null,
       "outlined": true,
       "ripple": null,
       "style_": "width: calc(14.28% - 8px); min-width: 150px",
       "to": null,
       "v_slots": [],
       "width": null
      }
     },
     "36db9611d2ed4cefa74ff7ffe2351b78": {
      "model_module": "jupyter-vuetify",
      "model_module_version": "^1.8.1",
      "model_name": "CardActionsModel",
      "state": {
       "_events": [],
       "_jupyter_vue": "IPY_MODEL_c0b82a7dc38f4c74854dac118d2d7baa",
       "attributes": {},
       "children": [
        "IPY_MODEL_f03176e5abb249b1b0e4e92541e567a1"
       ],
       "layout": "IPY_MODEL_059c060c6f3b4e35aed1c095a4dcda6d",
       "v_slots": []
      }
     },
     "37918d2dfd78410b86b18ce37f6e973e": {
      "model_module": "jupyter-vuetify",
      "model_module_version": "^1.8.1",
      "model_name": "CardTitleModel",
      "state": {
       "_events": [],
       "_jupyter_vue": "IPY_MODEL_c0b82a7dc38f4c74854dac118d2d7baa",
       "attributes": {},
       "children": [
        "Satovsky Asset Management Llc Buys Vanguard Total Stock Market ETF, Mondelez International Inc, ..."
       ],
       "layout": "IPY_MODEL_1a69213186ae4c57abdd079e1f070d13",
       "style_": "font-size: 1.1rem",
       "v_slots": []
      }
     },
     "38237fdf8b954fd184d97f31aca0d7dc": {
      "model_module": "jupyter-vuetify",
      "model_module_version": "^1.8.1",
      "model_name": "CardModel",
      "state": {
       "_events": [],
       "_jupyter_vue": "IPY_MODEL_c0b82a7dc38f4c74854dac118d2d7baa",
       "attributes": {},
       "children": [
        "IPY_MODEL_37918d2dfd78410b86b18ce37f6e973e",
        "IPY_MODEL_c33096e2d1d4438bb146cc44adcdbecd",
        "IPY_MODEL_18f9c6f2e5734daaa0d735a99abc9d13"
       ],
       "elevation": null,
       "height": null,
       "href": null,
       "layout": "IPY_MODEL_a8ba6fd1dc3f48bcaeca22bbc8468ade",
       "loader_height": null,
       "loading": null,
       "max_height": null,
       "max_width": null,
       "min_height": null,
       "min_width": null,
       "outlined": true,
       "ripple": null,
       "to": null,
       "v_slots": [],
       "width": null
      }
     },
     "388701a47a70481aade0700b7ccd3fc6": {
      "model_module": "jupyter-vuetify",
      "model_module_version": "^1.8.1",
      "model_name": "CardTitleModel",
      "state": {
       "_events": [],
       "_jupyter_vue": "IPY_MODEL_c0b82a7dc38f4c74854dac118d2d7baa",
       "attributes": {},
       "children": [
        "Business Summary "
       ],
       "layout": "IPY_MODEL_77b855821ee7436582c907dc52e76860",
       "style_": "font-size: 1.1rem",
       "v_slots": []
      }
     },
     "3acb65f8c45a45d78f4b98b391f66b96": {
      "model_module": "ipydatagrid",
      "model_module_version": "^1.1.6",
      "model_name": "VegaExprModel",
      "state": {
       "_model_module_version": "^1.1.6",
       "_view_module": "ipydatagrid",
       "_view_module_version": "^1.1.6",
       "_view_name": "VegaExprView"
      }
     },
     "3e65bf423abc4168a20e84db5cc82664": {
      "model_module": "@jupyter-widgets/base",
      "model_module_version": "1.2.0",
      "model_name": "LayoutModel",
      "state": {}
     },
     "3fb8726e12e74a6c91b2e6009af7d911": {
      "model_module": "jupyter-vuetify",
      "model_module_version": "^1.8.1",
      "model_name": "CardTitleModel",
      "state": {
       "_events": [],
       "_jupyter_vue": "IPY_MODEL_c0b82a7dc38f4c74854dac118d2d7baa",
       "attributes": {},
       "children": [
        "PE Ratio"
       ],
       "layout": "IPY_MODEL_532ecd4fc83e4970a30b975684cde967",
       "style_": "font-size: 18px; color: #51ef98",
       "v_slots": []
      }
     },
     "438256b415314ea38a9e6c1a891e893f": {
      "model_module": "@jupyter-widgets/base",
      "model_module_version": "1.2.0",
      "model_name": "LayoutModel",
      "state": {}
     },
     "46dd494a815b494199f7ff0127232bd7": {
      "model_module": "@jupyter-widgets/base",
      "model_module_version": "1.2.0",
      "model_name": "LayoutModel",
      "state": {}
     },
     "4b42cc3c3e7b4e50ae24d6a62fbfc4c6": {
      "model_module": "@jupyter-widgets/base",
      "model_module_version": "1.2.0",
      "model_name": "LayoutModel",
      "state": {}
     },
     "4d3f3081311c438ab78aba482e2d3bc9": {
      "model_module": "jupyter-vuetify",
      "model_module_version": "^1.8.1",
      "model_name": "CardTitleModel",
      "state": {
       "_events": [],
       "_jupyter_vue": "IPY_MODEL_c0b82a7dc38f4c74854dac118d2d7baa",
       "attributes": {},
       "children": [
        "Is Roblox Stock A Buy Right Now After Hitting All-Time Lows?"
       ],
       "layout": "IPY_MODEL_9e89d2df40cc446e846b1a1616ec5a56",
       "style_": "font-size: 1.1rem",
       "v_slots": []
      }
     },
     "4dccc7610fed40ffac57b3d2026371a6": {
      "model_module": "jupyter-vuetify",
      "model_module_version": "^1.8.1",
      "model_name": "ThemeColorsModel",
      "state": {
       "_model_module_version": "^1.8.1",
       "_theme_name": "dark",
       "_view_module": null,
       "_view_module_version": "^1.8.1",
       "accent": "#FF4081",
       "error": "#FF5252",
       "info": "#2196F3",
       "primary": "#2196F3",
       "secondary": "#424242",
       "success": "#4CAF50",
       "warning": "#FB8C00"
      }
     },
     "5054092481c34693b39997bbbc31cc17": {
      "model_module": "@jupyter-widgets/base",
      "model_module_version": "1.2.0",
      "model_name": "LayoutModel",
      "state": {}
     },
     "507b6a5081734ba9a0d9150bc8fde7e6": {
      "model_module": "@jupyter-widgets/base",
      "model_module_version": "1.2.0",
      "model_name": "LayoutModel",
      "state": {}
     },
     "5087fa8a709044e5995da916b40b94ee": {
      "model_module": "@jupyter-widgets/base",
      "model_module_version": "1.2.0",
      "model_name": "LayoutModel",
      "state": {}
     },
     "50909dbbfb224b3abf1bdec451c76549": {
      "model_module": "@jupyter-widgets/base",
      "model_module_version": "1.2.0",
      "model_name": "LayoutModel",
      "state": {
       "height": "100%"
      }
     },
     "514ff23864b546b6a2441af7bada90a6": {
      "model_module": "@jupyter-widgets/base",
      "model_module_version": "1.2.0",
      "model_name": "LayoutModel",
      "state": {}
     },
     "532ecd4fc83e4970a30b975684cde967": {
      "model_module": "@jupyter-widgets/base",
      "model_module_version": "1.2.0",
      "model_name": "LayoutModel",
      "state": {}
     },
     "5358225e3fa94fb283fd7f638cbffd2a": {
      "model_module": "jupyter-vuetify",
      "model_module_version": "^1.8.1",
      "model_name": "CardTitleModel",
      "state": {
       "_events": [],
       "_jupyter_vue": "IPY_MODEL_c0b82a7dc38f4c74854dac118d2d7baa",
       "attributes": {},
       "children": [
        "Debt to equity"
       ],
       "layout": "IPY_MODEL_66ffafda29ab4036a15e215ea0181312",
       "style_": "font-size: 18px; color: #51ef98",
       "v_slots": []
      }
     },
     "5847c890864d4aabb7b7a7a50e2f9173": {
      "model_module": "jupyter-vuetify",
      "model_module_version": "^1.8.1",
      "model_name": "CardActionsModel",
      "state": {
       "_events": [],
       "_jupyter_vue": "IPY_MODEL_c0b82a7dc38f4c74854dac118d2d7baa",
       "attributes": {},
       "children": [
        "IPY_MODEL_1724ed7377d74802b5420be683c572d3"
       ],
       "layout": "IPY_MODEL_7581a61ad20140829b5e9fe55311870c",
       "v_slots": []
      }
     },
     "59889d4f4039415089dc88d13f6c71d7": {
      "model_module": "ipyflex",
      "model_module_version": "^0.2.0",
      "model_name": "FlexLayoutModel",
      "state": {
       "_model_module_version": "^0.2.0",
       "_view_module_version": "^0.2.0",
       "children": {
        "analysis": "IPY_MODEL_864740ca7c914f0a821e3bc02f738d42",
        "balance_sheet": "IPY_MODEL_f94c75cab4ea4a0a9ff82d5de6553bfa",
        "history": "IPY_MODEL_f9f699ee6bd94cec857542c5bac9037e",
        "info": "IPY_MODEL_0e25d2f6b78e4b09968e241d65722eab",
        "news": "IPY_MODEL_1111fae177524ecf90efbf59af944df3",
        "price": "IPY_MODEL_99db359a648b42c1b6860873fe78ccd3",
        "summary": "IPY_MODEL_039024dc4540497aacd38235bbe16328"
       },
       "header": {
        "buttons": [
         "save",
         "export",
         "import"
        ],
        "style": {
         "backgroundColor": "rgb(53 53 53)"
        },
        "title": "STOCK DASHBOAD"
       },
       "layout": "IPY_MODEL_7390aa827a1c4ef0bba59c6217800fca",
       "style": {
        "height": "800px"
       },
       "template": "ticker2.json",
       "template_json": {
        "borders": [],
        "global": {
         "tabEnableClose": true,
         "tabEnableDrag": true,
         "tabEnableRename": true,
         "tabSetEnableClose": true,
         "tabSetEnableDrag": true,
         "tabSetEnableMaximize": true,
         "tabSetTabLocation": "bottom"
        },
        "layout": {
         "children": [
          {
           "active": true,
           "children": [
            {
             "component": "sub",
             "config": {
              "model": {
               "borders": [],
               "global": {
                "splitterSize": 8,
                "tabEnableClose": true,
                "tabEnableDrag": true,
                "tabEnableRename": true,
                "tabSetEnableClose": true,
                "tabSetEnableDrag": true,
                "tabSetEnableMaximize": true
               },
               "layout": {
                "children": [
                 {
                  "children": [
                   {
                    "children": [
                     {
                      "component": "Widget",
                      "config": {
                       "layoutID": "#3"
                      },
                      "id": "#a87b3280-3124-45b1-b27d-b2013e18d909",
                      "name": "info",
                      "type": "tab"
                     }
                    ],
                    "enableTabStrip": false,
                    "id": "#3d3408d4-23ab-4890-96cb-68ca893ce33f",
                    "type": "tabset",
                    "weight": 9.224533108444442
                   },
                   {
                    "active": true,
                    "children": [
                     {
                      "component": "Widget",
                      "config": {
                       "layoutID": "#3"
                      },
                      "id": "#b201d7b9-162a-4c5e-8cd7-c22cf588d908",
                      "name": "price",
                      "type": "tab"
                     }
                    ],
                    "enableTabStrip": true,
                    "id": "#d133afd2-958b-4444-a6a0-1f30eb0bc540",
                    "type": "tabset",
                    "weight": 22.432387331898983
                   },
                   {
                    "children": [
                     {
                      "children": [
                       {
                        "component": "Widget",
                        "config": {
                         "layoutID": "#3"
                        },
                        "id": "#684d775f-0cb7-482e-ac6c-9bf2e1131ad0",
                        "name": "history",
                        "type": "tab"
                       }
                      ],
                      "id": "#7bff3504-78f3-40c2-ba40-3e16277e6027",
                      "type": "tabset",
                      "weight": 50
                     },
                     {
                      "children": [
                       {
                        "component": "Widget",
                        "config": {
                         "layoutID": "#3"
                        },
                        "id": "#0f0dadf9-9656-4acc-bf36-0df239c310da",
                        "name": "summary",
                        "type": "tab"
                       }
                      ],
                      "id": "#db726913-cfca-494c-832d-067d919bdb39",
                      "type": "tabset",
                      "weight": 50
                     }
                    ],
                    "id": "#52547138-949a-449f-9db3-c6e9e8f2009f",
                    "type": "row",
                    "weight": 18.343079559656577
                   }
                  ],
                  "id": "#0feca7c7-cae8-4092-a88c-062aa6ba9fc9",
                  "type": "row"
                 },
                 {
                  "children": [
                   {
                    "component": "Widget",
                    "config": {
                     "layoutID": "#3"
                    },
                    "id": "#1df6b447-b834-4c28-8a34-8b73a0c18492",
                    "name": "news",
                    "type": "tab"
                   }
                  ],
                  "enableTabStrip": false,
                  "id": "#00d98f6c-14c5-4771-ade4-72f2ec80f3d6",
                  "type": "tabset",
                  "weight": 33.333333333333336
                 }
                ],
                "id": "#1",
                "type": "row"
               }
              }
             },
             "id": "#3",
             "name": "OVERVIEW",
             "type": "tab"
            }
           ],
           "id": "#2",
           "type": "tabset"
          }
         ],
         "id": "#1",
         "type": "row"
        }
       }
      }
     },
     "59dbbdd3d34d41adb80217ee1cf0738e": {
      "model_module": "jupyter-vuetify",
      "model_module_version": "^1.8.1",
      "model_name": "CardActionsModel",
      "state": {
       "_events": [],
       "_jupyter_vue": "IPY_MODEL_c0b82a7dc38f4c74854dac118d2d7baa",
       "attributes": {},
       "children": [
        "IPY_MODEL_e0ee7ce71d654cc2a27b15a802f96e5d"
       ],
       "layout": "IPY_MODEL_271606873e504ab0b2f677e32715d4bb",
       "v_slots": []
      }
     },
     "5a27ab1d3b3b4be398597b7099705eec": {
      "model_module": "@jupyter-widgets/base",
      "model_module_version": "1.2.0",
      "model_name": "LayoutModel",
      "state": {}
     },
     "5a5305ad1a954a01aa30cf77d6606fde": {
      "model_module": "@jupyter-widgets/base",
      "model_module_version": "1.2.0",
      "model_name": "LayoutModel",
      "state": {}
     },
     "5bf9a5107de74981a54b25d984a49d98": {
      "model_module": "@jupyter-widgets/base",
      "model_module_version": "1.2.0",
      "model_name": "LayoutModel",
      "state": {}
     },
     "5d192ab4e4d441dd80ead5c95ade1be2": {
      "model_module": "@jupyter-widgets/base",
      "model_module_version": "1.2.0",
      "model_name": "LayoutModel",
      "state": {}
     },
     "5f662800d9794ea6a12139c3969cc8fb": {
      "model_module": "jupyter-vuetify",
      "model_module_version": "^1.8.1",
      "model_name": "CardSubtitleModel",
      "state": {
       "_events": [],
       "_jupyter_vue": "IPY_MODEL_c0b82a7dc38f4c74854dac118d2d7baa",
       "attributes": {},
       "children": [
        "Investor's Business Daily (02/07/2022, 20:33)"
       ],
       "layout": "IPY_MODEL_46dd494a815b494199f7ff0127232bd7",
       "v_slots": []
      }
     },
     "622168f87d3b4b85ba5c8154e02fa342": {
      "model_module": "@jupyter-widgets/base",
      "model_module_version": "1.2.0",
      "model_name": "LayoutModel",
      "state": {}
     },
     "66ffafda29ab4036a15e215ea0181312": {
      "model_module": "@jupyter-widgets/base",
      "model_module_version": "1.2.0",
      "model_name": "LayoutModel",
      "state": {}
     },
     "67fdd75062a849ff9b46038f986ad4b7": {
      "model_module": "jupyter-vuetify",
      "model_module_version": "^1.8.1",
      "model_name": "BtnModel",
      "state": {
       "_events": [],
       "_jupyter_vue": "IPY_MODEL_c0b82a7dc38f4c74854dac118d2d7baa",
       "attributes": {},
       "block": true,
       "children": [
        "Open"
       ],
       "elevation": null,
       "height": null,
       "href": "https://finance.yahoo.com/news/visionpoint-advisory-group-llc-buys-183804197.html",
       "layout": "IPY_MODEL_25d3947e62e44bc0aedb73ab6136b664",
       "max_height": null,
       "max_width": null,
       "min_height": null,
       "min_width": null,
       "ripple": null,
       "small": true,
       "target": "_blank",
       "text": true,
       "to": null,
       "v_slots": [],
       "width": null
      }
     },
     "6ae8f5de3eb94b01a0e8ed1a8dad8809": {
      "model_module": "jupyter-vuetify",
      "model_module_version": "^1.8.1",
      "model_name": "CardTextModel",
      "state": {
       "_events": [],
       "_jupyter_vue": "IPY_MODEL_c0b82a7dc38f4c74854dac118d2d7baa",
       "attributes": {},
       "children": [
        "0.33806"
       ],
       "layout": "IPY_MODEL_8b1731e6de634363be33001c428ebf62",
       "v_slots": []
      }
     },
     "6b09051e13024e1a8a305102e198871d": {
      "model_module": "jupyter-vuetify",
      "model_module_version": "^1.8.1",
      "model_name": "CardSubtitleModel",
      "state": {
       "_events": [],
       "_jupyter_vue": "IPY_MODEL_c0b82a7dc38f4c74854dac118d2d7baa",
       "attributes": {},
       "children": [
        "Motley Fool (02/07/2022, 18:05)"
       ],
       "layout": "IPY_MODEL_2b5fc184b54a485fa33210542dcda224",
       "v_slots": []
      }
     },
     "6b122754f05447d782abb9abf3b05f7b": {
      "model_module": "@jupyter-widgets/base",
      "model_module_version": "1.2.0",
      "model_name": "LayoutModel",
      "state": {}
     },
     "720f7a126e1f4dc29078847b8cfc47cd": {
      "model_module": "jupyter-vuetify",
      "model_module_version": "^1.8.1",
      "model_name": "CardSubtitleModel",
      "state": {
       "_events": [],
       "_jupyter_vue": "IPY_MODEL_c0b82a7dc38f4c74854dac118d2d7baa",
       "attributes": {},
       "children": [
        "GuruFocus.com (02/07/2022, 19:38)"
       ],
       "layout": "IPY_MODEL_f8fad3dc7068472cb79caf114df900a5",
       "v_slots": []
      }
     },
     "72b21361ba7243a4b6af049730bb02cc": {
      "model_module": "jupyter-vuetify",
      "model_module_version": "^1.8.1",
      "model_name": "CardTextModel",
      "state": {
       "_events": [],
       "_jupyter_vue": "IPY_MODEL_c0b82a7dc38f4c74854dac118d2d7baa",
       "attributes": {},
       "children": [
        "49.697"
       ],
       "layout": "IPY_MODEL_c6649a0bf0904c749a03eb4b23c45033",
       "v_slots": []
      }
     },
     "73229445a041486eab813f0ae18b1c8a": {
      "model_module": "jupyter-vuetify",
      "model_module_version": "^1.8.1",
      "model_name": "CardTitleModel",
      "state": {
       "_events": [],
       "_jupyter_vue": "IPY_MODEL_c0b82a7dc38f4c74854dac118d2d7baa",
       "attributes": {},
       "children": [
        "Market cap"
       ],
       "layout": "IPY_MODEL_e18e2f5d85ec4f29b23b8e07c2dc9ce3",
       "style_": "font-size: 18px; color: #51ef98",
       "v_slots": []
      }
     },
     "7390aa827a1c4ef0bba59c6217800fca": {
      "model_module": "@jupyter-widgets/base",
      "model_module_version": "1.2.0",
      "model_name": "LayoutModel",
      "state": {}
     },
     "741c911f3ff14c998c676a0e8ac25de9": {
      "model_module": "jupyter-vuetify",
      "model_module_version": "^1.8.1",
      "model_name": "CardModel",
      "state": {
       "_events": [],
       "_jupyter_vue": "IPY_MODEL_c0b82a7dc38f4c74854dac118d2d7baa",
       "attributes": {},
       "children": [
        "IPY_MODEL_5358225e3fa94fb283fd7f638cbffd2a",
        "IPY_MODEL_72b21361ba7243a4b6af049730bb02cc"
       ],
       "class_": "ma-1",
       "elevation": null,
       "height": null,
       "href": null,
       "layout": "IPY_MODEL_122a66bed2064bde8589cccccd1eac64",
       "loader_height": null,
       "loading": null,
       "max_height": null,
       "max_width": null,
       "min_height": null,
       "min_width": null,
       "outlined": true,
       "ripple": null,
       "style_": "width: calc(14.28% - 8px); min-width: 150px",
       "to": null,
       "v_slots": [],
       "width": null
      }
     },
     "745efa790b4d441ba869a4347d8dbca5": {
      "model_module": "jupyter-vuetify",
      "model_module_version": "^1.8.1",
      "model_name": "CardModel",
      "state": {
       "_events": [],
       "_jupyter_vue": "IPY_MODEL_c0b82a7dc38f4c74854dac118d2d7baa",
       "attributes": {},
       "children": [
        "IPY_MODEL_3fb8726e12e74a6c91b2e6009af7d911",
        "IPY_MODEL_d7bcc8b6ffec494ead3d1bb00ef3cf4f"
       ],
       "class_": "ma-1",
       "elevation": null,
       "height": null,
       "href": null,
       "layout": "IPY_MODEL_e90db28c0bfd4ec49bb0ef72e402c3ca",
       "loader_height": null,
       "loading": null,
       "max_height": null,
       "max_width": null,
       "min_height": null,
       "min_width": null,
       "outlined": true,
       "ripple": null,
       "style_": "width: calc(14.28% - 8px); min-width: 150px",
       "to": null,
       "v_slots": [],
       "width": null
      }
     },
     "7581a61ad20140829b5e9fe55311870c": {
      "model_module": "@jupyter-widgets/base",
      "model_module_version": "1.2.0",
      "model_name": "LayoutModel",
      "state": {}
     },
     "76854580c4744698a723adfd3e69240d": {
      "model_module": "jupyter-vuetify",
      "model_module_version": "^1.8.1",
      "model_name": "CardModel",
      "state": {
       "_events": [],
       "_jupyter_vue": "IPY_MODEL_c0b82a7dc38f4c74854dac118d2d7baa",
       "attributes": {},
       "children": [
        "IPY_MODEL_fccc675b1f8d41e1bb8fe256d2d58f82",
        "IPY_MODEL_2eea3e55d030424f93c38462513fb557",
        "IPY_MODEL_ddeebf13e13245ff9f8b35146728dc1c"
       ],
       "elevation": null,
       "height": null,
       "href": null,
       "layout": "IPY_MODEL_5d192ab4e4d441dd80ead5c95ade1be2",
       "loader_height": null,
       "loading": null,
       "max_height": null,
       "max_width": null,
       "min_height": null,
       "min_width": null,
       "outlined": true,
       "ripple": null,
       "to": null,
       "v_slots": [],
       "width": null
      }
     },
     "77b855821ee7436582c907dc52e76860": {
      "model_module": "@jupyter-widgets/base",
      "model_module_version": "1.2.0",
      "model_name": "LayoutModel",
      "state": {}
     },
     "79988c39860c40f1b80003297272b838": {
      "model_module": "@jupyter-widgets/base",
      "model_module_version": "1.2.0",
      "model_name": "LayoutModel",
      "state": {}
     },
     "80af217720c14450bf683c9fbf66fc35": {
      "model_module": "jupyter-vuetify",
      "model_module_version": "^1.8.1",
      "model_name": "CardModel",
      "state": {
       "_events": [],
       "_jupyter_vue": "IPY_MODEL_c0b82a7dc38f4c74854dac118d2d7baa",
       "attributes": {},
       "children": [
        "IPY_MODEL_03859d3e0d484ef68ef49107a52803b3",
        "IPY_MODEL_6b09051e13024e1a8a305102e198871d",
        "IPY_MODEL_5847c890864d4aabb7b7a7a50e2f9173"
       ],
       "elevation": null,
       "height": null,
       "href": null,
       "layout": "IPY_MODEL_0de108088129488fb8eb89f92996fc52",
       "loader_height": null,
       "loading": null,
       "max_height": null,
       "max_width": null,
       "min_height": null,
       "min_width": null,
       "outlined": true,
       "ripple": null,
       "to": null,
       "v_slots": [],
       "width": null
      }
     },
     "815509ebd7244eae9923afea21cc7c8c": {
      "model_module": "@jupyter-widgets/base",
      "model_module_version": "1.2.0",
      "model_name": "LayoutModel",
      "state": {}
     },
     "83ddd4d4c6f746b3a1f23f825918f81a": {
      "model_module": "@jupyter-widgets/base",
      "model_module_version": "1.2.0",
      "model_name": "LayoutModel",
      "state": {}
     },
     "864740ca7c914f0a821e3bc02f738d42": {
      "model_module": "jupyter-vuetify",
      "model_module_version": "^1.8.1",
      "model_name": "DataTableModel",
      "state": {
       "_events": [],
       "_jupyter_vue": "IPY_MODEL_c0b82a7dc38f4c74854dac118d2d7baa",
       "attributes": {},
       "children": [],
       "group_by": null,
       "group_desc": null,
       "headers": [
        {
         "align": "start",
         "sortable": false,
         "text": "Property",
         "value": "name"
        },
        {
         "text": "0Q",
         "value": "0Q"
        },
        {
         "text": "+1Q",
         "value": "+1Q"
        },
        {
         "text": "0Y",
         "value": "0Y"
        },
        {
         "text": "+1Y",
         "value": "+1Y"
        },
        {
         "text": "+5Y",
         "value": "+5Y"
        },
        {
         "text": "-5Y",
         "value": "-5Y"
        }
       ],
       "height": null,
       "items": [
        {
         "+1Q": 1,
         "+1Y": 1,
         "+5Y": 1,
         "-5Y": 1,
         "0Q": 1,
         "0Y": 1,
         "name": "Max Age"
        },
        {
         "+1Q": 1651276800000,
         "+1Y": 1675123200000,
         "+5Y": null,
         "-5Y": null,
         "0Q": 1643587200000,
         "0Y": 1643587200000,
         "name": "End Date"
        },
        {
         "+1Q": 0.286,
         "+1Y": 0.191,
         "+5Y": 0.3937,
         "-5Y": 0.52827,
         "0Q": 0.584,
         "0Y": 0.736,
         "name": "Growth"
        },
        {
         "+1Q": 1.17,
         "+1Y": 5.17,
         "+5Y": null,
         "-5Y": null,
         "0Q": 1.22,
         "0Y": 4.34,
         "name": "Earnings Estimate Avg"
        },
        {
         "+1Q": 1.02,
         "+1Y": 4.32,
         "+5Y": null,
         "-5Y": null,
         "0Q": 1.2,
         "0Y": 4.32,
         "name": "Earnings Estimate Low"
        },
        {
         "+1Q": 1.31,
         "+1Y": 6,
         "+5Y": null,
         "-5Y": null,
         "0Q": 1.25,
         "0Y": 4.37,
         "name": "Earnings Estimate High"
        },
        {
         "+1Q": 0.91,
         "+1Y": 4.34,
         "+5Y": null,
         "-5Y": null,
         "0Q": 0.77,
         "0Y": 2.5,
         "name": "Earnings Estimate Year Ago Eps"
        },
        {
         "+1Q": 30,
         "+1Y": 36,
         "+5Y": null,
         "-5Y": null,
         "0Q": 31,
         "0Y": 35,
         "name": "Earnings Estimate Number Of Analysts"
        },
        {
         "+1Q": 0.286,
         "+1Y": 0.191,
         "+5Y": null,
         "-5Y": null,
         "0Q": 0.584,
         "0Y": 0.736,
         "name": "Earnings Estimate Growth"
        },
        {
         "+1Q": 7276150000,
         "+1Y": 31753500000,
         "+5Y": null,
         "-5Y": null,
         "0Q": 7416710000,
         "0Y": 26682000000,
         "name": "Revenue Estimate Avg"
        },
        {
         "+1Q": 6315000000,
         "+1Y": 28658000000,
         "+5Y": null,
         "-5Y": null,
         "0Q": 7341000000,
         "0Y": 26517000000,
         "name": "Revenue Estimate Low"
        },
        {
         "+1Q": 7644910000,
         "+1Y": 34396000000,
         "+5Y": null,
         "-5Y": null,
         "0Q": 7592710000,
         "0Y": 26871000000,
         "name": "Revenue Estimate High"
        },
        {
         "+1Q": 30,
         "+1Y": 40,
         "+5Y": null,
         "-5Y": null,
         "0Q": 32,
         "0Y": 41,
         "name": "Revenue Estimate Number Of Analysts"
        },
        {
         "+1Q": 5661000000,
         "+1Y": 26682000000,
         "+5Y": null,
         "-5Y": null,
         "0Q": 5003000000,
         "0Y": 16675000000,
         "name": "Revenue Estimate Year Ago Revenue"
        },
        {
         "+1Q": 0.285,
         "+1Y": 0.19,
         "+5Y": null,
         "-5Y": null,
         "0Q": 0.482,
         "0Y": 0.6,
         "name": "Revenue Estimate Growth"
        },
        {
         "+1Q": 1.17,
         "+1Y": 5.17,
         "+5Y": null,
         "-5Y": null,
         "0Q": 1.22,
         "0Y": 4.34,
         "name": "Eps Trend Current"
        },
        {
         "+1Q": 1.17,
         "+1Y": 5.17,
         "+5Y": null,
         "-5Y": null,
         "0Q": 1.22,
         "0Y": 4.34,
         "name": "Eps Trend 7Days Ago"
        },
        {
         "+1Q": 1.17,
         "+1Y": 5.21,
         "+5Y": null,
         "-5Y": null,
         "0Q": 1.22,
         "0Y": 4.34,
         "name": "Eps Trend 30Days Ago"
        },
        {
         "+1Q": 1.17,
         "+1Y": 5.2,
         "+5Y": null,
         "-5Y": null,
         "0Q": 1.22,
         "0Y": 4.34,
         "name": "Eps Trend 60Days Ago"
        },
        {
         "+1Q": 1.03,
         "+1Y": 4.67,
         "+5Y": null,
         "-5Y": null,
         "0Q": 1.08,
         "0Y": 4.13,
         "name": "Eps Trend 90Days Ago"
        },
        {
         "+1Q": 0,
         "+1Y": 0,
         "+5Y": null,
         "-5Y": null,
         "0Q": 0,
         "0Y": 0,
         "name": "Eps Revisions Up Last7Days"
        },
        {
         "+1Q": 2,
         "+1Y": 3,
         "+5Y": null,
         "-5Y": null,
         "0Q": 2,
         "0Y": 3,
         "name": "Eps Revisions Up Last30Days"
        },
        {
         "+1Q": 0,
         "+1Y": 1,
         "+5Y": null,
         "-5Y": null,
         "0Q": 0,
         "0Y": 0,
         "name": "Eps Revisions Down Last30Days"
        },
        {
         "+1Q": null,
         "+1Y": null,
         "+5Y": null,
         "-5Y": null,
         "0Q": null,
         "0Y": null,
         "name": "Eps Revisions Down Last90Days"
        }
       ],
       "layout": "IPY_MODEL_ae8414d4468d4721b40f9514fbfeeb35",
       "loading": null,
       "mobile_breakpoint": null,
       "sort_by": null,
       "sort_desc": null,
       "v_slots": []
      }
     },
     "86907d45e7ca44d991b7cfdaf399e02c": {
      "model_module": "jupyter-vuetify",
      "model_module_version": "^1.8.1",
      "model_name": "CardSubtitleModel",
      "state": {
       "_events": [],
       "_jupyter_vue": "IPY_MODEL_c0b82a7dc38f4c74854dac118d2d7baa",
       "attributes": {},
       "children": [
        "Investor's Business Daily (02/07/2022, 19:37)"
       ],
       "layout": "IPY_MODEL_e6d3eee62b974bc2940d4d0cccbe1dad",
       "v_slots": []
      }
     },
     "888d8583c9e24b1a8ac6af224a61deb3": {
      "model_module": "jupyter-vuetify",
      "model_module_version": "^1.8.1",
      "model_name": "CardModel",
      "state": {
       "_events": [],
       "_jupyter_vue": "IPY_MODEL_c0b82a7dc38f4c74854dac118d2d7baa",
       "attributes": {},
       "children": [
        "IPY_MODEL_d81f3dba9957413b8a65ae78ec9476e5",
        "IPY_MODEL_0f7c59fbc3ab45fbb98ead21ac9f3dcf",
        "IPY_MODEL_59dbbdd3d34d41adb80217ee1cf0738e"
       ],
       "elevation": null,
       "height": null,
       "href": null,
       "layout": "IPY_MODEL_c824d0531e5d4da9a9b4e5c70b905802",
       "loader_height": null,
       "loading": null,
       "max_height": null,
       "max_width": null,
       "min_height": null,
       "min_width": null,
       "outlined": true,
       "ripple": null,
       "to": null,
       "v_slots": [],
       "width": null
      }
     },
     "8a4ca3ebfb3d40099020bdb74fe29dc9": {
      "model_module": "jupyter-vuetify",
      "model_module_version": "^1.8.1",
      "model_name": "CardTitleModel",
      "state": {
       "_events": [],
       "_jupyter_vue": "IPY_MODEL_c0b82a7dc38f4c74854dac118d2d7baa",
       "attributes": {},
       "children": [
        "Total revenue"
       ],
       "layout": "IPY_MODEL_6b122754f05447d782abb9abf3b05f7b",
       "style_": "font-size: 18px; color: #51ef98",
       "v_slots": []
      }
     },
     "8b1731e6de634363be33001c428ebf62": {
      "model_module": "@jupyter-widgets/base",
      "model_module_version": "1.2.0",
      "model_name": "LayoutModel",
      "state": {}
     },
     "9210d6d0c6f84d9c9fd27f0ecfe2df30": {
      "model_module": "jupyter-vuetify",
      "model_module_version": "^1.8.1",
      "model_name": "CardTextModel",
      "state": {
       "_events": [],
       "_jupyter_vue": "IPY_MODEL_c0b82a7dc38f4c74854dac118d2d7baa",
       "attributes": {},
       "children": [
        "10557000000"
       ],
       "layout": "IPY_MODEL_04f390bbac624c38a5ae217e958d9530",
       "v_slots": []
      }
     },
     "99db359a648b42c1b6860873fe78ccd3": {
      "buffers": [
       {
        "data": "AAAAwHVcaUAAAABAneloQAAAAADMnWhAAAAAgLLfaEAAAAAAOzppQAAAAMAX7mhAAAAAQLNQaEAAAADA+spnQAAAAMB3vWhAAAAAYCEDakAAAAAAdnBrQAAAACCtO2tAAAAAgAnCa0AAAABgppNrQAAAAEBbSWxAAAAA4P1ZbEAAAADAUvprQAAAAKA9DGxAAAAAwNf9a0AAAABg3YxsQAAAAMDzUmxAAAAA4Jrra0AAAACAxbdrQAAAAEAUGGxAAAAAwMWva0AAAACAkcxrQAAAAKA+7GtAAAAAgJHMa0AAAABgJF9rQAAAAEBVY2pAAAAAQOONakAAAADAQmxrQAAAAABcGWxAAAAAAA6Za0AAAAAAWhJrQAAAAIDe3mlAAAAA4KKkaUAAAAAAT+RpQAAAAKCg7GlAAAAAoHepaEAAAADAhI9pQAAAAGAw32lAAAAAoCxXakAAAACgGglqQAAAAOCW3WlAAAAAAOnVaUAAAADgqCtqQAAAAEDeLWtAAAAAwPtSa0AAAABgK8ZrQAAAAEDt22tAAAAAIBiga0AAAAAAjVxsQAAAAABuZ2xAAAAAYDb0bEAAAADAeORuQAAAAKBcj25AAAAAoCQsb0AAAABAcPRvQAAAAGDQI3BAAAAAoKR/cEAAAADAKJ9wQAAAAICTn3JAAAAAoLyXckAAAABgCUBzQAAAAACFKHNAAAAA4NxockAAAAAAzv1yQAAAAADO/XJAAAAAYGnDckAAAABg499yQAAAAMAvSXJAAAAAIGHLc0AAAABA9Jx0QAAAAIBV+HNAAAAA4LzWc0AAAAAgM2t0QAAAAODcr3NAAAAAoIHbdEAAAAAghWt0QAAAAKCZpXNAAAAAACkUdEAAAABA4S5zQAAAAIDrxXJAAAAA4FFEdEAAAAAAKeRzQAAAAGBmDnNAAAAAIK7fckAAAACAwplxQAAAAIDrtXFAAAAAoHAJc0AAAACA671xQAAAAAApYHFAAAAAQApTcUAAAAAAACxyQAAAAAAAYHJAAAAAYGaGckAAAABAM1dzQAAAACCF83JAAAAAACnAckAAAACAwn1yQAAAAIDCYXJAAAAAIFzTckAAAABgZk5yQAAAAOCjQHFAAAAA4HqccUAAAAAghQdxQAAAAAAAIHFAAAAAYLhicUAAAAAA139xQAAAAAAAnHBAAAAAYLjWcEAAAADgejBwQAAAAKBwVW9AAAAAAAAwbkAAAAAgrjdtQAAAAEAKN21AAAAAIK7na0AAAABACndsQAAAAIAUbmtAAAAAwMyMbEAAAAAghZtuQAAAAAApzG5AAAAAoHCNb0AAAAAgXO9tQAAAAIAUZm5AAAAAwPXobkA=",
        "encoding": "base64",
        "path": [
         "_data",
         0,
         "close",
         "value"
        ]
       },
       {
        "data": "1ACuiZmgaUBj7ymppYdpQJqZE2/DDWlAmLkmd10HaUAxmSE9jEJpQAAAnIDmWWlAa+eVnYK0aEDFjkO2AIloQCf3gfJwnGlAksgMLc4SakAb06nr73xrQO3L7M/HcGtA2KY6lkAUbEAt47j3qeprQMuVS0XeZGxAnjVgsI7LbECxFBnEgl1sQHt1jY4mXmxArKcv5t88bEDA3M2QnrpsQOw0l3/InmxAHgdYiFBCbECollEBRytsQG9R6ONuR2xAQKKam5SzbECnA45wUgJsQAF4Oj2Q9GtAMUsdZsTXa0AdmCmH2OVrQP4oZWq4yWpAkdNTFCnHakA0hDoPV3JrQHbx6DdRKmxAfb1f8c+ua0Arohd70z5rQNVzJac9xWpArath3J1EakBlu3J9S1RqQDCXpBMQEmpAt+2RoKKsaUAiwCkGjc5pQP1spYyW5WlAVvLNZTSmakDda2XdFoFqQDULas9VU2pAoDCpQGpRakCYoQ89+jtqQMP242i/MGtAHrDZjg9pa0CGttYuP9xrQI7+iztn+GtArdDscK4JbEBTUDVPoWJsQCV/9bKx6GxAcrWqWq8wbUC32YXw45FvQJeVNRfRW29AhxflyAUvb0CSMb257xBwQHrx/mmILnBAIpdyHPWrcECTjztR6rxwQNOAbgfJmXNAVTice2Kfc0DiufADZG9zQAzevZX3MHRARgAFRmVHc0A/skj/zB1zQM01w+syLHNAG3MKhXAmc0CnNN/vzf1yQM4is53XEHNAQo/QTvV4dEAc6cybbq10QGwtY2HXpnVANeCAS/c4dECcqZr3J4h0QNwxSJL1cHRA0QLJ8UPhdEAF5NCa09d0QAAAAIA9znRAAAAA4HpMdEAAAADgoxR0QAAAAGCP5nJAAAAAANdHdEAAAABgZi50QAAAAMDMIHRAAAAAwMyQc0AAAABACu9yQAAAAOB67HFAAAAAAAAQc0AAAACgmXlzQAAAACCFE3JAAAAAQAqXcUAAAABAMzNyQAAAAMDMeHJAAAAAoHDJckAAAACA621zQAAAAMDMlHNAAAAAIK4Xc0AAAADAHglzQAAAAMDMxHJAAAAAgMIxc0AAAABA4QpzQAAAAGCPYnJAAAAAgBTGcUAAAAAghcNxQAAAAEAKK3FAAAAAYGaKcUAAAABAM99xQAAAAMDMzHFAAAAAIIX/cEAAAACAFKZwQAAAAEDhlnBAAAAAoEf5b0AAAAAgXAdvQAAAAKCZOW1AAAAAgMKtbEAAAACAPRJuQAAAAGBm/m1AAAAAYI+SbEAAAABA4aJuQAAAAGBmbm9AAAAAYLgicEAAAADgo1hvQAAAAEAzy25AAAAAoJl5b0A=",
        "encoding": "base64",
        "path": [
         "_data",
         0,
         "high",
         "value"
        ]
       },
       {
        "data": "hQYxmNUraUAKBL/YTcloQOZ5axW+R2hAEVmEOYaEaEAPrBQfbM5oQGwo1qkZT2hAYuN0LJkTaEBiN576Lr5nQDGcvPgLcmdABxJ6m6foaECkRyxL/y1qQHd6fTAk6WpAkQx9w/Yka0Ch395ttzprQG/L0TlSs2tA/vUjGioubED6SV+IiKVrQExluTdd8WtAZYpUw4bda0AzHRZTIb9rQMYQZWcoJmxA9dE/gcd3a0DzPRWWDalrQLyiL/aG1WtANDiyMrRRa0BgDqCQp5prQFaGEmNCdGtAClj06Mdna0D867WzvkhrQLjz88UH02lAYCwi2C0vakBK5FPY431qQEF4GzDxW2tAY4r11KlSa0Ck1SwcKqdqQGOBQruCz2lACKJcYKOUaUDfQuKHWdtpQDPAsicrQGlA0kNlhtVwaECkkup8gNBoQBfS/TfQGGlAEi926Dc2akC/ir+vL/dpQA56Sni3omlAqX1CzyeoaUAhez5EWeNpQA+OU2I2ZmpA/LZ5wf0Sa0AlhApsOw1rQMpRbAn6imtAUXeXFmF5a0C0+uHbsZlrQC6hiueiMmxAKf7j+IF1bECAVt4zvuZtQL4y8vFJWW5AElImMWambkAPpYVPBT9vQFBwVuSmh29AR/1vo34fcEAYWPwRFmVwQKWXpjVZ8nBATyMzFwZhckDkA72/iLByQNDcujmnuXJAY1Jfiur7cUCM09WSvJtyQAGOhS84hHJAZhMoZ/JGckBPCDS+YJByQGl4349v/3FAXTeNBr+Sc0C8mSzKLPBzQDz64wdg73NAc6Qc2DFMc0CyjMnB31NzQJVeccRil3NAWWxK2CEFdECIIoKynelzQAAAAMDMnHNAAAAAAABkc0AAAADAzNRyQAAAAIAUhnFAAAAAACkoc0AAAAAgXKNzQAAAAOB6BHNAAAAAgMKpckAAAABgj5JxQAAAAAAACHFAAAAAgBRmcUAAAABA4Y5xQAAAAKCZWXFAAAAAQDP3cEAAAAAAKSBxQAAAAADXx3FAAAAAwPVkckAAAABgZoZyQAAAAIDrwXJAAAAAYI9ackAAAABgZnZyQAAAAMD1VHJAAAAAoJmdckAAAAAA17dxQAAAAKBHNXFAAAAAYGbqcEAAAADAHulwQAAAAEAKB3BAAAAAgD3GcEAAAACgR0FxQAAAACCuj3BAAAAAoJlhcEAAAABAMxtwQAAAAOCjUG9AAAAAwPUYbkAAAAAAKRRtQAAAAAApHGpAAAAAAACAa0AAAAAAAOBrQAAAAAAAGGtAAAAAYLieakAAAADgo9BsQAAAAMDM3G1AAAAAwPWwbkAAAACgmbltQAAAAIA9im1AAAAA4KNAbkA=",
        "encoding": "base64",
        "path": [
         "_data",
         0,
         "low",
         "value"
        ]
       },
       {
        "data": "sccRDsSMaUB1u8TtGGVpQP90rfTXC2lAtQFHG4DUaEBFaM2Mst9oQGwo7HhGKWlAIocIklGZaEBQRti9Il5oQLzLBpA3XGhAB8ojkDX7aEBiSZontzRqQEO5nVrhLmtAfViJJcMpa0Dwd+uk4L1rQFQkVW/CuGtA+GSMBmuHbECxFBnEgl1sQAogAK9RGmxAfJnBpuAkbECE3hwSIOdrQP5zBWmqiWxAjJ1XQUcjbECPpHVF9+JrQNDl3e177mtAn8tcyv1ZbED+ckCLINdrQEkeL3IB4mtAJI+E17C5a0BG3xNdIN9rQLh9RUvkbWpAozzfyJnEakBfTvWDSLRqQPLqK67uq2tA9oY//IiVa0Csqp1/WSJrQCqajhWmg2pAfVMPwvorakDx8YA68vRpQNNWdusv72lAkvkfAnqgaUC3X2rmN+9oQA+sSJGcJWlA1PVZFJ1cakBcEO1Kfl9qQKgBBLQxt2lA//7JzCQIakBCGOu18CRqQPTfEHhTm2pAKzSAhVhCa0AwsHL+0y5rQIqy74Ny12tAwqF8+bnga0Bhee6XLJ5rQOn3AUd3hmxAQWKbr3W2bED41f5MivttQPlg8KS4lm5Ax1y+QfwXb0Cw1vQsVz9vQBzde2RWB3BAisgypwMjcEBHs5KDrapwQNnCGEcbBHFAvnpdEVTdckAM4wPJP9dyQDuzsNl8LHRAMkI/hGJYckD8guF7SApzQKVGwicDwXJAINsxm7gXc0CqQSVa25hyQKzViLJIAnNAtx5xBxY6dEBFZ1qYPyZ0QJleCkwQ8nRANoH2bvu0c0DAqnC1JKlzQBcuhH9cX3RAD62iEO05dEC4jwznY7p0QAAAAEAKw3RAAAAAgD2Cc0AAAAAAAAB0QAAAAMDMrHJAAAAAwB5Zc0AAAAAA1/9zQAAAAKBw1XNAAAAAAAB4c0AAAAAA1+dyQAAAAADXT3FAAAAAAADAcUAAAADgUXhzQAAAAKCZfXFAAAAAwMwQcUAAAAAA17txQAAAAGCPDnJAAAAAwMyYckAAAACgmYlyQAAAAIDrkXNAAAAAIK7rckAAAADgUaRyQAAAAADXi3JAAAAAYGaickAAAADgUexyQAAAAADXF3JAAAAAYGZGcUAAAABgj5ZxQAAAAMD1nHBAAAAAIK4TcUAAAABguIpxQAAAAOCjvHFAAAAAAABwcEAAAACgmWlwQAAAAOCjTHBAAAAAoEehb0AAAACAPWJtQAAAAKCZ6WtAAAAAYLgubEAAAADAzAxtQAAAAIDCdW1AAAAAANeDa0AAAACAPfpsQAAAAKBHYW9AAAAAQAofcEAAAABgj5JuQAAAAEAK921AAAAAQAp3bkA=",
        "encoding": "base64",
        "path": [
         "_data",
         0,
         "open",
         "value"
        ]
       }
      ],
      "model_module": "jupyterlab-plotly",
      "model_module_version": "^5.4.0",
      "model_name": "FigureModel",
      "state": {
       "_config": {
        "plotlyServerURL": "https://plot.ly"
       },
       "_data": [
        {
         "close": {
          "dtype": "float64",
          "shape": [
           127
          ]
         },
         "high": {
          "dtype": "float64",
          "shape": [
           127
          ]
         },
         "low": {
          "dtype": "float64",
          "shape": [
           127
          ]
         },
         "name": "OHLC",
         "open": {
          "dtype": "float64",
          "shape": [
           127
          ]
         },
         "type": "candlestick",
         "uid": "f2d1e49f-c3c8-4a8b-8aa2-3eb1c783a507",
         "x": [
          "2021-08-09T00:00:00.000000",
          "2021-08-10T00:00:00.000000",
          "2021-08-11T00:00:00.000000",
          "2021-08-12T00:00:00.000000",
          "2021-08-13T00:00:00.000000",
          "2021-08-16T00:00:00.000000",
          "2021-08-17T00:00:00.000000",
          "2021-08-18T00:00:00.000000",
          "2021-08-19T00:00:00.000000",
          "2021-08-20T00:00:00.000000",
          "2021-08-23T00:00:00.000000",
          "2021-08-24T00:00:00.000000",
          "2021-08-25T00:00:00.000000",
          "2021-08-26T00:00:00.000000",
          "2021-08-27T00:00:00.000000",
          "2021-08-30T00:00:00.000000",
          "2021-08-31T00:00:00.000000",
          "2021-09-01T00:00:00.000000",
          "2021-09-02T00:00:00.000000",
          "2021-09-03T00:00:00.000000",
          "2021-09-07T00:00:00.000000",
          "2021-09-08T00:00:00.000000",
          "2021-09-09T00:00:00.000000",
          "2021-09-10T00:00:00.000000",
          "2021-09-13T00:00:00.000000",
          "2021-09-14T00:00:00.000000",
          "2021-09-15T00:00:00.000000",
          "2021-09-16T00:00:00.000000",
          "2021-09-17T00:00:00.000000",
          "2021-09-20T00:00:00.000000",
          "2021-09-21T00:00:00.000000",
          "2021-09-22T00:00:00.000000",
          "2021-09-23T00:00:00.000000",
          "2021-09-24T00:00:00.000000",
          "2021-09-27T00:00:00.000000",
          "2021-09-28T00:00:00.000000",
          "2021-09-29T00:00:00.000000",
          "2021-09-30T00:00:00.000000",
          "2021-10-01T00:00:00.000000",
          "2021-10-04T00:00:00.000000",
          "2021-10-05T00:00:00.000000",
          "2021-10-06T00:00:00.000000",
          "2021-10-07T00:00:00.000000",
          "2021-10-08T00:00:00.000000",
          "2021-10-11T00:00:00.000000",
          "2021-10-12T00:00:00.000000",
          "2021-10-13T00:00:00.000000",
          "2021-10-14T00:00:00.000000",
          "2021-10-15T00:00:00.000000",
          "2021-10-18T00:00:00.000000",
          "2021-10-19T00:00:00.000000",
          "2021-10-20T00:00:00.000000",
          "2021-10-21T00:00:00.000000",
          "2021-10-22T00:00:00.000000",
          "2021-10-25T00:00:00.000000",
          "2021-10-26T00:00:00.000000",
          "2021-10-27T00:00:00.000000",
          "2021-10-28T00:00:00.000000",
          "2021-10-29T00:00:00.000000",
          "2021-11-01T00:00:00.000000",
          "2021-11-02T00:00:00.000000",
          "2021-11-03T00:00:00.000000",
          "2021-11-04T00:00:00.000000",
          "2021-11-05T00:00:00.000000",
          "2021-11-08T00:00:00.000000",
          "2021-11-09T00:00:00.000000",
          "2021-11-10T00:00:00.000000",
          "2021-11-11T00:00:00.000000",
          "2021-11-12T00:00:00.000000",
          "2021-11-15T00:00:00.000000",
          "2021-11-16T00:00:00.000000",
          "2021-11-17T00:00:00.000000",
          "2021-11-18T00:00:00.000000",
          "2021-11-19T00:00:00.000000",
          "2021-11-22T00:00:00.000000",
          "2021-11-23T00:00:00.000000",
          "2021-11-24T00:00:00.000000",
          "2021-11-26T00:00:00.000000",
          "2021-11-29T00:00:00.000000",
          "2021-11-30T00:00:00.000000",
          "2021-12-01T00:00:00.000000",
          "2021-12-02T00:00:00.000000",
          "2021-12-03T00:00:00.000000",
          "2021-12-06T00:00:00.000000",
          "2021-12-07T00:00:00.000000",
          "2021-12-08T00:00:00.000000",
          "2021-12-09T00:00:00.000000",
          "2021-12-10T00:00:00.000000",
          "2021-12-13T00:00:00.000000",
          "2021-12-14T00:00:00.000000",
          "2021-12-15T00:00:00.000000",
          "2021-12-16T00:00:00.000000",
          "2021-12-17T00:00:00.000000",
          "2021-12-20T00:00:00.000000",
          "2021-12-21T00:00:00.000000",
          "2021-12-22T00:00:00.000000",
          "2021-12-23T00:00:00.000000",
          "2021-12-27T00:00:00.000000",
          "2021-12-28T00:00:00.000000",
          "2021-12-29T00:00:00.000000",
          "2021-12-30T00:00:00.000000",
          "2021-12-31T00:00:00.000000",
          "2022-01-03T00:00:00.000000",
          "2022-01-04T00:00:00.000000",
          "2022-01-05T00:00:00.000000",
          "2022-01-06T00:00:00.000000",
          "2022-01-07T00:00:00.000000",
          "2022-01-10T00:00:00.000000",
          "2022-01-11T00:00:00.000000",
          "2022-01-12T00:00:00.000000",
          "2022-01-13T00:00:00.000000",
          "2022-01-14T00:00:00.000000",
          "2022-01-18T00:00:00.000000",
          "2022-01-19T00:00:00.000000",
          "2022-01-20T00:00:00.000000",
          "2022-01-21T00:00:00.000000",
          "2022-01-24T00:00:00.000000",
          "2022-01-25T00:00:00.000000",
          "2022-01-26T00:00:00.000000",
          "2022-01-27T00:00:00.000000",
          "2022-01-28T00:00:00.000000",
          "2022-01-31T00:00:00.000000",
          "2022-02-01T00:00:00.000000",
          "2022-02-02T00:00:00.000000",
          "2022-02-03T00:00:00.000000",
          "2022-02-04T00:00:00.000000",
          "2022-02-07T00:00:00.000000"
         ],
         "xaxis": "x",
         "yaxis": "y2"
        },
        {
         "marker": {
          "color": "rgba(91, 91, 91, 0.73)"
         },
         "name": "Volume",
         "type": "bar",
         "uid": "8d78f201-1abc-4cc7-842b-a009561b2d56",
         "x": [
          "2021-08-09T00:00:00.000000",
          "2021-08-10T00:00:00.000000",
          "2021-08-11T00:00:00.000000",
          "2021-08-12T00:00:00.000000",
          "2021-08-13T00:00:00.000000",
          "2021-08-16T00:00:00.000000",
          "2021-08-17T00:00:00.000000",
          "2021-08-18T00:00:00.000000",
          "2021-08-19T00:00:00.000000",
          "2021-08-20T00:00:00.000000",
          "2021-08-23T00:00:00.000000",
          "2021-08-24T00:00:00.000000",
          "2021-08-25T00:00:00.000000",
          "2021-08-26T00:00:00.000000",
          "2021-08-27T00:00:00.000000",
          "2021-08-30T00:00:00.000000",
          "2021-08-31T00:00:00.000000",
          "2021-09-01T00:00:00.000000",
          "2021-09-02T00:00:00.000000",
          "2021-09-03T00:00:00.000000",
          "2021-09-07T00:00:00.000000",
          "2021-09-08T00:00:00.000000",
          "2021-09-09T00:00:00.000000",
          "2021-09-10T00:00:00.000000",
          "2021-09-13T00:00:00.000000",
          "2021-09-14T00:00:00.000000",
          "2021-09-15T00:00:00.000000",
          "2021-09-16T00:00:00.000000",
          "2021-09-17T00:00:00.000000",
          "2021-09-20T00:00:00.000000",
          "2021-09-21T00:00:00.000000",
          "2021-09-22T00:00:00.000000",
          "2021-09-23T00:00:00.000000",
          "2021-09-24T00:00:00.000000",
          "2021-09-27T00:00:00.000000",
          "2021-09-28T00:00:00.000000",
          "2021-09-29T00:00:00.000000",
          "2021-09-30T00:00:00.000000",
          "2021-10-01T00:00:00.000000",
          "2021-10-04T00:00:00.000000",
          "2021-10-05T00:00:00.000000",
          "2021-10-06T00:00:00.000000",
          "2021-10-07T00:00:00.000000",
          "2021-10-08T00:00:00.000000",
          "2021-10-11T00:00:00.000000",
          "2021-10-12T00:00:00.000000",
          "2021-10-13T00:00:00.000000",
          "2021-10-14T00:00:00.000000",
          "2021-10-15T00:00:00.000000",
          "2021-10-18T00:00:00.000000",
          "2021-10-19T00:00:00.000000",
          "2021-10-20T00:00:00.000000",
          "2021-10-21T00:00:00.000000",
          "2021-10-22T00:00:00.000000",
          "2021-10-25T00:00:00.000000",
          "2021-10-26T00:00:00.000000",
          "2021-10-27T00:00:00.000000",
          "2021-10-28T00:00:00.000000",
          "2021-10-29T00:00:00.000000",
          "2021-11-01T00:00:00.000000",
          "2021-11-02T00:00:00.000000",
          "2021-11-03T00:00:00.000000",
          "2021-11-04T00:00:00.000000",
          "2021-11-05T00:00:00.000000",
          "2021-11-08T00:00:00.000000",
          "2021-11-09T00:00:00.000000",
          "2021-11-10T00:00:00.000000",
          "2021-11-11T00:00:00.000000",
          "2021-11-12T00:00:00.000000",
          "2021-11-15T00:00:00.000000",
          "2021-11-16T00:00:00.000000",
          "2021-11-17T00:00:00.000000",
          "2021-11-18T00:00:00.000000",
          "2021-11-19T00:00:00.000000",
          "2021-11-22T00:00:00.000000",
          "2021-11-23T00:00:00.000000",
          "2021-11-24T00:00:00.000000",
          "2021-11-26T00:00:00.000000",
          "2021-11-29T00:00:00.000000",
          "2021-11-30T00:00:00.000000",
          "2021-12-01T00:00:00.000000",
          "2021-12-02T00:00:00.000000",
          "2021-12-03T00:00:00.000000",
          "2021-12-06T00:00:00.000000",
          "2021-12-07T00:00:00.000000",
          "2021-12-08T00:00:00.000000",
          "2021-12-09T00:00:00.000000",
          "2021-12-10T00:00:00.000000",
          "2021-12-13T00:00:00.000000",
          "2021-12-14T00:00:00.000000",
          "2021-12-15T00:00:00.000000",
          "2021-12-16T00:00:00.000000",
          "2021-12-17T00:00:00.000000",
          "2021-12-20T00:00:00.000000",
          "2021-12-21T00:00:00.000000",
          "2021-12-22T00:00:00.000000",
          "2021-12-23T00:00:00.000000",
          "2021-12-27T00:00:00.000000",
          "2021-12-28T00:00:00.000000",
          "2021-12-29T00:00:00.000000",
          "2021-12-30T00:00:00.000000",
          "2021-12-31T00:00:00.000000",
          "2022-01-03T00:00:00.000000",
          "2022-01-04T00:00:00.000000",
          "2022-01-05T00:00:00.000000",
          "2022-01-06T00:00:00.000000",
          "2022-01-07T00:00:00.000000",
          "2022-01-10T00:00:00.000000",
          "2022-01-11T00:00:00.000000",
          "2022-01-12T00:00:00.000000",
          "2022-01-13T00:00:00.000000",
          "2022-01-14T00:00:00.000000",
          "2022-01-18T00:00:00.000000",
          "2022-01-19T00:00:00.000000",
          "2022-01-20T00:00:00.000000",
          "2022-01-21T00:00:00.000000",
          "2022-01-24T00:00:00.000000",
          "2022-01-25T00:00:00.000000",
          "2022-01-26T00:00:00.000000",
          "2022-01-27T00:00:00.000000",
          "2022-01-28T00:00:00.000000",
          "2022-01-31T00:00:00.000000",
          "2022-02-01T00:00:00.000000",
          "2022-02-02T00:00:00.000000",
          "2022-02-03T00:00:00.000000",
          "2022-02-04T00:00:00.000000",
          "2022-02-07T00:00:00.000000"
         ],
         "xaxis": "x",
         "y": [
          14644300,
          17923800,
          18592500,
          15165200,
          18282500,
          21087600,
          20458500,
          28591300,
          76655500,
          67503900,
          57580700,
          29729900,
          34770100,
          23794000,
          30426700,
          26258000,
          25985000,
          20176700,
          18783400,
          28053200,
          19810700,
          25443400,
          19685600,
          24814900,
          29750000,
          19975500,
          16653800,
          15603300,
          29450300,
          34944000,
          20468800,
          26872600,
          24855500,
          21765500,
          24521500,
          34306900,
          21839400,
          22080400,
          24097800,
          34563500,
          27928200,
          29720200,
          25691900,
          15102500,
          16338800,
          16213400,
          18065200,
          24358900,
          22679500,
          18949400,
          16147300,
          14627600,
          18759000,
          24938400,
          23023500,
          48589800,
          24599000,
          23420400,
          29213700,
          26574000,
          29411200,
          23991000,
          115363100,
          85072800,
          50310100,
          64674600,
          63620600,
          33217200,
          41215100,
          38490900,
          26448400,
          42850800,
          78171100,
          53386700,
          75433500,
          53216300,
          43516200,
          28306900,
          45496400,
          62206600,
          48436800,
          47289000,
          54382300,
          65893800,
          59305300,
          47555100,
          48850700,
          48850500,
          59834400,
          66703500,
          69829700,
          70736600,
          71375800,
          46184700,
          52438500,
          39518400,
          34302200,
          40368600,
          42059100,
          34313900,
          30886400,
          26653000,
          39154700,
          52715400,
          49806400,
          45418600,
          40920100,
          59468100,
          40408900,
          38341300,
          54017100,
          39522800,
          42427000,
          48831500,
          43518100,
          71895800,
          91398200,
          66461600,
          75595900,
          57335300,
          54377400,
          56468000,
          51892500,
          54341900,
          41017800,
          35432800,
          36756047
         ],
         "yaxis": "y"
        }
       ],
       "_js2py_restyle": {},
       "_js2py_update": {},
       "_layout": {
        "autosize": true,
        "template": {
         "data": {
          "bar": [
           {
            "error_x": {
             "color": "#f2f5fa"
            },
            "error_y": {
             "color": "#f2f5fa"
            },
            "marker": {
             "line": {
              "color": "rgb(17,17,17)",
              "width": 0.5
             },
             "pattern": {
              "fillmode": "overlay",
              "size": 10,
              "solidity": 0.2
             }
            },
            "type": "bar"
           }
          ],
          "barpolar": [
           {
            "marker": {
             "line": {
              "color": "rgb(17,17,17)",
              "width": 0.5
             },
             "pattern": {
              "fillmode": "overlay",
              "size": 10,
              "solidity": 0.2
             }
            },
            "type": "barpolar"
           }
          ],
          "carpet": [
           {
            "aaxis": {
             "endlinecolor": "#A2B1C6",
             "gridcolor": "#506784",
             "linecolor": "#506784",
             "minorgridcolor": "#506784",
             "startlinecolor": "#A2B1C6"
            },
            "baxis": {
             "endlinecolor": "#A2B1C6",
             "gridcolor": "#506784",
             "linecolor": "#506784",
             "minorgridcolor": "#506784",
             "startlinecolor": "#A2B1C6"
            },
            "type": "carpet"
           }
          ],
          "choropleth": [
           {
            "colorbar": {
             "outlinewidth": 0,
             "ticks": ""
            },
            "type": "choropleth"
           }
          ],
          "contour": [
           {
            "colorbar": {
             "outlinewidth": 0,
             "ticks": ""
            },
            "colorscale": [
             [
              0,
              "#0d0887"
             ],
             [
              0.1111111111111111,
              "#46039f"
             ],
             [
              0.2222222222222222,
              "#7201a8"
             ],
             [
              0.3333333333333333,
              "#9c179e"
             ],
             [
              0.4444444444444444,
              "#bd3786"
             ],
             [
              0.5555555555555556,
              "#d8576b"
             ],
             [
              0.6666666666666666,
              "#ed7953"
             ],
             [
              0.7777777777777778,
              "#fb9f3a"
             ],
             [
              0.8888888888888888,
              "#fdca26"
             ],
             [
              1,
              "#f0f921"
             ]
            ],
            "type": "contour"
           }
          ],
          "contourcarpet": [
           {
            "colorbar": {
             "outlinewidth": 0,
             "ticks": ""
            },
            "type": "contourcarpet"
           }
          ],
          "heatmap": [
           {
            "colorbar": {
             "outlinewidth": 0,
             "ticks": ""
            },
            "colorscale": [
             [
              0,
              "#0d0887"
             ],
             [
              0.1111111111111111,
              "#46039f"
             ],
             [
              0.2222222222222222,
              "#7201a8"
             ],
             [
              0.3333333333333333,
              "#9c179e"
             ],
             [
              0.4444444444444444,
              "#bd3786"
             ],
             [
              0.5555555555555556,
              "#d8576b"
             ],
             [
              0.6666666666666666,
              "#ed7953"
             ],
             [
              0.7777777777777778,
              "#fb9f3a"
             ],
             [
              0.8888888888888888,
              "#fdca26"
             ],
             [
              1,
              "#f0f921"
             ]
            ],
            "type": "heatmap"
           }
          ],
          "heatmapgl": [
           {
            "colorbar": {
             "outlinewidth": 0,
             "ticks": ""
            },
            "colorscale": [
             [
              0,
              "#0d0887"
             ],
             [
              0.1111111111111111,
              "#46039f"
             ],
             [
              0.2222222222222222,
              "#7201a8"
             ],
             [
              0.3333333333333333,
              "#9c179e"
             ],
             [
              0.4444444444444444,
              "#bd3786"
             ],
             [
              0.5555555555555556,
              "#d8576b"
             ],
             [
              0.6666666666666666,
              "#ed7953"
             ],
             [
              0.7777777777777778,
              "#fb9f3a"
             ],
             [
              0.8888888888888888,
              "#fdca26"
             ],
             [
              1,
              "#f0f921"
             ]
            ],
            "type": "heatmapgl"
           }
          ],
          "histogram": [
           {
            "marker": {
             "pattern": {
              "fillmode": "overlay",
              "size": 10,
              "solidity": 0.2
             }
            },
            "type": "histogram"
           }
          ],
          "histogram2d": [
           {
            "colorbar": {
             "outlinewidth": 0,
             "ticks": ""
            },
            "colorscale": [
             [
              0,
              "#0d0887"
             ],
             [
              0.1111111111111111,
              "#46039f"
             ],
             [
              0.2222222222222222,
              "#7201a8"
             ],
             [
              0.3333333333333333,
              "#9c179e"
             ],
             [
              0.4444444444444444,
              "#bd3786"
             ],
             [
              0.5555555555555556,
              "#d8576b"
             ],
             [
              0.6666666666666666,
              "#ed7953"
             ],
             [
              0.7777777777777778,
              "#fb9f3a"
             ],
             [
              0.8888888888888888,
              "#fdca26"
             ],
             [
              1,
              "#f0f921"
             ]
            ],
            "type": "histogram2d"
           }
          ],
          "histogram2dcontour": [
           {
            "colorbar": {
             "outlinewidth": 0,
             "ticks": ""
            },
            "colorscale": [
             [
              0,
              "#0d0887"
             ],
             [
              0.1111111111111111,
              "#46039f"
             ],
             [
              0.2222222222222222,
              "#7201a8"
             ],
             [
              0.3333333333333333,
              "#9c179e"
             ],
             [
              0.4444444444444444,
              "#bd3786"
             ],
             [
              0.5555555555555556,
              "#d8576b"
             ],
             [
              0.6666666666666666,
              "#ed7953"
             ],
             [
              0.7777777777777778,
              "#fb9f3a"
             ],
             [
              0.8888888888888888,
              "#fdca26"
             ],
             [
              1,
              "#f0f921"
             ]
            ],
            "type": "histogram2dcontour"
           }
          ],
          "mesh3d": [
           {
            "colorbar": {
             "outlinewidth": 0,
             "ticks": ""
            },
            "type": "mesh3d"
           }
          ],
          "parcoords": [
           {
            "line": {
             "colorbar": {
              "outlinewidth": 0,
              "ticks": ""
             }
            },
            "type": "parcoords"
           }
          ],
          "pie": [
           {
            "automargin": true,
            "type": "pie"
           }
          ],
          "scatter": [
           {
            "marker": {
             "line": {
              "color": "#283442"
             }
            },
            "type": "scatter"
           }
          ],
          "scatter3d": [
           {
            "line": {
             "colorbar": {
              "outlinewidth": 0,
              "ticks": ""
             }
            },
            "marker": {
             "colorbar": {
              "outlinewidth": 0,
              "ticks": ""
             }
            },
            "type": "scatter3d"
           }
          ],
          "scattercarpet": [
           {
            "marker": {
             "colorbar": {
              "outlinewidth": 0,
              "ticks": ""
             }
            },
            "type": "scattercarpet"
           }
          ],
          "scattergeo": [
           {
            "marker": {
             "colorbar": {
              "outlinewidth": 0,
              "ticks": ""
             }
            },
            "type": "scattergeo"
           }
          ],
          "scattergl": [
           {
            "marker": {
             "line": {
              "color": "#283442"
             }
            },
            "type": "scattergl"
           }
          ],
          "scattermapbox": [
           {
            "marker": {
             "colorbar": {
              "outlinewidth": 0,
              "ticks": ""
             }
            },
            "type": "scattermapbox"
           }
          ],
          "scatterpolar": [
           {
            "marker": {
             "colorbar": {
              "outlinewidth": 0,
              "ticks": ""
             }
            },
            "type": "scatterpolar"
           }
          ],
          "scatterpolargl": [
           {
            "marker": {
             "colorbar": {
              "outlinewidth": 0,
              "ticks": ""
             }
            },
            "type": "scatterpolargl"
           }
          ],
          "scatterternary": [
           {
            "marker": {
             "colorbar": {
              "outlinewidth": 0,
              "ticks": ""
             }
            },
            "type": "scatterternary"
           }
          ],
          "surface": [
           {
            "colorbar": {
             "outlinewidth": 0,
             "ticks": ""
            },
            "colorscale": [
             [
              0,
              "#0d0887"
             ],
             [
              0.1111111111111111,
              "#46039f"
             ],
             [
              0.2222222222222222,
              "#7201a8"
             ],
             [
              0.3333333333333333,
              "#9c179e"
             ],
             [
              0.4444444444444444,
              "#bd3786"
             ],
             [
              0.5555555555555556,
              "#d8576b"
             ],
             [
              0.6666666666666666,
              "#ed7953"
             ],
             [
              0.7777777777777778,
              "#fb9f3a"
             ],
             [
              0.8888888888888888,
              "#fdca26"
             ],
             [
              1,
              "#f0f921"
             ]
            ],
            "type": "surface"
           }
          ],
          "table": [
           {
            "cells": {
             "fill": {
              "color": "#506784"
             },
             "line": {
              "color": "rgb(17,17,17)"
             }
            },
            "header": {
             "fill": {
              "color": "#2a3f5f"
             },
             "line": {
              "color": "rgb(17,17,17)"
             }
            },
            "type": "table"
           }
          ]
         },
         "layout": {
          "annotationdefaults": {
           "arrowcolor": "#f2f5fa",
           "arrowhead": 0,
           "arrowwidth": 1
          },
          "autotypenumbers": "strict",
          "coloraxis": {
           "colorbar": {
            "outlinewidth": 0,
            "ticks": ""
           }
          },
          "colorscale": {
           "diverging": [
            [
             0,
             "#8e0152"
            ],
            [
             0.1,
             "#c51b7d"
            ],
            [
             0.2,
             "#de77ae"
            ],
            [
             0.3,
             "#f1b6da"
            ],
            [
             0.4,
             "#fde0ef"
            ],
            [
             0.5,
             "#f7f7f7"
            ],
            [
             0.6,
             "#e6f5d0"
            ],
            [
             0.7,
             "#b8e186"
            ],
            [
             0.8,
             "#7fbc41"
            ],
            [
             0.9,
             "#4d9221"
            ],
            [
             1,
             "#276419"
            ]
           ],
           "sequential": [
            [
             0,
             "#0d0887"
            ],
            [
             0.1111111111111111,
             "#46039f"
            ],
            [
             0.2222222222222222,
             "#7201a8"
            ],
            [
             0.3333333333333333,
             "#9c179e"
            ],
            [
             0.4444444444444444,
             "#bd3786"
            ],
            [
             0.5555555555555556,
             "#d8576b"
            ],
            [
             0.6666666666666666,
             "#ed7953"
            ],
            [
             0.7777777777777778,
             "#fb9f3a"
            ],
            [
             0.8888888888888888,
             "#fdca26"
            ],
            [
             1,
             "#f0f921"
            ]
           ],
           "sequentialminus": [
            [
             0,
             "#0d0887"
            ],
            [
             0.1111111111111111,
             "#46039f"
            ],
            [
             0.2222222222222222,
             "#7201a8"
            ],
            [
             0.3333333333333333,
             "#9c179e"
            ],
            [
             0.4444444444444444,
             "#bd3786"
            ],
            [
             0.5555555555555556,
             "#d8576b"
            ],
            [
             0.6666666666666666,
             "#ed7953"
            ],
            [
             0.7777777777777778,
             "#fb9f3a"
            ],
            [
             0.8888888888888888,
             "#fdca26"
            ],
            [
             1,
             "#f0f921"
            ]
           ]
          },
          "colorway": [
           "#636efa",
           "#EF553B",
           "#00cc96",
           "#ab63fa",
           "#FFA15A",
           "#19d3f3",
           "#FF6692",
           "#B6E880",
           "#FF97FF",
           "#FECB52"
          ],
          "font": {
           "color": "#f2f5fa"
          },
          "geo": {
           "bgcolor": "rgb(17,17,17)",
           "lakecolor": "rgb(17,17,17)",
           "landcolor": "rgb(17,17,17)",
           "showlakes": true,
           "showland": true,
           "subunitcolor": "#506784"
          },
          "hoverlabel": {
           "align": "left"
          },
          "hovermode": "closest",
          "mapbox": {
           "style": "dark"
          },
          "paper_bgcolor": "rgb(17,17,17)",
          "plot_bgcolor": "rgb(17,17,17)",
          "polar": {
           "angularaxis": {
            "gridcolor": "#506784",
            "linecolor": "#506784",
            "ticks": ""
           },
           "bgcolor": "rgb(17,17,17)",
           "radialaxis": {
            "gridcolor": "#506784",
            "linecolor": "#506784",
            "ticks": ""
           }
          },
          "scene": {
           "xaxis": {
            "backgroundcolor": "rgb(17,17,17)",
            "gridcolor": "#506784",
            "gridwidth": 2,
            "linecolor": "#506784",
            "showbackground": true,
            "ticks": "",
            "zerolinecolor": "#C8D4E3"
           },
           "yaxis": {
            "backgroundcolor": "rgb(17,17,17)",
            "gridcolor": "#506784",
            "gridwidth": 2,
            "linecolor": "#506784",
            "showbackground": true,
            "ticks": "",
            "zerolinecolor": "#C8D4E3"
           },
           "zaxis": {
            "backgroundcolor": "rgb(17,17,17)",
            "gridcolor": "#506784",
            "gridwidth": 2,
            "linecolor": "#506784",
            "showbackground": true,
            "ticks": "",
            "zerolinecolor": "#C8D4E3"
           }
          },
          "shapedefaults": {
           "line": {
            "color": "#f2f5fa"
           }
          },
          "sliderdefaults": {
           "bgcolor": "#C8D4E3",
           "bordercolor": "rgb(17,17,17)",
           "borderwidth": 1,
           "tickwidth": 0
          },
          "ternary": {
           "aaxis": {
            "gridcolor": "#506784",
            "linecolor": "#506784",
            "ticks": ""
           },
           "baxis": {
            "gridcolor": "#506784",
            "linecolor": "#506784",
            "ticks": ""
           },
           "bgcolor": "rgb(17,17,17)",
           "caxis": {
            "gridcolor": "#506784",
            "linecolor": "#506784",
            "ticks": ""
           }
          },
          "title": {
           "x": 0.05
          },
          "updatemenudefaults": {
           "bgcolor": "#506784",
           "borderwidth": 0
          },
          "xaxis": {
           "automargin": true,
           "gridcolor": "#283442",
           "linecolor": "#506784",
           "ticks": "",
           "title": {
            "standoff": 15
           },
           "zerolinecolor": "#283442",
           "zerolinewidth": 2
          },
          "yaxis": {
           "automargin": true,
           "gridcolor": "#283442",
           "linecolor": "#506784",
           "ticks": "",
           "title": {
            "standoff": 15
           },
           "zerolinecolor": "#283442",
           "zerolinewidth": 2
          }
         }
        },
        "title": {
         "text": "NVDA PRICE CHART",
         "x": 0.5,
         "xanchor": "center",
         "yanchor": "top"
        },
        "xaxis": {
         "anchor": "y",
         "domain": [
          0,
          0.94
         ],
         "rangeslider": {
          "visible": false
         }
        },
        "yaxis": {
         "anchor": "x",
         "domain": [
          0,
          1
         ]
        },
        "yaxis2": {
         "anchor": "x",
         "overlaying": "y",
         "showgrid": false,
         "side": "right"
        }
       },
       "_py2js_addTraces": {},
       "_py2js_animate": {},
       "_py2js_deleteTraces": {},
       "_py2js_moveTraces": {},
       "_py2js_relayout": {},
       "_py2js_removeLayoutProps": {},
       "_py2js_removeTraceProps": {},
       "_py2js_restyle": {},
       "_py2js_update": {},
       "_view_count": 1
      }
     },
     "9bc1561805124be5a63e6892df40111a": {
      "model_module": "jupyter-vuetify",
      "model_module_version": "^1.8.1",
      "model_name": "BtnModel",
      "state": {
       "_events": [],
       "_jupyter_vue": "IPY_MODEL_c0b82a7dc38f4c74854dac118d2d7baa",
       "attributes": {},
       "block": true,
       "children": [
        "Open"
       ],
       "elevation": null,
       "height": null,
       "href": "https://finance.yahoo.com/news/benjamin-f-edwards-company-inc-183809726.html",
       "layout": "IPY_MODEL_d5a269c789de441b94c8ef75f0dd48b3",
       "max_height": null,
       "max_width": null,
       "min_height": null,
       "min_width": null,
       "ripple": null,
       "small": true,
       "target": "_blank",
       "text": true,
       "to": null,
       "v_slots": [],
       "width": null
      }
     },
     "9c4c1e1f0295454f85fdb5556a8e3dc3": {
      "model_module": "jupyter-vuetify",
      "model_module_version": "^1.8.1",
      "model_name": "CardTitleModel",
      "state": {
       "_events": [],
       "_jupyter_vue": "IPY_MODEL_c0b82a7dc38f4c74854dac118d2d7baa",
       "attributes": {},
       "children": [
        "Benjamin Edwards Inc Buys Apple Inc, NextEra Energy Inc, Microsoft Corp, Sells ISHARES TRUST, ..."
       ],
       "layout": "IPY_MODEL_507b6a5081734ba9a0d9150bc8fde7e6",
       "style_": "font-size: 1.1rem",
       "v_slots": []
      }
     },
     "9d9e5e2788494640be4947b99f484d24": {
      "model_module": "@jupyter-widgets/base",
      "model_module_version": "1.2.0",
      "model_name": "LayoutModel",
      "state": {}
     },
     "9da2530af62240ca945e9a50bc0f8bf1": {
      "model_module": "jupyter-vuetify",
      "model_module_version": "^1.8.1",
      "model_name": "ImgModel",
      "state": {
       "_events": [],
       "_jupyter_vue": "IPY_MODEL_c0b82a7dc38f4c74854dac118d2d7baa",
       "aspect_ratio": null,
       "attributes": {},
       "children": [],
       "contain": true,
       "height": "100px",
       "layout": "IPY_MODEL_00fe3a3499e84a369e8bdad34fea2e89",
       "max_height": null,
       "max_width": null,
       "min_height": null,
       "min_width": null,
       "src": "https://logo.clearbit.com/nvidia.com",
       "transition": null,
       "v_slots": [],
       "width": null
      }
     },
     "9e89d2df40cc446e846b1a1616ec5a56": {
      "model_module": "@jupyter-widgets/base",
      "model_module_version": "1.2.0",
      "model_name": "LayoutModel",
      "state": {}
     },
     "9ec7588e23bb4286be41e9ee9a270446": {
      "model_module": "jupyter-vuetify",
      "model_module_version": "^1.8.1",
      "model_name": "CardModel",
      "state": {
       "_events": [],
       "_jupyter_vue": "IPY_MODEL_c0b82a7dc38f4c74854dac118d2d7baa",
       "attributes": {},
       "children": [
        "IPY_MODEL_8a4ca3ebfb3d40099020bdb74fe29dc9",
        "IPY_MODEL_1d53c1ee1cb44300bca74a54029c2b1b"
       ],
       "class_": "ma-1",
       "elevation": null,
       "height": null,
       "href": null,
       "layout": "IPY_MODEL_9d9e5e2788494640be4947b99f484d24",
       "loader_height": null,
       "loading": null,
       "max_height": null,
       "max_width": null,
       "min_height": null,
       "min_width": null,
       "outlined": true,
       "ripple": null,
       "style_": "width: calc(14.28% - 8px); min-width: 150px",
       "to": null,
       "v_slots": [],
       "width": null
      }
     },
     "a1ff4d13a61f43a8aa2d9308b0bf605e": {
      "model_module": "@jupyter-widgets/base",
      "model_module_version": "1.2.0",
      "model_name": "LayoutModel",
      "state": {}
     },
     "a2e3626221b0402395f3a3c504dea745": {
      "model_module": "jupyter-vuetify",
      "model_module_version": "^1.8.1",
      "model_name": "CardActionsModel",
      "state": {
       "_events": [],
       "_jupyter_vue": "IPY_MODEL_c0b82a7dc38f4c74854dac118d2d7baa",
       "attributes": {},
       "children": [
        "IPY_MODEL_67fdd75062a849ff9b46038f986ad4b7"
       ],
       "layout": "IPY_MODEL_438256b415314ea38a9e6c1a891e893f",
       "v_slots": []
      }
     },
     "a37246fe6ed44b9b8bb4c5de96e0bef3": {
      "model_module": "@jupyter-widgets/controls",
      "model_module_version": "1.5.0",
      "model_name": "VBoxModel",
      "state": {
       "children": [
        "IPY_MODEL_59889d4f4039415089dc88d13f6c71d7",
        "IPY_MODEL_fa92ada5409a4109a6c789aa22db9b05"
       ],
       "layout": "IPY_MODEL_5087fa8a709044e5995da916b40b94ee"
      }
     },
     "a5079f78e631422fa30e6477dbdf56ea": {
      "model_module": "jupyter-vuetify",
      "model_module_version": "^1.8.1",
      "model_name": "CardModel",
      "state": {
       "_events": [],
       "_jupyter_vue": "IPY_MODEL_c0b82a7dc38f4c74854dac118d2d7baa",
       "attributes": {},
       "children": [
        "IPY_MODEL_223ebfe5364f463a9263a1305d796816",
        "IPY_MODEL_9210d6d0c6f84d9c9fd27f0ecfe2df30"
       ],
       "class_": "ma-1",
       "elevation": null,
       "height": null,
       "href": null,
       "layout": "IPY_MODEL_a1ff4d13a61f43a8aa2d9308b0bf605e",
       "loader_height": null,
       "loading": null,
       "max_height": null,
       "max_width": null,
       "min_height": null,
       "min_width": null,
       "outlined": true,
       "ripple": null,
       "style_": "width: calc(14.28% - 8px); min-width: 150px",
       "to": null,
       "v_slots": [],
       "width": null
      }
     },
     "a8ba6fd1dc3f48bcaeca22bbc8468ade": {
      "model_module": "@jupyter-widgets/base",
      "model_module_version": "1.2.0",
      "model_name": "LayoutModel",
      "state": {}
     },
     "a9b058092ac64a37b63c7799c6129242": {
      "model_module": "jupyter-vuetify",
      "model_module_version": "^1.8.1",
      "model_name": "CardActionsModel",
      "state": {
       "_events": [],
       "_jupyter_vue": "IPY_MODEL_c0b82a7dc38f4c74854dac118d2d7baa",
       "attributes": {},
       "children": [
        "IPY_MODEL_bb03ef08f4634b5f95e4731b8e6e4a16"
       ],
       "layout": "IPY_MODEL_c177ceb846b24445b362933479121c47",
       "v_slots": []
      }
     },
     "aa72f7c52bc64a33b053ef8e7a7f5541": {
      "model_module": "@jupyter-widgets/base",
      "model_module_version": "1.2.0",
      "model_name": "LayoutModel",
      "state": {}
     },
     "aceb9641acd64fa1aee25fbe6b762fca": {
      "model_module": "jupyter-vuetify",
      "model_module_version": "^1.8.1",
      "model_name": "BtnModel",
      "state": {
       "_events": [],
       "_jupyter_vue": "IPY_MODEL_c0b82a7dc38f4c74854dac118d2d7baa",
       "attributes": {},
       "block": true,
       "children": [
        "Open"
       ],
       "elevation": null,
       "height": null,
       "href": "https://finance.yahoo.com/news/benjamin-edwards-inc-buys-apple-183806941.html",
       "layout": "IPY_MODEL_815509ebd7244eae9923afea21cc7c8c",
       "max_height": null,
       "max_width": null,
       "min_height": null,
       "min_width": null,
       "ripple": null,
       "small": true,
       "target": "_blank",
       "text": true,
       "to": null,
       "v_slots": [],
       "width": null
      }
     },
     "ae20fb085dcc4990b6c88826ef34931a": {
      "model_module": "@jupyter-widgets/base",
      "model_module_version": "1.2.0",
      "model_name": "LayoutModel",
      "state": {}
     },
     "ae8414d4468d4721b40f9514fbfeeb35": {
      "model_module": "@jupyter-widgets/base",
      "model_module_version": "1.2.0",
      "model_name": "LayoutModel",
      "state": {}
     },
     "b164688573aa43cabaf5ea142ab90633": {
      "model_module": "@jupyter-widgets/base",
      "model_module_version": "1.2.0",
      "model_name": "LayoutModel",
      "state": {}
     },
     "b7aeb22573554ecbab040b1b4697d7f1": {
      "model_module": "@jupyter-widgets/base",
      "model_module_version": "1.2.0",
      "model_name": "LayoutModel",
      "state": {}
     },
     "b98bfdd256344f44a8afda449517afeb": {
      "model_module": "@jupyter-widgets/base",
      "model_module_version": "1.2.0",
      "model_name": "LayoutModel",
      "state": {}
     },
     "b990b428972442799b4d5b076b81e12b": {
      "model_module": "@jupyter-widgets/base",
      "model_module_version": "1.2.0",
      "model_name": "LayoutModel",
      "state": {}
     },
     "bb03ef08f4634b5f95e4731b8e6e4a16": {
      "model_module": "jupyter-vuetify",
      "model_module_version": "^1.8.1",
      "model_name": "BtnModel",
      "state": {
       "_events": [],
       "_jupyter_vue": "IPY_MODEL_c0b82a7dc38f4c74854dac118d2d7baa",
       "attributes": {},
       "block": true,
       "children": [
        "Open"
       ],
       "elevation": null,
       "height": null,
       "href": "https://finance.yahoo.com/m/08561c49-1aed-38af-b580-d344931bf917/is-roblox-stock-a-buy-right.html",
       "layout": "IPY_MODEL_b7aeb22573554ecbab040b1b4697d7f1",
       "max_height": null,
       "max_width": null,
       "min_height": null,
       "min_width": null,
       "ripple": null,
       "small": true,
       "target": "_blank",
       "text": true,
       "to": null,
       "v_slots": [],
       "width": null
      }
     },
     "bb5aea2375d944eeb8f274756fa986c5": {
      "model_module": "jupyter-vuetify",
      "model_module_version": "^1.8.1",
      "model_name": "BtnModel",
      "state": {
       "_events": [],
       "_jupyter_vue": "IPY_MODEL_c0b82a7dc38f4c74854dac118d2d7baa",
       "attributes": {},
       "block": true,
       "children": [
        "Open"
       ],
       "elevation": null,
       "height": null,
       "href": "https://finance.yahoo.com/news/satovsky-asset-management-llc-buys-183830430.html",
       "layout": "IPY_MODEL_ee574fa859fa423698f9ec15744c6a37",
       "max_height": null,
       "max_width": null,
       "min_height": null,
       "min_width": null,
       "ripple": null,
       "small": true,
       "target": "_blank",
       "text": true,
       "to": null,
       "v_slots": [],
       "width": null
      }
     },
     "bd8662af02e64f8488f9d489c6ee0c04": {
      "model_module": "@jupyter-widgets/base",
      "model_module_version": "1.2.0",
      "model_name": "LayoutModel",
      "state": {}
     },
     "c0b82a7dc38f4c74854dac118d2d7baa": {
      "model_module": "jupyter-vue",
      "model_module_version": "^1.7.0",
      "model_name": "ForceLoadModel",
      "state": {
       "_model_module_version": "^1.7.0",
       "_view_module": null,
       "_view_module_version": "",
       "layout": "IPY_MODEL_5bf9a5107de74981a54b25d984a49d98"
      }
     },
     "c177ceb846b24445b362933479121c47": {
      "model_module": "@jupyter-widgets/base",
      "model_module_version": "1.2.0",
      "model_name": "LayoutModel",
      "state": {}
     },
     "c1cfe28060264473aa35d54cd31ca43b": {
      "model_module": "jupyter-vuetify",
      "model_module_version": "^1.8.1",
      "model_name": "CardTextModel",
      "state": {
       "_events": [],
       "_jupyter_vue": "IPY_MODEL_c0b82a7dc38f4c74854dac118d2d7baa",
       "attributes": {},
       "children": [
        "616221769728"
       ],
       "layout": "IPY_MODEL_79988c39860c40f1b80003297272b838",
       "v_slots": []
      }
     },
     "c27bf622415c4b938346d5b727fd8155": {
      "model_module": "@jupyter-widgets/base",
      "model_module_version": "1.2.0",
      "model_name": "LayoutModel",
      "state": {}
     },
     "c33096e2d1d4438bb146cc44adcdbecd": {
      "model_module": "jupyter-vuetify",
      "model_module_version": "^1.8.1",
      "model_name": "CardSubtitleModel",
      "state": {
       "_events": [],
       "_jupyter_vue": "IPY_MODEL_c0b82a7dc38f4c74854dac118d2d7baa",
       "attributes": {},
       "children": [
        "GuruFocus.com (02/07/2022, 19:38)"
       ],
       "layout": "IPY_MODEL_d5e2d8ce5b4f40b99c01751b0b3e78b6",
       "v_slots": []
      }
     },
     "c4f7765f7e80409da096fc7cfb8030e7": {
      "model_module": "@jupyter-widgets/base",
      "model_module_version": "1.2.0",
      "model_name": "LayoutModel",
      "state": {}
     },
     "c50d93959d60448fbcd4276c37ebbc07": {
      "model_module": "jupyter-vuetify",
      "model_module_version": "^1.8.1",
      "model_name": "CardTitleModel",
      "state": {
       "_events": [],
       "_jupyter_vue": "IPY_MODEL_c0b82a7dc38f4c74854dac118d2d7baa",
       "attributes": {},
       "children": [
        "VisionPoint Advisory Group, LLC Buys SPDR Bloomberg 1-3 Month T-Bill ETF, Comerica Inc, Barrick ..."
       ],
       "layout": "IPY_MODEL_0fa335128da149b286a987465401fcf4",
       "style_": "font-size: 1.1rem",
       "v_slots": []
      }
     },
     "c599f27e38e14f52ac11e2bfbb0828c9": {
      "model_module": "@jupyter-widgets/base",
      "model_module_version": "1.2.0",
      "model_name": "LayoutModel",
      "state": {}
     },
     "c6649a0bf0904c749a03eb4b23c45033": {
      "model_module": "@jupyter-widgets/base",
      "model_module_version": "1.2.0",
      "model_name": "LayoutModel",
      "state": {}
     },
     "c68078da36204731bd46ca08142ce5de": {
      "model_module": "jupyter-vuetify",
      "model_module_version": "^1.8.1",
      "model_name": "CardTitleModel",
      "state": {
       "_events": [],
       "_jupyter_vue": "IPY_MODEL_c0b82a7dc38f4c74854dac118d2d7baa",
       "attributes": {},
       "children": [
        "Profit margin"
       ],
       "layout": "IPY_MODEL_fbcb6c634a244b50922797f18e374877",
       "style_": "font-size: 18px; color: #51ef98",
       "v_slots": []
      }
     },
     "c6b422b8fa424b0e9d8bc2cc39e8c493": {
      "model_module": "jupyter-vuetify",
      "model_module_version": "^1.8.1",
      "model_name": "CardTextModel",
      "state": {
       "_events": [],
       "_jupyter_vue": "IPY_MODEL_c0b82a7dc38f4c74854dac118d2d7baa",
       "attributes": {},
       "children": [
        "NVIDIA Corporation operates as a visual computing company worldwide. It operates in two segments, Graphics and Compute & Networking. The Graphics segment offers GeForce GPUs for gaming and PCs, the GeForce NOW game streaming service and related infrastructure, and solutions for gaming platforms; Quadro/NVIDIA RTX GPUs for enterprise design; GRID software for cloud-based visual and virtual computing; and automotive platforms for infotainment systems. The Compute & Networking segment offers Data Center platforms and systems for AI, HPC, and accelerated computing; Mellanox networking and interconnect solutions; automotive AI Cockpit, autonomous driving development agreements, and autonomous vehicle solutions; and Jetson for robotics and other embedded platforms. The company's products are used in gaming, professional visualization, datacenter, and automotive markets. NVIDIA Corporation sells its products to original equipment manufacturers, original device manufacturers, system builders, add-in board manufacturers, retailers/distributors, Internet and cloud service providers, automotive manufacturers and tier-1 automotive suppliers, mapping companies, start-ups, and other ecosystem participants. NVIDIA has partnership with Google Cloud to create AI-on-5G Lab. NVIDIA Corporation was founded in 1993 and is headquartered in Santa Clara, California."
       ],
       "layout": "IPY_MODEL_514ff23864b546b6a2441af7bada90a6",
       "v_slots": []
      }
     },
     "c824d0531e5d4da9a9b4e5c70b905802": {
      "model_module": "@jupyter-widgets/base",
      "model_module_version": "1.2.0",
      "model_name": "LayoutModel",
      "state": {}
     },
     "cda5c003371344479a5c0ebc7d408f02": {
      "model_module": "jupyter-vuetify",
      "model_module_version": "^1.8.1",
      "model_name": "CardModel",
      "state": {
       "_events": [],
       "_jupyter_vue": "IPY_MODEL_c0b82a7dc38f4c74854dac118d2d7baa",
       "attributes": {},
       "children": [
        "IPY_MODEL_c50d93959d60448fbcd4276c37ebbc07",
        "IPY_MODEL_f6ca2011ba4f496cb6f55cfef2d7415b",
        "IPY_MODEL_a2e3626221b0402395f3a3c504dea745"
       ],
       "elevation": null,
       "height": null,
       "href": null,
       "layout": "IPY_MODEL_aa72f7c52bc64a33b053ef8e7a7f5541",
       "loader_height": null,
       "loading": null,
       "max_height": null,
       "max_width": null,
       "min_height": null,
       "min_width": null,
       "outlined": true,
       "ripple": null,
       "to": null,
       "v_slots": [],
       "width": null
      }
     },
     "d5a269c789de441b94c8ef75f0dd48b3": {
      "model_module": "@jupyter-widgets/base",
      "model_module_version": "1.2.0",
      "model_name": "LayoutModel",
      "state": {}
     },
     "d5e2d8ce5b4f40b99c01751b0b3e78b6": {
      "model_module": "@jupyter-widgets/base",
      "model_module_version": "1.2.0",
      "model_name": "LayoutModel",
      "state": {}
     },
     "d679d6a2f3834229993f80ca88406f0d": {
      "model_module": "@jupyter-widgets/base",
      "model_module_version": "1.2.0",
      "model_name": "LayoutModel",
      "state": {}
     },
     "d7bcc8b6ffec494ead3d1bb00ef3cf4f": {
      "model_module": "jupyter-vuetify",
      "model_module_version": "^1.8.1",
      "model_name": "CardTextModel",
      "state": {
       "_events": [],
       "_jupyter_vue": "IPY_MODEL_c0b82a7dc38f4c74854dac118d2d7baa",
       "attributes": {},
       "children": [
        "47.829784"
       ],
       "layout": "IPY_MODEL_eb06c16095a04f849f3477dfc10a0eae",
       "v_slots": []
      }
     },
     "d81f3dba9957413b8a65ae78ec9476e5": {
      "model_module": "jupyter-vuetify",
      "model_module_version": "^1.8.1",
      "model_name": "CardTitleModel",
      "state": {
       "_events": [],
       "_jupyter_vue": "IPY_MODEL_c0b82a7dc38f4c74854dac118d2d7baa",
       "attributes": {},
       "children": [
        "Karpas Strategies, Llc Buys General Motors Co, Cimpress PLC, Deere, Sells Boeing Co"
       ],
       "layout": "IPY_MODEL_622168f87d3b4b85ba5c8154e02fa342",
       "style_": "font-size: 1.1rem",
       "v_slots": []
      }
     },
     "d8e1626cd9f74508a2fb1028f499b518": {
      "model_module": "@jupyter-widgets/base",
      "model_module_version": "1.2.0",
      "model_name": "LayoutModel",
      "state": {}
     },
     "d9077b54c6fe4fd9a8f81e22d8f2b7be": {
      "model_module": "jupyter-vuetify",
      "model_module_version": "^1.8.1",
      "model_name": "ThemeModel",
      "state": {
       "_model_module_version": "^1.8.1",
       "_view_module": null,
       "_view_module_version": "^1.8.1",
       "dark": true
      }
     },
     "ddeebf13e13245ff9f8b35146728dc1c": {
      "model_module": "jupyter-vuetify",
      "model_module_version": "^1.8.1",
      "model_name": "CardActionsModel",
      "state": {
       "_events": [],
       "_jupyter_vue": "IPY_MODEL_c0b82a7dc38f4c74854dac118d2d7baa",
       "attributes": {},
       "children": [
        "IPY_MODEL_9bc1561805124be5a63e6892df40111a"
       ],
       "layout": "IPY_MODEL_b164688573aa43cabaf5ea142ab90633",
       "v_slots": []
      }
     },
     "e0ee7ce71d654cc2a27b15a802f96e5d": {
      "model_module": "jupyter-vuetify",
      "model_module_version": "^1.8.1",
      "model_name": "BtnModel",
      "state": {
       "_events": [],
       "_jupyter_vue": "IPY_MODEL_c0b82a7dc38f4c74854dac118d2d7baa",
       "attributes": {},
       "block": true,
       "children": [
        "Open"
       ],
       "elevation": null,
       "height": null,
       "href": "https://finance.yahoo.com/news/karpas-strategies-llc-buys-general-183828091.html",
       "layout": "IPY_MODEL_b990b428972442799b4d5b076b81e12b",
       "max_height": null,
       "max_width": null,
       "min_height": null,
       "min_width": null,
       "ripple": null,
       "small": true,
       "target": "_blank",
       "text": true,
       "to": null,
       "v_slots": [],
       "width": null
      }
     },
     "e179a14776674d5694daa95a2f70ed39": {
      "model_module": "@jupyter-widgets/base",
      "model_module_version": "1.2.0",
      "model_name": "LayoutModel",
      "state": {}
     },
     "e18e2f5d85ec4f29b23b8e07c2dc9ce3": {
      "model_module": "@jupyter-widgets/base",
      "model_module_version": "1.2.0",
      "model_name": "LayoutModel",
      "state": {}
     },
     "e6d3eee62b974bc2940d4d0cccbe1dad": {
      "model_module": "@jupyter-widgets/base",
      "model_module_version": "1.2.0",
      "model_name": "LayoutModel",
      "state": {}
     },
     "e90db28c0bfd4ec49bb0ef72e402c3ca": {
      "model_module": "@jupyter-widgets/base",
      "model_module_version": "1.2.0",
      "model_name": "LayoutModel",
      "state": {}
     },
     "eb06c16095a04f849f3477dfc10a0eae": {
      "model_module": "@jupyter-widgets/base",
      "model_module_version": "1.2.0",
      "model_name": "LayoutModel",
      "state": {}
     },
     "ee574fa859fa423698f9ec15744c6a37": {
      "model_module": "@jupyter-widgets/base",
      "model_module_version": "1.2.0",
      "model_name": "LayoutModel",
      "state": {}
     },
     "eeac77ab043e4759a3125e07e48c3e8c": {
      "model_module": "@jupyter-widgets/base",
      "model_module_version": "1.2.0",
      "model_name": "LayoutModel",
      "state": {}
     },
     "f03176e5abb249b1b0e4e92541e567a1": {
      "model_module": "jupyter-vuetify",
      "model_module_version": "^1.8.1",
      "model_name": "BtnModel",
      "state": {
       "_events": [],
       "_jupyter_vue": "IPY_MODEL_c0b82a7dc38f4c74854dac118d2d7baa",
       "attributes": {},
       "block": true,
       "children": [
        "Open"
       ],
       "elevation": null,
       "height": null,
       "href": "https://finance.yahoo.com/m/688547c4-de88-3139-a8d9-dcbc89e508f8/tesla%2C-nvidia%2C-microsoft.html",
       "layout": "IPY_MODEL_e179a14776674d5694daa95a2f70ed39",
       "max_height": null,
       "max_width": null,
       "min_height": null,
       "min_width": null,
       "ripple": null,
       "small": true,
       "target": "_blank",
       "text": true,
       "to": null,
       "v_slots": [],
       "width": null
      }
     },
     "f2dc9ebc2d9446ed8f45bf44695b2394": {
      "model_module": "jupyter-vuetify",
      "model_module_version": "^1.8.1",
      "model_name": "CardActionsModel",
      "state": {
       "_events": [],
       "_jupyter_vue": "IPY_MODEL_c0b82a7dc38f4c74854dac118d2d7baa",
       "attributes": {},
       "children": [
        "IPY_MODEL_aceb9641acd64fa1aee25fbe6b762fca"
       ],
       "layout": "IPY_MODEL_d8e1626cd9f74508a2fb1028f499b518",
       "v_slots": []
      }
     },
     "f6ca2011ba4f496cb6f55cfef2d7415b": {
      "model_module": "jupyter-vuetify",
      "model_module_version": "^1.8.1",
      "model_name": "CardSubtitleModel",
      "state": {
       "_events": [],
       "_jupyter_vue": "IPY_MODEL_c0b82a7dc38f4c74854dac118d2d7baa",
       "attributes": {},
       "children": [
        "GuruFocus.com (02/07/2022, 19:38)"
       ],
       "layout": "IPY_MODEL_d679d6a2f3834229993f80ca88406f0d",
       "v_slots": []
      }
     },
     "f84d6b0055df4f5cafa07cbb07ee8534": {
      "model_module": "jupyter-vuetify",
      "model_module_version": "^1.8.1",
      "model_name": "CardModel",
      "state": {
       "_events": [],
       "_jupyter_vue": "IPY_MODEL_c0b82a7dc38f4c74854dac118d2d7baa",
       "attributes": {},
       "children": [
        "IPY_MODEL_9c4c1e1f0295454f85fdb5556a8e3dc3",
        "IPY_MODEL_720f7a126e1f4dc29078847b8cfc47cd",
        "IPY_MODEL_f2dc9ebc2d9446ed8f45bf44695b2394"
       ],
       "elevation": null,
       "height": null,
       "href": null,
       "layout": "IPY_MODEL_c27bf622415c4b938346d5b727fd8155",
       "loader_height": null,
       "loading": null,
       "max_height": null,
       "max_width": null,
       "min_height": null,
       "min_width": null,
       "outlined": true,
       "ripple": null,
       "to": null,
       "v_slots": [],
       "width": null
      }
     },
     "f88c3837dd284a4a9f35e414fd61c9e8": {
      "model_module": "@jupyter-widgets/base",
      "model_module_version": "1.2.0",
      "model_name": "LayoutModel",
      "state": {}
     },
     "f8fad3dc7068472cb79caf114df900a5": {
      "model_module": "@jupyter-widgets/base",
      "model_module_version": "1.2.0",
      "model_name": "LayoutModel",
      "state": {}
     },
     "f94c75cab4ea4a0a9ff82d5de6553bfa": {
      "model_module": "jupyter-vuetify",
      "model_module_version": "^1.8.1",
      "model_name": "DataTableModel",
      "state": {
       "_events": [],
       "_jupyter_vue": "IPY_MODEL_c0b82a7dc38f4c74854dac118d2d7baa",
       "attributes": {},
       "children": [],
       "group_by": null,
       "group_desc": null,
       "headers": [
        {
         "align": "start",
         "sortable": false,
         "text": "Property",
         "value": "name"
        },
        {
         "text": "01/31/2021, 01:00",
         "value": "1612051200000"
        },
        {
         "text": "01/26/2020, 01:00",
         "value": "1579996800000"
        },
        {
         "text": "01/27/2019, 01:00",
         "value": "1548547200000"
        },
        {
         "text": "01/28/2018, 01:00",
         "value": "1517097600000"
        }
       ],
       "height": null,
       "items": [
        {
         "1517097600000": 52000000,
         "1548547200000": 45000000,
         "1579996800000": 49000000,
         "1612051200000": 2737000000,
         "name": "Intangible Assets"
        },
        {
         "1517097600000": 5351000000,
         "1548547200000": 6051000000,
         "1579996800000": 7045000000,
         "1612051200000": 8721000000,
         "name": "Capital Surplus"
        },
        {
         "1517097600000": 3770000000,
         "1548547200000": 3950000000,
         "1579996800000": 5111000000,
         "1612051200000": 11898000000,
         "name": "Total Liab"
        },
        {
         "1517097600000": 7471000000,
         "1548547200000": 9342000000,
         "1579996800000": 12204000000,
         "1612051200000": 16893000000,
         "name": "Total Stockholder Equity"
        },
        {
         "1517097600000": 318000000,
         "1548547200000": 618000000,
         "1579996800000": 783000000,
         "1612051200000": 1207000000,
         "name": "Other Current Liab"
        },
        {
         "1517097600000": 11241000000,
         "1548547200000": 13292000000,
         "1579996800000": 17315000000,
         "1612051200000": 28791000000,
         "name": "Total Assets"
        },
        {
         "1517097600000": 1000000,
         "1548547200000": 1000000,
         "1579996800000": 1000000,
         "1612051200000": 1000000,
         "name": "Common Stock"
        },
        {
         "1517097600000": 8787000000,
         "1548547200000": 12565000000,
         "1579996800000": 14971000000,
         "1612051200000": 18908000000,
         "name": "Retained Earnings"
        },
        {
         "1517097600000": 632000000,
         "1548547200000": 633000000,
         "1579996800000": 775000000,
         "1612051200000": 1375000000,
         "name": "Other Liab"
        },
        {
         "1517097600000": 618000000,
         "1548547200000": 618000000,
         "1579996800000": 618000000,
         "1612051200000": 4193000000,
         "name": "Good Will"
        },
        {
         "1517097600000": -6668000000,
         "1548547200000": -9275000000,
         "1579996800000": -9813000000,
         "1612051200000": -10737000000,
         "name": "Treasury Stock"
        },
        {
         "1517097600000": 319000000,
         "1548547200000": 668000000,
         "1579996800000": 589000000,
         "1612051200000": 2806000000,
         "name": "Other Assets"
        },
        {
         "1517097600000": 4002000000,
         "1548547200000": 782000000,
         "1579996800000": 10896000000,
         "1612051200000": 847000000,
         "name": "Cash"
        },
        {
         "1517097600000": 1153000000,
         "1548547200000": 1329000000,
         "1579996800000": 1784000000,
         "1612051200000": 3925000000,
         "name": "Total Current Liabilities"
        },
        {
         "1517097600000": 245000000,
         "1548547200000": 560000000,
         "1579996800000": 548000000,
         "1612051200000": 806000000,
         "name": "Deferred Long Term Asset Charges"
        },
        {
         "1517097600000": 15000000,
         "1548547200000": null,
         "1579996800000": null,
         "1612051200000": 999000000,
         "name": "Short Long Term Debt"
        },
        {
         "1517097600000": -18000000,
         "1548547200000": -12000000,
         "1579996800000": 1000000,
         "1612051200000": 19000000,
         "name": "Other Stockholder Equity"
        },
        {
         "1517097600000": 997000000,
         "1548547200000": 1404000000,
         "1579996800000": 2292000000,
         "1612051200000": 2856000000,
         "name": "Property Plant Equipment"
        },
        {
         "1517097600000": 9255000000,
         "1548547200000": 10557000000,
         "1579996800000": 13690000000,
         "1612051200000": 16055000000,
         "name": "Total Current Assets"
        },
        {
         "1517097600000": null,
         "1548547200000": null,
         "1579996800000": 77000000,
         "1612051200000": 144000000,
         "name": "Long Term Investments"
        },
        {
         "1517097600000": 6801000000,
         "1548547200000": 8679000000,
         "1579996800000": 11537000000,
         "1612051200000": 9963000000,
         "name": "Net Tangible Assets"
        },
        {
         "1517097600000": 3106000000,
         "1548547200000": 6640000000,
         "1579996800000": 1000000,
         "1612051200000": 10714000000,
         "name": "Short Term Investments"
        },
        {
         "1517097600000": 1265000000,
         "1548547200000": 1424000000,
         "1579996800000": 1657000000,
         "1612051200000": 2429000000,
         "name": "Net Receivables"
        },
        {
         "1517097600000": 1985000000,
         "1548547200000": 1988000000,
         "1579996800000": 1991000000,
         "1612051200000": 5964000000,
         "name": "Long Term Debt"
        },
        {
         "1517097600000": 796000000,
         "1548547200000": 1575000000,
         "1579996800000": 979000000,
         "1612051200000": 1826000000,
         "name": "Inventory"
        },
        {
         "1517097600000": 596000000,
         "1548547200000": 511000000,
         "1579996800000": 687000000,
         "1612051200000": 1201000000,
         "name": "Accounts Payable"
        }
       ],
       "layout": "IPY_MODEL_2de841e594e143fd90cfa7398aced018",
       "loading": null,
       "mobile_breakpoint": null,
       "sort_by": null,
       "sort_desc": null,
       "v_slots": []
      }
     },
     "f99e7df7d7ad4a68998da7f755a58203": {
      "model_module": "@jupyter-widgets/base",
      "model_module_version": "1.2.0",
      "model_name": "LayoutModel",
      "state": {}
     },
     "f9f699ee6bd94cec857542c5bac9037e": {
      "buffers": [
       {
        "data": "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",
        "encoding": "base64",
        "path": [
         "_data",
         0,
         "y",
         "value"
        ]
       }
      ],
      "model_module": "jupyterlab-plotly",
      "model_module_version": "^5.4.0",
      "model_name": "FigureModel",
      "state": {
       "_config": {
        "plotlyServerURL": "https://plot.ly"
       },
       "_data": [
        {
         "type": "scatter",
         "uid": "722eb4b1-9ed5-4c0c-8fb3-79ef88d91d15",
         "x": [
          "2019-02-08T00:00:00.000000",
          "2019-02-11T00:00:00.000000",
          "2019-02-12T00:00:00.000000",
          "2019-02-13T00:00:00.000000",
          "2019-02-14T00:00:00.000000",
          "2019-02-15T00:00:00.000000",
          "2019-02-19T00:00:00.000000",
          "2019-02-20T00:00:00.000000",
          "2019-02-21T00:00:00.000000",
          "2019-02-22T00:00:00.000000",
          "2019-02-25T00:00:00.000000",
          "2019-02-26T00:00:00.000000",
          "2019-02-27T00:00:00.000000",
          "2019-02-28T00:00:00.000000",
          "2019-03-01T00:00:00.000000",
          "2019-03-04T00:00:00.000000",
          "2019-03-05T00:00:00.000000",
          "2019-03-06T00:00:00.000000",
          "2019-03-07T00:00:00.000000",
          "2019-03-08T00:00:00.000000",
          "2019-03-11T00:00:00.000000",
          "2019-03-12T00:00:00.000000",
          "2019-03-13T00:00:00.000000",
          "2019-03-14T00:00:00.000000",
          "2019-03-15T00:00:00.000000",
          "2019-03-18T00:00:00.000000",
          "2019-03-19T00:00:00.000000",
          "2019-03-20T00:00:00.000000",
          "2019-03-21T00:00:00.000000",
          "2019-03-22T00:00:00.000000",
          "2019-03-25T00:00:00.000000",
          "2019-03-26T00:00:00.000000",
          "2019-03-27T00:00:00.000000",
          "2019-03-28T00:00:00.000000",
          "2019-03-29T00:00:00.000000",
          "2019-04-01T00:00:00.000000",
          "2019-04-02T00:00:00.000000",
          "2019-04-03T00:00:00.000000",
          "2019-04-04T00:00:00.000000",
          "2019-04-05T00:00:00.000000",
          "2019-04-08T00:00:00.000000",
          "2019-04-09T00:00:00.000000",
          "2019-04-10T00:00:00.000000",
          "2019-04-11T00:00:00.000000",
          "2019-04-12T00:00:00.000000",
          "2019-04-15T00:00:00.000000",
          "2019-04-16T00:00:00.000000",
          "2019-04-17T00:00:00.000000",
          "2019-04-18T00:00:00.000000",
          "2019-04-22T00:00:00.000000",
          "2019-04-23T00:00:00.000000",
          "2019-04-24T00:00:00.000000",
          "2019-04-25T00:00:00.000000",
          "2019-04-26T00:00:00.000000",
          "2019-04-29T00:00:00.000000",
          "2019-04-30T00:00:00.000000",
          "2019-05-01T00:00:00.000000",
          "2019-05-02T00:00:00.000000",
          "2019-05-03T00:00:00.000000",
          "2019-05-06T00:00:00.000000",
          "2019-05-07T00:00:00.000000",
          "2019-05-08T00:00:00.000000",
          "2019-05-09T00:00:00.000000",
          "2019-05-10T00:00:00.000000",
          "2019-05-13T00:00:00.000000",
          "2019-05-14T00:00:00.000000",
          "2019-05-15T00:00:00.000000",
          "2019-05-16T00:00:00.000000",
          "2019-05-17T00:00:00.000000",
          "2019-05-20T00:00:00.000000",
          "2019-05-21T00:00:00.000000",
          "2019-05-22T00:00:00.000000",
          "2019-05-23T00:00:00.000000",
          "2019-05-24T00:00:00.000000",
          "2019-05-28T00:00:00.000000",
          "2019-05-29T00:00:00.000000",
          "2019-05-30T00:00:00.000000",
          "2019-05-31T00:00:00.000000",
          "2019-06-03T00:00:00.000000",
          "2019-06-04T00:00:00.000000",
          "2019-06-05T00:00:00.000000",
          "2019-06-06T00:00:00.000000",
          "2019-06-07T00:00:00.000000",
          "2019-06-10T00:00:00.000000",
          "2019-06-11T00:00:00.000000",
          "2019-06-12T00:00:00.000000",
          "2019-06-13T00:00:00.000000",
          "2019-06-14T00:00:00.000000",
          "2019-06-17T00:00:00.000000",
          "2019-06-18T00:00:00.000000",
          "2019-06-19T00:00:00.000000",
          "2019-06-20T00:00:00.000000",
          "2019-06-21T00:00:00.000000",
          "2019-06-24T00:00:00.000000",
          "2019-06-25T00:00:00.000000",
          "2019-06-26T00:00:00.000000",
          "2019-06-27T00:00:00.000000",
          "2019-06-28T00:00:00.000000",
          "2019-07-01T00:00:00.000000",
          "2019-07-02T00:00:00.000000",
          "2019-07-03T00:00:00.000000",
          "2019-07-05T00:00:00.000000",
          "2019-07-08T00:00:00.000000",
          "2019-07-09T00:00:00.000000",
          "2019-07-10T00:00:00.000000",
          "2019-07-11T00:00:00.000000",
          "2019-07-12T00:00:00.000000",
          "2019-07-15T00:00:00.000000",
          "2019-07-16T00:00:00.000000",
          "2019-07-17T00:00:00.000000",
          "2019-07-18T00:00:00.000000",
          "2019-07-19T00:00:00.000000",
          "2019-07-22T00:00:00.000000",
          "2019-07-23T00:00:00.000000",
          "2019-07-24T00:00:00.000000",
          "2019-07-25T00:00:00.000000",
          "2019-07-26T00:00:00.000000",
          "2019-07-29T00:00:00.000000",
          "2019-07-30T00:00:00.000000",
          "2019-07-31T00:00:00.000000",
          "2019-08-01T00:00:00.000000",
          "2019-08-02T00:00:00.000000",
          "2019-08-05T00:00:00.000000",
          "2019-08-06T00:00:00.000000",
          "2019-08-07T00:00:00.000000",
          "2019-08-08T00:00:00.000000",
          "2019-08-09T00:00:00.000000",
          "2019-08-12T00:00:00.000000",
          "2019-08-13T00:00:00.000000",
          "2019-08-14T00:00:00.000000",
          "2019-08-15T00:00:00.000000",
          "2019-08-16T00:00:00.000000",
          "2019-08-19T00:00:00.000000",
          "2019-08-20T00:00:00.000000",
          "2019-08-21T00:00:00.000000",
          "2019-08-22T00:00:00.000000",
          "2019-08-23T00:00:00.000000",
          "2019-08-26T00:00:00.000000",
          "2019-08-27T00:00:00.000000",
          "2019-08-28T00:00:00.000000",
          "2019-08-29T00:00:00.000000",
          "2019-08-30T00:00:00.000000",
          "2019-09-03T00:00:00.000000",
          "2019-09-04T00:00:00.000000",
          "2019-09-05T00:00:00.000000",
          "2019-09-06T00:00:00.000000",
          "2019-09-09T00:00:00.000000",
          "2019-09-10T00:00:00.000000",
          "2019-09-11T00:00:00.000000",
          "2019-09-12T00:00:00.000000",
          "2019-09-13T00:00:00.000000",
          "2019-09-16T00:00:00.000000",
          "2019-09-17T00:00:00.000000",
          "2019-09-18T00:00:00.000000",
          "2019-09-19T00:00:00.000000",
          "2019-09-20T00:00:00.000000",
          "2019-09-23T00:00:00.000000",
          "2019-09-24T00:00:00.000000",
          "2019-09-25T00:00:00.000000",
          "2019-09-26T00:00:00.000000",
          "2019-09-27T00:00:00.000000",
          "2019-09-30T00:00:00.000000",
          "2019-10-01T00:00:00.000000",
          "2019-10-02T00:00:00.000000",
          "2019-10-03T00:00:00.000000",
          "2019-10-04T00:00:00.000000",
          "2019-10-07T00:00:00.000000",
          "2019-10-08T00:00:00.000000",
          "2019-10-09T00:00:00.000000",
          "2019-10-10T00:00:00.000000",
          "2019-10-11T00:00:00.000000",
          "2019-10-14T00:00:00.000000",
          "2019-10-15T00:00:00.000000",
          "2019-10-16T00:00:00.000000",
          "2019-10-17T00:00:00.000000",
          "2019-10-18T00:00:00.000000",
          "2019-10-21T00:00:00.000000",
          "2019-10-22T00:00:00.000000",
          "2019-10-23T00:00:00.000000",
          "2019-10-24T00:00:00.000000",
          "2019-10-25T00:00:00.000000",
          "2019-10-28T00:00:00.000000",
          "2019-10-29T00:00:00.000000",
          "2019-10-30T00:00:00.000000",
          "2019-10-31T00:00:00.000000",
          "2019-11-01T00:00:00.000000",
          "2019-11-04T00:00:00.000000",
          "2019-11-05T00:00:00.000000",
          "2019-11-06T00:00:00.000000",
          "2019-11-07T00:00:00.000000",
          "2019-11-08T00:00:00.000000",
          "2019-11-11T00:00:00.000000",
          "2019-11-12T00:00:00.000000",
          "2019-11-13T00:00:00.000000",
          "2019-11-14T00:00:00.000000",
          "2019-11-15T00:00:00.000000",
          "2019-11-18T00:00:00.000000",
          "2019-11-19T00:00:00.000000",
          "2019-11-20T00:00:00.000000",
          "2019-11-21T00:00:00.000000",
          "2019-11-22T00:00:00.000000",
          "2019-11-25T00:00:00.000000",
          "2019-11-26T00:00:00.000000",
          "2019-11-27T00:00:00.000000",
          "2019-11-29T00:00:00.000000",
          "2019-12-02T00:00:00.000000",
          "2019-12-03T00:00:00.000000",
          "2019-12-04T00:00:00.000000",
          "2019-12-05T00:00:00.000000",
          "2019-12-06T00:00:00.000000",
          "2019-12-09T00:00:00.000000",
          "2019-12-10T00:00:00.000000",
          "2019-12-11T00:00:00.000000",
          "2019-12-12T00:00:00.000000",
          "2019-12-13T00:00:00.000000",
          "2019-12-16T00:00:00.000000",
          "2019-12-17T00:00:00.000000",
          "2019-12-18T00:00:00.000000",
          "2019-12-19T00:00:00.000000",
          "2019-12-20T00:00:00.000000",
          "2019-12-23T00:00:00.000000",
          "2019-12-24T00:00:00.000000",
          "2019-12-26T00:00:00.000000",
          "2019-12-27T00:00:00.000000",
          "2019-12-30T00:00:00.000000",
          "2019-12-31T00:00:00.000000",
          "2020-01-02T00:00:00.000000",
          "2020-01-03T00:00:00.000000",
          "2020-01-06T00:00:00.000000",
          "2020-01-07T00:00:00.000000",
          "2020-01-08T00:00:00.000000",
          "2020-01-09T00:00:00.000000",
          "2020-01-10T00:00:00.000000",
          "2020-01-13T00:00:00.000000",
          "2020-01-14T00:00:00.000000",
          "2020-01-15T00:00:00.000000",
          "2020-01-16T00:00:00.000000",
          "2020-01-17T00:00:00.000000",
          "2020-01-21T00:00:00.000000",
          "2020-01-22T00:00:00.000000",
          "2020-01-23T00:00:00.000000",
          "2020-01-24T00:00:00.000000",
          "2020-01-27T00:00:00.000000",
          "2020-01-28T00:00:00.000000",
          "2020-01-29T00:00:00.000000",
          "2020-01-30T00:00:00.000000",
          "2020-01-31T00:00:00.000000",
          "2020-02-03T00:00:00.000000",
          "2020-02-04T00:00:00.000000",
          "2020-02-05T00:00:00.000000",
          "2020-02-06T00:00:00.000000",
          "2020-02-07T00:00:00.000000",
          "2020-02-10T00:00:00.000000",
          "2020-02-11T00:00:00.000000",
          "2020-02-12T00:00:00.000000",
          "2020-02-13T00:00:00.000000",
          "2020-02-14T00:00:00.000000",
          "2020-02-18T00:00:00.000000",
          "2020-02-19T00:00:00.000000",
          "2020-02-20T00:00:00.000000",
          "2020-02-21T00:00:00.000000",
          "2020-02-24T00:00:00.000000",
          "2020-02-25T00:00:00.000000",
          "2020-02-26T00:00:00.000000",
          "2020-02-27T00:00:00.000000",
          "2020-02-28T00:00:00.000000",
          "2020-03-02T00:00:00.000000",
          "2020-03-03T00:00:00.000000",
          "2020-03-04T00:00:00.000000",
          "2020-03-05T00:00:00.000000",
          "2020-03-06T00:00:00.000000",
          "2020-03-09T00:00:00.000000",
          "2020-03-10T00:00:00.000000",
          "2020-03-11T00:00:00.000000",
          "2020-03-12T00:00:00.000000",
          "2020-03-13T00:00:00.000000",
          "2020-03-16T00:00:00.000000",
          "2020-03-17T00:00:00.000000",
          "2020-03-18T00:00:00.000000",
          "2020-03-19T00:00:00.000000",
          "2020-03-20T00:00:00.000000",
          "2020-03-23T00:00:00.000000",
          "2020-03-24T00:00:00.000000",
          "2020-03-25T00:00:00.000000",
          "2020-03-26T00:00:00.000000",
          "2020-03-27T00:00:00.000000",
          "2020-03-30T00:00:00.000000",
          "2020-03-31T00:00:00.000000",
          "2020-04-01T00:00:00.000000",
          "2020-04-02T00:00:00.000000",
          "2020-04-03T00:00:00.000000",
          "2020-04-06T00:00:00.000000",
          "2020-04-07T00:00:00.000000",
          "2020-04-08T00:00:00.000000",
          "2020-04-09T00:00:00.000000",
          "2020-04-13T00:00:00.000000",
          "2020-04-14T00:00:00.000000",
          "2020-04-15T00:00:00.000000",
          "2020-04-16T00:00:00.000000",
          "2020-04-17T00:00:00.000000",
          "2020-04-20T00:00:00.000000",
          "2020-04-21T00:00:00.000000",
          "2020-04-22T00:00:00.000000",
          "2020-04-23T00:00:00.000000",
          "2020-04-24T00:00:00.000000",
          "2020-04-27T00:00:00.000000",
          "2020-04-28T00:00:00.000000",
          "2020-04-29T00:00:00.000000",
          "2020-04-30T00:00:00.000000",
          "2020-05-01T00:00:00.000000",
          "2020-05-04T00:00:00.000000",
          "2020-05-05T00:00:00.000000",
          "2020-05-06T00:00:00.000000",
          "2020-05-07T00:00:00.000000",
          "2020-05-08T00:00:00.000000",
          "2020-05-11T00:00:00.000000",
          "2020-05-12T00:00:00.000000",
          "2020-05-13T00:00:00.000000",
          "2020-05-14T00:00:00.000000",
          "2020-05-15T00:00:00.000000",
          "2020-05-18T00:00:00.000000",
          "2020-05-19T00:00:00.000000",
          "2020-05-20T00:00:00.000000",
          "2020-05-21T00:00:00.000000",
          "2020-05-22T00:00:00.000000",
          "2020-05-26T00:00:00.000000",
          "2020-05-27T00:00:00.000000",
          "2020-05-28T00:00:00.000000",
          "2020-05-29T00:00:00.000000",
          "2020-06-01T00:00:00.000000",
          "2020-06-02T00:00:00.000000",
          "2020-06-03T00:00:00.000000",
          "2020-06-04T00:00:00.000000",
          "2020-06-05T00:00:00.000000",
          "2020-06-08T00:00:00.000000",
          "2020-06-09T00:00:00.000000",
          "2020-06-10T00:00:00.000000",
          "2020-06-11T00:00:00.000000",
          "2020-06-12T00:00:00.000000",
          "2020-06-15T00:00:00.000000",
          "2020-06-16T00:00:00.000000",
          "2020-06-17T00:00:00.000000",
          "2020-06-18T00:00:00.000000",
          "2020-06-19T00:00:00.000000",
          "2020-06-22T00:00:00.000000",
          "2020-06-23T00:00:00.000000",
          "2020-06-24T00:00:00.000000",
          "2020-06-25T00:00:00.000000",
          "2020-06-26T00:00:00.000000",
          "2020-06-29T00:00:00.000000",
          "2020-06-30T00:00:00.000000",
          "2020-07-01T00:00:00.000000",
          "2020-07-02T00:00:00.000000",
          "2020-07-06T00:00:00.000000",
          "2020-07-07T00:00:00.000000",
          "2020-07-08T00:00:00.000000",
          "2020-07-09T00:00:00.000000",
          "2020-07-10T00:00:00.000000",
          "2020-07-13T00:00:00.000000",
          "2020-07-14T00:00:00.000000",
          "2020-07-15T00:00:00.000000",
          "2020-07-16T00:00:00.000000",
          "2020-07-17T00:00:00.000000",
          "2020-07-20T00:00:00.000000",
          "2020-07-21T00:00:00.000000",
          "2020-07-22T00:00:00.000000",
          "2020-07-23T00:00:00.000000",
          "2020-07-24T00:00:00.000000",
          "2020-07-27T00:00:00.000000",
          "2020-07-28T00:00:00.000000",
          "2020-07-29T00:00:00.000000",
          "2020-07-30T00:00:00.000000",
          "2020-07-31T00:00:00.000000",
          "2020-08-03T00:00:00.000000",
          "2020-08-04T00:00:00.000000",
          "2020-08-05T00:00:00.000000",
          "2020-08-06T00:00:00.000000",
          "2020-08-07T00:00:00.000000",
          "2020-08-10T00:00:00.000000",
          "2020-08-11T00:00:00.000000",
          "2020-08-12T00:00:00.000000",
          "2020-08-13T00:00:00.000000",
          "2020-08-14T00:00:00.000000",
          "2020-08-17T00:00:00.000000",
          "2020-08-18T00:00:00.000000",
          "2020-08-19T00:00:00.000000",
          "2020-08-20T00:00:00.000000",
          "2020-08-21T00:00:00.000000",
          "2020-08-24T00:00:00.000000",
          "2020-08-25T00:00:00.000000",
          "2020-08-26T00:00:00.000000",
          "2020-08-27T00:00:00.000000",
          "2020-08-28T00:00:00.000000",
          "2020-08-31T00:00:00.000000",
          "2020-09-01T00:00:00.000000",
          "2020-09-02T00:00:00.000000",
          "2020-09-03T00:00:00.000000",
          "2020-09-04T00:00:00.000000",
          "2020-09-08T00:00:00.000000",
          "2020-09-09T00:00:00.000000",
          "2020-09-10T00:00:00.000000",
          "2020-09-11T00:00:00.000000",
          "2020-09-14T00:00:00.000000",
          "2020-09-15T00:00:00.000000",
          "2020-09-16T00:00:00.000000",
          "2020-09-17T00:00:00.000000",
          "2020-09-18T00:00:00.000000",
          "2020-09-21T00:00:00.000000",
          "2020-09-22T00:00:00.000000",
          "2020-09-23T00:00:00.000000",
          "2020-09-24T00:00:00.000000",
          "2020-09-25T00:00:00.000000",
          "2020-09-28T00:00:00.000000",
          "2020-09-29T00:00:00.000000",
          "2020-09-30T00:00:00.000000",
          "2020-10-01T00:00:00.000000",
          "2020-10-02T00:00:00.000000",
          "2020-10-05T00:00:00.000000",
          "2020-10-06T00:00:00.000000",
          "2020-10-07T00:00:00.000000",
          "2020-10-08T00:00:00.000000",
          "2020-10-09T00:00:00.000000",
          "2020-10-12T00:00:00.000000",
          "2020-10-13T00:00:00.000000",
          "2020-10-14T00:00:00.000000",
          "2020-10-15T00:00:00.000000",
          "2020-10-16T00:00:00.000000",
          "2020-10-19T00:00:00.000000",
          "2020-10-20T00:00:00.000000",
          "2020-10-21T00:00:00.000000",
          "2020-10-22T00:00:00.000000",
          "2020-10-23T00:00:00.000000",
          "2020-10-26T00:00:00.000000",
          "2020-10-27T00:00:00.000000",
          "2020-10-28T00:00:00.000000",
          "2020-10-29T00:00:00.000000",
          "2020-10-30T00:00:00.000000",
          "2020-11-02T00:00:00.000000",
          "2020-11-03T00:00:00.000000",
          "2020-11-04T00:00:00.000000",
          "2020-11-05T00:00:00.000000",
          "2020-11-06T00:00:00.000000",
          "2020-11-09T00:00:00.000000",
          "2020-11-10T00:00:00.000000",
          "2020-11-11T00:00:00.000000",
          "2020-11-12T00:00:00.000000",
          "2020-11-13T00:00:00.000000",
          "2020-11-16T00:00:00.000000",
          "2020-11-17T00:00:00.000000",
          "2020-11-18T00:00:00.000000",
          "2020-11-19T00:00:00.000000",
          "2020-11-20T00:00:00.000000",
          "2020-11-23T00:00:00.000000",
          "2020-11-24T00:00:00.000000",
          "2020-11-25T00:00:00.000000",
          "2020-11-27T00:00:00.000000",
          "2020-11-30T00:00:00.000000",
          "2020-12-01T00:00:00.000000",
          "2020-12-02T00:00:00.000000",
          "2020-12-03T00:00:00.000000",
          "2020-12-04T00:00:00.000000",
          "2020-12-07T00:00:00.000000",
          "2020-12-08T00:00:00.000000",
          "2020-12-09T00:00:00.000000",
          "2020-12-10T00:00:00.000000",
          "2020-12-11T00:00:00.000000",
          "2020-12-14T00:00:00.000000",
          "2020-12-15T00:00:00.000000",
          "2020-12-16T00:00:00.000000",
          "2020-12-17T00:00:00.000000",
          "2020-12-18T00:00:00.000000",
          "2020-12-21T00:00:00.000000",
          "2020-12-22T00:00:00.000000",
          "2020-12-23T00:00:00.000000",
          "2020-12-24T00:00:00.000000",
          "2020-12-28T00:00:00.000000",
          "2020-12-29T00:00:00.000000",
          "2020-12-30T00:00:00.000000",
          "2020-12-31T00:00:00.000000",
          "2021-01-04T00:00:00.000000",
          "2021-01-05T00:00:00.000000",
          "2021-01-06T00:00:00.000000",
          "2021-01-07T00:00:00.000000",
          "2021-01-08T00:00:00.000000",
          "2021-01-11T00:00:00.000000",
          "2021-01-12T00:00:00.000000",
          "2021-01-13T00:00:00.000000",
          "2021-01-14T00:00:00.000000",
          "2021-01-15T00:00:00.000000",
          "2021-01-19T00:00:00.000000",
          "2021-01-20T00:00:00.000000",
          "2021-01-21T00:00:00.000000",
          "2021-01-22T00:00:00.000000",
          "2021-01-25T00:00:00.000000",
          "2021-01-26T00:00:00.000000",
          "2021-01-27T00:00:00.000000",
          "2021-01-28T00:00:00.000000",
          "2021-01-29T00:00:00.000000",
          "2021-02-01T00:00:00.000000",
          "2021-02-02T00:00:00.000000",
          "2021-02-03T00:00:00.000000",
          "2021-02-04T00:00:00.000000",
          "2021-02-05T00:00:00.000000",
          "2021-02-08T00:00:00.000000",
          "2021-02-09T00:00:00.000000",
          "2021-02-10T00:00:00.000000",
          "2021-02-11T00:00:00.000000",
          "2021-02-12T00:00:00.000000",
          "2021-02-16T00:00:00.000000",
          "2021-02-17T00:00:00.000000",
          "2021-02-18T00:00:00.000000",
          "2021-02-19T00:00:00.000000",
          "2021-02-22T00:00:00.000000",
          "2021-02-23T00:00:00.000000",
          "2021-02-24T00:00:00.000000",
          "2021-02-25T00:00:00.000000",
          "2021-02-26T00:00:00.000000",
          "2021-03-01T00:00:00.000000",
          "2021-03-02T00:00:00.000000",
          "2021-03-03T00:00:00.000000",
          "2021-03-04T00:00:00.000000",
          "2021-03-05T00:00:00.000000",
          "2021-03-08T00:00:00.000000",
          "2021-03-09T00:00:00.000000",
          "2021-03-10T00:00:00.000000",
          "2021-03-11T00:00:00.000000",
          "2021-03-12T00:00:00.000000",
          "2021-03-15T00:00:00.000000",
          "2021-03-16T00:00:00.000000",
          "2021-03-17T00:00:00.000000",
          "2021-03-18T00:00:00.000000",
          "2021-03-19T00:00:00.000000",
          "2021-03-22T00:00:00.000000",
          "2021-03-23T00:00:00.000000",
          "2021-03-24T00:00:00.000000",
          "2021-03-25T00:00:00.000000",
          "2021-03-26T00:00:00.000000",
          "2021-03-29T00:00:00.000000",
          "2021-03-30T00:00:00.000000",
          "2021-03-31T00:00:00.000000",
          "2021-04-01T00:00:00.000000",
          "2021-04-05T00:00:00.000000",
          "2021-04-06T00:00:00.000000",
          "2021-04-07T00:00:00.000000",
          "2021-04-08T00:00:00.000000",
          "2021-04-09T00:00:00.000000",
          "2021-04-12T00:00:00.000000",
          "2021-04-13T00:00:00.000000",
          "2021-04-14T00:00:00.000000",
          "2021-04-15T00:00:00.000000",
          "2021-04-16T00:00:00.000000",
          "2021-04-19T00:00:00.000000",
          "2021-04-20T00:00:00.000000",
          "2021-04-21T00:00:00.000000",
          "2021-04-22T00:00:00.000000",
          "2021-04-23T00:00:00.000000",
          "2021-04-26T00:00:00.000000",
          "2021-04-27T00:00:00.000000",
          "2021-04-28T00:00:00.000000",
          "2021-04-29T00:00:00.000000",
          "2021-04-30T00:00:00.000000",
          "2021-05-03T00:00:00.000000",
          "2021-05-04T00:00:00.000000",
          "2021-05-05T00:00:00.000000",
          "2021-05-06T00:00:00.000000",
          "2021-05-07T00:00:00.000000",
          "2021-05-10T00:00:00.000000",
          "2021-05-11T00:00:00.000000",
          "2021-05-12T00:00:00.000000",
          "2021-05-13T00:00:00.000000",
          "2021-05-14T00:00:00.000000",
          "2021-05-17T00:00:00.000000",
          "2021-05-18T00:00:00.000000",
          "2021-05-19T00:00:00.000000",
          "2021-05-20T00:00:00.000000",
          "2021-05-21T00:00:00.000000",
          "2021-05-24T00:00:00.000000",
          "2021-05-25T00:00:00.000000",
          "2021-05-26T00:00:00.000000",
          "2021-05-27T00:00:00.000000",
          "2021-05-28T00:00:00.000000",
          "2021-06-01T00:00:00.000000",
          "2021-06-02T00:00:00.000000",
          "2021-06-03T00:00:00.000000",
          "2021-06-04T00:00:00.000000",
          "2021-06-07T00:00:00.000000",
          "2021-06-08T00:00:00.000000",
          "2021-06-09T00:00:00.000000",
          "2021-06-10T00:00:00.000000",
          "2021-06-11T00:00:00.000000",
          "2021-06-14T00:00:00.000000",
          "2021-06-15T00:00:00.000000",
          "2021-06-16T00:00:00.000000",
          "2021-06-17T00:00:00.000000",
          "2021-06-18T00:00:00.000000",
          "2021-06-21T00:00:00.000000",
          "2021-06-22T00:00:00.000000",
          "2021-06-23T00:00:00.000000",
          "2021-06-24T00:00:00.000000",
          "2021-06-25T00:00:00.000000",
          "2021-06-28T00:00:00.000000",
          "2021-06-29T00:00:00.000000",
          "2021-06-30T00:00:00.000000",
          "2021-07-01T00:00:00.000000",
          "2021-07-02T00:00:00.000000",
          "2021-07-06T00:00:00.000000",
          "2021-07-07T00:00:00.000000",
          "2021-07-08T00:00:00.000000",
          "2021-07-09T00:00:00.000000",
          "2021-07-12T00:00:00.000000",
          "2021-07-13T00:00:00.000000",
          "2021-07-14T00:00:00.000000",
          "2021-07-15T00:00:00.000000",
          "2021-07-16T00:00:00.000000",
          "2021-07-19T00:00:00.000000",
          "2021-07-20T00:00:00.000000",
          "2021-07-21T00:00:00.000000",
          "2021-07-22T00:00:00.000000",
          "2021-07-23T00:00:00.000000",
          "2021-07-26T00:00:00.000000",
          "2021-07-27T00:00:00.000000",
          "2021-07-28T00:00:00.000000",
          "2021-07-29T00:00:00.000000",
          "2021-07-30T00:00:00.000000",
          "2021-08-02T00:00:00.000000",
          "2021-08-03T00:00:00.000000",
          "2021-08-04T00:00:00.000000",
          "2021-08-05T00:00:00.000000",
          "2021-08-06T00:00:00.000000",
          "2021-08-09T00:00:00.000000",
          "2021-08-10T00:00:00.000000",
          "2021-08-11T00:00:00.000000",
          "2021-08-12T00:00:00.000000",
          "2021-08-13T00:00:00.000000",
          "2021-08-16T00:00:00.000000",
          "2021-08-17T00:00:00.000000",
          "2021-08-18T00:00:00.000000",
          "2021-08-19T00:00:00.000000",
          "2021-08-20T00:00:00.000000",
          "2021-08-23T00:00:00.000000",
          "2021-08-24T00:00:00.000000",
          "2021-08-25T00:00:00.000000",
          "2021-08-26T00:00:00.000000",
          "2021-08-27T00:00:00.000000",
          "2021-08-30T00:00:00.000000",
          "2021-08-31T00:00:00.000000",
          "2021-09-01T00:00:00.000000",
          "2021-09-02T00:00:00.000000",
          "2021-09-03T00:00:00.000000",
          "2021-09-07T00:00:00.000000",
          "2021-09-08T00:00:00.000000",
          "2021-09-09T00:00:00.000000",
          "2021-09-10T00:00:00.000000",
          "2021-09-13T00:00:00.000000",
          "2021-09-14T00:00:00.000000",
          "2021-09-15T00:00:00.000000",
          "2021-09-16T00:00:00.000000",
          "2021-09-17T00:00:00.000000",
          "2021-09-20T00:00:00.000000",
          "2021-09-21T00:00:00.000000",
          "2021-09-22T00:00:00.000000",
          "2021-09-23T00:00:00.000000",
          "2021-09-24T00:00:00.000000",
          "2021-09-27T00:00:00.000000",
          "2021-09-28T00:00:00.000000",
          "2021-09-29T00:00:00.000000",
          "2021-09-30T00:00:00.000000",
          "2021-10-01T00:00:00.000000",
          "2021-10-04T00:00:00.000000",
          "2021-10-05T00:00:00.000000",
          "2021-10-06T00:00:00.000000",
          "2021-10-07T00:00:00.000000",
          "2021-10-08T00:00:00.000000",
          "2021-10-11T00:00:00.000000",
          "2021-10-12T00:00:00.000000",
          "2021-10-13T00:00:00.000000",
          "2021-10-14T00:00:00.000000",
          "2021-10-15T00:00:00.000000",
          "2021-10-18T00:00:00.000000",
          "2021-10-19T00:00:00.000000",
          "2021-10-20T00:00:00.000000",
          "2021-10-21T00:00:00.000000",
          "2021-10-22T00:00:00.000000",
          "2021-10-25T00:00:00.000000",
          "2021-10-26T00:00:00.000000",
          "2021-10-27T00:00:00.000000",
          "2021-10-28T00:00:00.000000",
          "2021-10-29T00:00:00.000000",
          "2021-11-01T00:00:00.000000",
          "2021-11-02T00:00:00.000000",
          "2021-11-03T00:00:00.000000",
          "2021-11-04T00:00:00.000000",
          "2021-11-05T00:00:00.000000",
          "2021-11-08T00:00:00.000000",
          "2021-11-09T00:00:00.000000",
          "2021-11-10T00:00:00.000000",
          "2021-11-11T00:00:00.000000",
          "2021-11-12T00:00:00.000000",
          "2021-11-15T00:00:00.000000",
          "2021-11-16T00:00:00.000000",
          "2021-11-17T00:00:00.000000",
          "2021-11-18T00:00:00.000000",
          "2021-11-19T00:00:00.000000",
          "2021-11-22T00:00:00.000000",
          "2021-11-23T00:00:00.000000",
          "2021-11-24T00:00:00.000000",
          "2021-11-26T00:00:00.000000",
          "2021-11-29T00:00:00.000000",
          "2021-11-30T00:00:00.000000",
          "2021-12-01T00:00:00.000000",
          "2021-12-02T00:00:00.000000",
          "2021-12-03T00:00:00.000000",
          "2021-12-06T00:00:00.000000",
          "2021-12-07T00:00:00.000000",
          "2021-12-08T00:00:00.000000",
          "2021-12-09T00:00:00.000000",
          "2021-12-10T00:00:00.000000",
          "2021-12-13T00:00:00.000000",
          "2021-12-14T00:00:00.000000",
          "2021-12-15T00:00:00.000000",
          "2021-12-16T00:00:00.000000",
          "2021-12-17T00:00:00.000000",
          "2021-12-20T00:00:00.000000",
          "2021-12-21T00:00:00.000000",
          "2021-12-22T00:00:00.000000",
          "2021-12-23T00:00:00.000000",
          "2021-12-27T00:00:00.000000",
          "2021-12-28T00:00:00.000000",
          "2021-12-29T00:00:00.000000",
          "2021-12-30T00:00:00.000000",
          "2021-12-31T00:00:00.000000",
          "2022-01-03T00:00:00.000000",
          "2022-01-04T00:00:00.000000",
          "2022-01-05T00:00:00.000000",
          "2022-01-06T00:00:00.000000",
          "2022-01-07T00:00:00.000000",
          "2022-01-10T00:00:00.000000",
          "2022-01-11T00:00:00.000000",
          "2022-01-12T00:00:00.000000",
          "2022-01-13T00:00:00.000000",
          "2022-01-14T00:00:00.000000",
          "2022-01-18T00:00:00.000000",
          "2022-01-19T00:00:00.000000",
          "2022-01-20T00:00:00.000000",
          "2022-01-21T00:00:00.000000",
          "2022-01-24T00:00:00.000000",
          "2022-01-25T00:00:00.000000",
          "2022-01-26T00:00:00.000000",
          "2022-01-27T00:00:00.000000",
          "2022-01-28T00:00:00.000000",
          "2022-01-31T00:00:00.000000",
          "2022-02-01T00:00:00.000000",
          "2022-02-02T00:00:00.000000",
          "2022-02-03T00:00:00.000000",
          "2022-02-04T00:00:00.000000",
          "2022-02-07T00:00:00.000000"
         ],
         "y": {
          "dtype": "float64",
          "shape": [
           756
          ]
         }
        }
       ],
       "_js2py_restyle": {},
       "_js2py_update": {},
       "_last_layout_edit_id": 1,
       "_last_trace_edit_id": 1,
       "_layout": {
        "autosize": true,
        "template": {
         "data": {
          "bar": [
           {
            "error_x": {
             "color": "#f2f5fa"
            },
            "error_y": {
             "color": "#f2f5fa"
            },
            "marker": {
             "line": {
              "color": "rgb(17,17,17)",
              "width": 0.5
             },
             "pattern": {
              "fillmode": "overlay",
              "size": 10,
              "solidity": 0.2
             }
            },
            "type": "bar"
           }
          ],
          "barpolar": [
           {
            "marker": {
             "line": {
              "color": "rgb(17,17,17)",
              "width": 0.5
             },
             "pattern": {
              "fillmode": "overlay",
              "size": 10,
              "solidity": 0.2
             }
            },
            "type": "barpolar"
           }
          ],
          "carpet": [
           {
            "aaxis": {
             "endlinecolor": "#A2B1C6",
             "gridcolor": "#506784",
             "linecolor": "#506784",
             "minorgridcolor": "#506784",
             "startlinecolor": "#A2B1C6"
            },
            "baxis": {
             "endlinecolor": "#A2B1C6",
             "gridcolor": "#506784",
             "linecolor": "#506784",
             "minorgridcolor": "#506784",
             "startlinecolor": "#A2B1C6"
            },
            "type": "carpet"
           }
          ],
          "choropleth": [
           {
            "colorbar": {
             "outlinewidth": 0,
             "ticks": ""
            },
            "type": "choropleth"
           }
          ],
          "contour": [
           {
            "colorbar": {
             "outlinewidth": 0,
             "ticks": ""
            },
            "colorscale": [
             [
              0,
              "#0d0887"
             ],
             [
              0.1111111111111111,
              "#46039f"
             ],
             [
              0.2222222222222222,
              "#7201a8"
             ],
             [
              0.3333333333333333,
              "#9c179e"
             ],
             [
              0.4444444444444444,
              "#bd3786"
             ],
             [
              0.5555555555555556,
              "#d8576b"
             ],
             [
              0.6666666666666666,
              "#ed7953"
             ],
             [
              0.7777777777777778,
              "#fb9f3a"
             ],
             [
              0.8888888888888888,
              "#fdca26"
             ],
             [
              1,
              "#f0f921"
             ]
            ],
            "type": "contour"
           }
          ],
          "contourcarpet": [
           {
            "colorbar": {
             "outlinewidth": 0,
             "ticks": ""
            },
            "type": "contourcarpet"
           }
          ],
          "heatmap": [
           {
            "colorbar": {
             "outlinewidth": 0,
             "ticks": ""
            },
            "colorscale": [
             [
              0,
              "#0d0887"
             ],
             [
              0.1111111111111111,
              "#46039f"
             ],
             [
              0.2222222222222222,
              "#7201a8"
             ],
             [
              0.3333333333333333,
              "#9c179e"
             ],
             [
              0.4444444444444444,
              "#bd3786"
             ],
             [
              0.5555555555555556,
              "#d8576b"
             ],
             [
              0.6666666666666666,
              "#ed7953"
             ],
             [
              0.7777777777777778,
              "#fb9f3a"
             ],
             [
              0.8888888888888888,
              "#fdca26"
             ],
             [
              1,
              "#f0f921"
             ]
            ],
            "type": "heatmap"
           }
          ],
          "heatmapgl": [
           {
            "colorbar": {
             "outlinewidth": 0,
             "ticks": ""
            },
            "colorscale": [
             [
              0,
              "#0d0887"
             ],
             [
              0.1111111111111111,
              "#46039f"
             ],
             [
              0.2222222222222222,
              "#7201a8"
             ],
             [
              0.3333333333333333,
              "#9c179e"
             ],
             [
              0.4444444444444444,
              "#bd3786"
             ],
             [
              0.5555555555555556,
              "#d8576b"
             ],
             [
              0.6666666666666666,
              "#ed7953"
             ],
             [
              0.7777777777777778,
              "#fb9f3a"
             ],
             [
              0.8888888888888888,
              "#fdca26"
             ],
             [
              1,
              "#f0f921"
             ]
            ],
            "type": "heatmapgl"
           }
          ],
          "histogram": [
           {
            "marker": {
             "pattern": {
              "fillmode": "overlay",
              "size": 10,
              "solidity": 0.2
             }
            },
            "type": "histogram"
           }
          ],
          "histogram2d": [
           {
            "colorbar": {
             "outlinewidth": 0,
             "ticks": ""
            },
            "colorscale": [
             [
              0,
              "#0d0887"
             ],
             [
              0.1111111111111111,
              "#46039f"
             ],
             [
              0.2222222222222222,
              "#7201a8"
             ],
             [
              0.3333333333333333,
              "#9c179e"
             ],
             [
              0.4444444444444444,
              "#bd3786"
             ],
             [
              0.5555555555555556,
              "#d8576b"
             ],
             [
              0.6666666666666666,
              "#ed7953"
             ],
             [
              0.7777777777777778,
              "#fb9f3a"
             ],
             [
              0.8888888888888888,
              "#fdca26"
             ],
             [
              1,
              "#f0f921"
             ]
            ],
            "type": "histogram2d"
           }
          ],
          "histogram2dcontour": [
           {
            "colorbar": {
             "outlinewidth": 0,
             "ticks": ""
            },
            "colorscale": [
             [
              0,
              "#0d0887"
             ],
             [
              0.1111111111111111,
              "#46039f"
             ],
             [
              0.2222222222222222,
              "#7201a8"
             ],
             [
              0.3333333333333333,
              "#9c179e"
             ],
             [
              0.4444444444444444,
              "#bd3786"
             ],
             [
              0.5555555555555556,
              "#d8576b"
             ],
             [
              0.6666666666666666,
              "#ed7953"
             ],
             [
              0.7777777777777778,
              "#fb9f3a"
             ],
             [
              0.8888888888888888,
              "#fdca26"
             ],
             [
              1,
              "#f0f921"
             ]
            ],
            "type": "histogram2dcontour"
           }
          ],
          "mesh3d": [
           {
            "colorbar": {
             "outlinewidth": 0,
             "ticks": ""
            },
            "type": "mesh3d"
           }
          ],
          "parcoords": [
           {
            "line": {
             "colorbar": {
              "outlinewidth": 0,
              "ticks": ""
             }
            },
            "type": "parcoords"
           }
          ],
          "pie": [
           {
            "automargin": true,
            "type": "pie"
           }
          ],
          "scatter": [
           {
            "marker": {
             "line": {
              "color": "#283442"
             }
            },
            "type": "scatter"
           }
          ],
          "scatter3d": [
           {
            "line": {
             "colorbar": {
              "outlinewidth": 0,
              "ticks": ""
             }
            },
            "marker": {
             "colorbar": {
              "outlinewidth": 0,
              "ticks": ""
             }
            },
            "type": "scatter3d"
           }
          ],
          "scattercarpet": [
           {
            "marker": {
             "colorbar": {
              "outlinewidth": 0,
              "ticks": ""
             }
            },
            "type": "scattercarpet"
           }
          ],
          "scattergeo": [
           {
            "marker": {
             "colorbar": {
              "outlinewidth": 0,
              "ticks": ""
             }
            },
            "type": "scattergeo"
           }
          ],
          "scattergl": [
           {
            "marker": {
             "line": {
              "color": "#283442"
             }
            },
            "type": "scattergl"
           }
          ],
          "scattermapbox": [
           {
            "marker": {
             "colorbar": {
              "outlinewidth": 0,
              "ticks": ""
             }
            },
            "type": "scattermapbox"
           }
          ],
          "scatterpolar": [
           {
            "marker": {
             "colorbar": {
              "outlinewidth": 0,
              "ticks": ""
             }
            },
            "type": "scatterpolar"
           }
          ],
          "scatterpolargl": [
           {
            "marker": {
             "colorbar": {
              "outlinewidth": 0,
              "ticks": ""
             }
            },
            "type": "scatterpolargl"
           }
          ],
          "scatterternary": [
           {
            "marker": {
             "colorbar": {
              "outlinewidth": 0,
              "ticks": ""
             }
            },
            "type": "scatterternary"
           }
          ],
          "surface": [
           {
            "colorbar": {
             "outlinewidth": 0,
             "ticks": ""
            },
            "colorscale": [
             [
              0,
              "#0d0887"
             ],
             [
              0.1111111111111111,
              "#46039f"
             ],
             [
              0.2222222222222222,
              "#7201a8"
             ],
             [
              0.3333333333333333,
              "#9c179e"
             ],
             [
              0.4444444444444444,
              "#bd3786"
             ],
             [
              0.5555555555555556,
              "#d8576b"
             ],
             [
              0.6666666666666666,
              "#ed7953"
             ],
             [
              0.7777777777777778,
              "#fb9f3a"
             ],
             [
              0.8888888888888888,
              "#fdca26"
             ],
             [
              1,
              "#f0f921"
             ]
            ],
            "type": "surface"
           }
          ],
          "table": [
           {
            "cells": {
             "fill": {
              "color": "#506784"
             },
             "line": {
              "color": "rgb(17,17,17)"
             }
            },
            "header": {
             "fill": {
              "color": "#2a3f5f"
             },
             "line": {
              "color": "rgb(17,17,17)"
             }
            },
            "type": "table"
           }
          ]
         },
         "layout": {
          "annotationdefaults": {
           "arrowcolor": "#f2f5fa",
           "arrowhead": 0,
           "arrowwidth": 1
          },
          "autotypenumbers": "strict",
          "coloraxis": {
           "colorbar": {
            "outlinewidth": 0,
            "ticks": ""
           }
          },
          "colorscale": {
           "diverging": [
            [
             0,
             "#8e0152"
            ],
            [
             0.1,
             "#c51b7d"
            ],
            [
             0.2,
             "#de77ae"
            ],
            [
             0.3,
             "#f1b6da"
            ],
            [
             0.4,
             "#fde0ef"
            ],
            [
             0.5,
             "#f7f7f7"
            ],
            [
             0.6,
             "#e6f5d0"
            ],
            [
             0.7,
             "#b8e186"
            ],
            [
             0.8,
             "#7fbc41"
            ],
            [
             0.9,
             "#4d9221"
            ],
            [
             1,
             "#276419"
            ]
           ],
           "sequential": [
            [
             0,
             "#0d0887"
            ],
            [
             0.1111111111111111,
             "#46039f"
            ],
            [
             0.2222222222222222,
             "#7201a8"
            ],
            [
             0.3333333333333333,
             "#9c179e"
            ],
            [
             0.4444444444444444,
             "#bd3786"
            ],
            [
             0.5555555555555556,
             "#d8576b"
            ],
            [
             0.6666666666666666,
             "#ed7953"
            ],
            [
             0.7777777777777778,
             "#fb9f3a"
            ],
            [
             0.8888888888888888,
             "#fdca26"
            ],
            [
             1,
             "#f0f921"
            ]
           ],
           "sequentialminus": [
            [
             0,
             "#0d0887"
            ],
            [
             0.1111111111111111,
             "#46039f"
            ],
            [
             0.2222222222222222,
             "#7201a8"
            ],
            [
             0.3333333333333333,
             "#9c179e"
            ],
            [
             0.4444444444444444,
             "#bd3786"
            ],
            [
             0.5555555555555556,
             "#d8576b"
            ],
            [
             0.6666666666666666,
             "#ed7953"
            ],
            [
             0.7777777777777778,
             "#fb9f3a"
            ],
            [
             0.8888888888888888,
             "#fdca26"
            ],
            [
             1,
             "#f0f921"
            ]
           ]
          },
          "colorway": [
           "#636efa",
           "#EF553B",
           "#00cc96",
           "#ab63fa",
           "#FFA15A",
           "#19d3f3",
           "#FF6692",
           "#B6E880",
           "#FF97FF",
           "#FECB52"
          ],
          "font": {
           "color": "#f2f5fa"
          },
          "geo": {
           "bgcolor": "rgb(17,17,17)",
           "lakecolor": "rgb(17,17,17)",
           "landcolor": "rgb(17,17,17)",
           "showlakes": true,
           "showland": true,
           "subunitcolor": "#506784"
          },
          "hoverlabel": {
           "align": "left"
          },
          "hovermode": "closest",
          "mapbox": {
           "style": "dark"
          },
          "paper_bgcolor": "rgb(17,17,17)",
          "plot_bgcolor": "rgb(17,17,17)",
          "polar": {
           "angularaxis": {
            "gridcolor": "#506784",
            "linecolor": "#506784",
            "ticks": ""
           },
           "bgcolor": "rgb(17,17,17)",
           "radialaxis": {
            "gridcolor": "#506784",
            "linecolor": "#506784",
            "ticks": ""
           }
          },
          "scene": {
           "xaxis": {
            "backgroundcolor": "rgb(17,17,17)",
            "gridcolor": "#506784",
            "gridwidth": 2,
            "linecolor": "#506784",
            "showbackground": true,
            "ticks": "",
            "zerolinecolor": "#C8D4E3"
           },
           "yaxis": {
            "backgroundcolor": "rgb(17,17,17)",
            "gridcolor": "#506784",
            "gridwidth": 2,
            "linecolor": "#506784",
            "showbackground": true,
            "ticks": "",
            "zerolinecolor": "#C8D4E3"
           },
           "zaxis": {
            "backgroundcolor": "rgb(17,17,17)",
            "gridcolor": "#506784",
            "gridwidth": 2,
            "linecolor": "#506784",
            "showbackground": true,
            "ticks": "",
            "zerolinecolor": "#C8D4E3"
           }
          },
          "shapedefaults": {
           "line": {
            "color": "#f2f5fa"
           }
          },
          "sliderdefaults": {
           "bgcolor": "#C8D4E3",
           "bordercolor": "rgb(17,17,17)",
           "borderwidth": 1,
           "tickwidth": 0
          },
          "ternary": {
           "aaxis": {
            "gridcolor": "#506784",
            "linecolor": "#506784",
            "ticks": ""
           },
           "baxis": {
            "gridcolor": "#506784",
            "linecolor": "#506784",
            "ticks": ""
           },
           "bgcolor": "rgb(17,17,17)",
           "caxis": {
            "gridcolor": "#506784",
            "linecolor": "#506784",
            "ticks": ""
           }
          },
          "title": {
           "x": 0.05
          },
          "updatemenudefaults": {
           "bgcolor": "#506784",
           "borderwidth": 0
          },
          "xaxis": {
           "automargin": true,
           "gridcolor": "#283442",
           "linecolor": "#506784",
           "ticks": "",
           "title": {
            "standoff": 15
           },
           "zerolinecolor": "#283442",
           "zerolinewidth": 2
          },
          "yaxis": {
           "automargin": true,
           "gridcolor": "#283442",
           "linecolor": "#506784",
           "ticks": "",
           "title": {
            "standoff": 15
           },
           "zerolinecolor": "#283442",
           "zerolinewidth": 2
          }
         }
        },
        "title": {
         "text": "NVDA PRICE HISTORY",
         "x": 0.5,
         "xanchor": "center",
         "yanchor": "top"
        }
       },
       "_py2js_addTraces": {},
       "_py2js_animate": {},
       "_py2js_deleteTraces": {},
       "_py2js_moveTraces": {},
       "_py2js_removeLayoutProps": {},
       "_py2js_removeTraceProps": {},
       "_py2js_restyle": {},
       "_view_count": 1
      }
     },
     "fa92ada5409a4109a6c789aa22db9b05": {
      "model_module": "@jupyter-widgets/controls",
      "model_module_version": "1.5.0",
      "model_name": "HTMLModel",
      "state": {
       "layout": "IPY_MODEL_c4f7765f7e80409da096fc7cfb8030e7",
       "style": "IPY_MODEL_fe6d3f31080f4f1494db86fb7d32e5ed",
       "value": "<style>.js-plotly-plot {height: 100%;}</style> "
      }
     },
     "fbcb6c634a244b50922797f18e374877": {
      "model_module": "@jupyter-widgets/base",
      "model_module_version": "1.2.0",
      "model_name": "LayoutModel",
      "state": {}
     },
     "fccc675b1f8d41e1bb8fe256d2d58f82": {
      "model_module": "jupyter-vuetify",
      "model_module_version": "^1.8.1",
      "model_name": "CardTitleModel",
      "state": {
       "_events": [],
       "_jupyter_vue": "IPY_MODEL_c0b82a7dc38f4c74854dac118d2d7baa",
       "attributes": {},
       "children": [
        "Benjamin F. Edwards & Company, Inc. Buys iShares iBonds Dec 2030 Term Corporate ETF, SPDR ..."
       ],
       "layout": "IPY_MODEL_83ddd4d4c6f746b3a1f23f825918f81a",
       "style_": "font-size: 1.1rem",
       "v_slots": []
      }
     },
     "fe6d3f31080f4f1494db86fb7d32e5ed": {
      "model_module": "@jupyter-widgets/controls",
      "model_module_version": "1.5.0",
      "model_name": "DescriptionStyleModel",
      "state": {
       "description_width": ""
      }
     },
     "fef00caa40064833a2444910cf93059d": {
      "model_module": "jupyter-vuetify",
      "model_module_version": "^1.8.1",
      "model_name": "ThemeColorsModel",
      "state": {
       "_model_module_version": "^1.8.1",
       "_theme_name": "light",
       "_view_module": null,
       "_view_module_version": "^1.8.1",
       "accent": "#82B1FF",
       "error": "#FF5252",
       "info": "#2196F3",
       "primary": "#1976D2",
       "secondary": "#424242",
       "success": "#4CAF50",
       "warning": "#FB8C00"
      }
     },
     "ffdeb2a2bcb048759b63f80ee89983b4": {
      "model_module": "jupyter-vuetify",
      "model_module_version": "^1.8.1",
      "model_name": "CardModel",
      "state": {
       "_events": [],
       "_jupyter_vue": "IPY_MODEL_c0b82a7dc38f4c74854dac118d2d7baa",
       "attributes": {},
       "children": [
        "IPY_MODEL_4d3f3081311c438ab78aba482e2d3bc9",
        "IPY_MODEL_5f662800d9794ea6a12139c3969cc8fb",
        "IPY_MODEL_a9b058092ac64a37b63c7799c6129242"
       ],
       "elevation": null,
       "height": null,
       "href": null,
       "layout": "IPY_MODEL_ae20fb085dcc4990b6c88826ef34931a",
       "loader_height": null,
       "loading": null,
       "max_height": null,
       "max_width": null,
       "min_height": null,
       "min_width": null,
       "outlined": true,
       "ripple": null,
       "to": null,
       "v_slots": [],
       "width": null
      }
     }
    },
    "version_major": 2,
    "version_minor": 0
   }
  }
 },
 "nbformat": 4,
 "nbformat_minor": 5
}
