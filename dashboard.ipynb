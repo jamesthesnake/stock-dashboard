{
 "cells": [
  {
   "cell_type": "code",
   "execution_count": 25,
   "id": "b99d8299-e2fb-41d7-a086-5a8af4cf826f",
   "metadata": {},
   "outputs": [],
   "source": [
    "from ipyflex import FlexLayout\n",
    "import ipywidgets as ipw\n",
    "import yfinance as yf\n",
    "import ipyvuetify as v\n",
    "from widgets import new_factory, financial_info_factory, price_chart_factory, price_history_factory, text_widget\n",
    "from ticker import TickerData\n",
    "import os"
   ]
  },
  {
   "cell_type": "code",
   "execution_count": 26,
   "id": "d907c7b5-991c-463d-8dcb-95814f31b85d",
   "metadata": {},
   "outputs": [],
   "source": [
    "ticker = TickerData(\"NVDA\")"
   ]
  },
  {
   "cell_type": "code",
   "execution_count": 27,
   "id": "a8664bc2-aa04-4e52-ae82-5ac751e9406a",
   "metadata": {},
   "outputs": [],
   "source": [
    "news = new_factory(ticker.news)\n",
    "info = financial_info_factory(ticker.financial_info, ticker._info['logo_url'])\n",
    "price = price_chart_factory(ticker.price(), \"NVDA\")\n",
    "history = price_history_factory(ticker.price('3y'), \"NVDA\")\n",
    "summary = text_widget('Business Summary ', ticker._info['longBusinessSummary'])"
   ]
  },
  {
   "cell_type": "code",
   "execution_count": 28,
   "id": "61d48577-30e7-446f-aac6-22c4ee6c1b28",
   "metadata": {},
   "outputs": [],
   "source": [
    "widgets = {'news':news, 'info': info, 'price': price,'history': history, 'summary': summary}"
   ]
  },
  {
   "cell_type": "code",
   "execution_count": 29,
   "id": "ebaae013-207f-4499-b602-1926f595cac4",
   "metadata": {},
   "outputs": [],
   "source": [
    "voila = os.getenv('VOILA_KERNEL_ID')\n",
    "if voila is not None:\n",
    "    editable = False\n",
    "    height = 'calc(100vh - 60px)'\n",
    "else:\n",
    "    editable = True\n",
    "    height = '800px'"
   ]
  },
  {
   "cell_type": "code",
   "execution_count": 30,
   "id": "d2731aae-553a-4243-8e9b-1021329e4377",
   "metadata": {},
   "outputs": [],
   "source": [
    "w = FlexLayout( \n",
    "    widgets,\n",
    "            style={'height':height}, \n",
    "            header={'title': 'STOCK DASHBOAD', 'style':{'backgroundColor': 'rgb(53 53 53)'}},\n",
    "                    \n",
    "    template='ticker.json',\n",
    "    editable=editable\n",
    "           ) "
   ]
  },
  {
   "cell_type": "code",
   "execution_count": 31,
   "id": "a9c6f911-d895-4a36-8982-b8ae76b994ca",
   "metadata": {
    "tags": []
   },
   "outputs": [
    {
     "data": {
      "application/vnd.jupyter.widget-view+json": {
       "model_id": "1b6dda9734a1443e93e5cf6667749375",
       "version_major": 2,
       "version_minor": 0
      },
      "text/plain": [
       "VBox(children=(FlexLayout(children={'news': Html(children=[Card(children=[CardTitle(children=['Nvidia Is Pushi…"
      ]
     },
     "metadata": {},
     "output_type": "display_data"
    }
   ],
   "source": [
    "ipw.VBox([w, ipw.HTML('''\n",
    "<style>\n",
    "    .js-plotly-plot {height: 100%;}\n",
    "</style>\n",
    "''')])\n"
   ]
  }
 ],
 "metadata": {
  "kernelspec": {
   "display_name": "Python 3 (ipykernel)",
   "language": "python",
   "name": "python3"
  },
  "language_info": {
   "codemirror_mode": {
    "name": "ipython",
    "version": 3
   },
   "file_extension": ".py",
   "mimetype": "text/x-python",
   "name": "python",
   "nbconvert_exporter": "python",
   "pygments_lexer": "ipython3",
   "version": "3.9.9"
  }
 },
 "nbformat": 4,
 "nbformat_minor": 5
}
