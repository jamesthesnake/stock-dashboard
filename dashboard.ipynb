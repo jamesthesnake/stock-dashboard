{
 "cells": [
  {
   "cell_type": "code",
   "execution_count": 10,
   "id": "b99d8299-e2fb-41d7-a086-5a8af4cf826f",
   "metadata": {},
   "outputs": [],
   "source": [
    "from ipyflex import FlexLayout\n",
    "import ipywidgets as ipw\n",
    "import yfinance as yf\n",
    "import ipyvuetify as v\n",
    "from widgets import new_factory"
   ]
  },
  {
   "cell_type": "code",
   "execution_count": 16,
   "id": "d907c7b5-991c-463d-8dcb-95814f31b85d",
   "metadata": {},
   "outputs": [],
   "source": [
    "ticker = yf.Ticker(\"TSLA\")"
   ]
  },
  {
   "cell_type": "code",
   "execution_count": 17,
   "id": "a8664bc2-aa04-4e52-ae82-5ac751e9406a",
   "metadata": {},
   "outputs": [],
   "source": [
    "news = new_factory(ticker.news)"
   ]
  },
  {
   "cell_type": "code",
   "execution_count": 18,
   "id": "61d48577-30e7-446f-aac6-22c4ee6c1b28",
   "metadata": {},
   "outputs": [],
   "source": [
    "widgets = {'news':news}"
   ]
  },
  {
   "cell_type": "code",
   "execution_count": 26,
   "id": "d2731aae-553a-4243-8e9b-1021329e4377",
   "metadata": {},
   "outputs": [],
   "source": [
    "w = FlexLayout( \n",
    "            style={'height':'600px'}, \n",
    "            header={'title': 'Demo',\n",
    "                    'style':{'background': 'green'}}\n",
    "           ) "
   ]
  },
  {
   "cell_type": "code",
   "execution_count": 27,
   "id": "a9c6f911-d895-4a36-8982-b8ae76b994ca",
   "metadata": {},
   "outputs": [
    {
     "data": {
      "application/vnd.jupyter.widget-view+json": {
       "model_id": "2ab315e1d0e840c5a836ab36162173a2",
       "version_major": 2,
       "version_minor": 0
      },
      "text/plain": [
       "FlexLayout(header={'title': 'Demo', 'style': {'background': 'green'}, 'buttons': ['save', 'export', 'import']}…"
      ]
     },
     "metadata": {},
     "output_type": "display_data"
    }
   ],
   "source": [
    "w"
   ]
  },
  {
   "cell_type": "code",
   "execution_count": 29,
   "id": "dc263dab-0f01-473e-a01a-33475ba1039d",
   "metadata": {},
   "outputs": [],
   "source": [
    "ticker = yf.Ticker(\"NVDA\")\n",
    "w.add('CLOSE PRICE', new_factory(ticker.news) )"
   ]
  },
  {
   "cell_type": "code",
   "execution_count": null,
   "id": "721fac01-7e5c-4852-b194-4e82e71b109e",
   "metadata": {},
   "outputs": [],
   "source": []
  }
 ],
 "metadata": {
  "kernelspec": {
   "display_name": "Python 3 (ipykernel)",
   "language": "python",
   "name": "python3"
  },
  "language_info": {
   "codemirror_mode": {
    "name": "ipython",
    "version": 3
   },
   "file_extension": ".py",
   "mimetype": "text/x-python",
   "name": "python",
   "nbconvert_exporter": "python",
   "pygments_lexer": "ipython3",
   "version": "3.9.7"
  }
 },
 "nbformat": 4,
 "nbformat_minor": 5
}
