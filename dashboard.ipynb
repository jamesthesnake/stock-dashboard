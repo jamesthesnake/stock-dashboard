{
 "cells": [
  {
   "cell_type": "code",
   "execution_count": 1,
   "id": "b99d8299-e2fb-41d7-a086-5a8af4cf826f",
   "metadata": {},
   "outputs": [],
   "source": [
    "from ipyflex import FlexLayout\n",
    "import ipywidgets as ipw\n",
    "import yfinance as yf\n",
    "import ipyvuetify as v\n",
    "from widgets import new_factory, financial_info_factory, price_widget_factory\n",
    "from ticker import TickerData"
   ]
  },
  {
   "cell_type": "code",
   "execution_count": 2,
   "id": "d907c7b5-991c-463d-8dcb-95814f31b85d",
   "metadata": {},
   "outputs": [],
   "source": [
    "ticker = TickerData(\"NVDA\")"
   ]
  },
  {
   "cell_type": "code",
   "execution_count": 3,
   "id": "a8664bc2-aa04-4e52-ae82-5ac751e9406a",
   "metadata": {},
   "outputs": [],
   "source": [
    "news = new_factory(ticker.news)\n",
    "info = financial_info_factory(ticker.financial_info)\n",
    "test = v.Row(children=[\n",
    "    v.Col(cols=12, md=6, children=[\n",
    "        v.Card(outlined=True, style_='height: 400px', children=[f'Element {i}'])\n",
    "    ]) for i in range (1,3)\n",
    "])\n",
    "price = price_widget_factory(ticker.price(), \"NVDA\")"
   ]
  },
  {
   "cell_type": "code",
   "execution_count": 4,
   "id": "61d48577-30e7-446f-aac6-22c4ee6c1b28",
   "metadata": {},
   "outputs": [],
   "source": [
    "widgets = {'news':news, 'info': info, 'price': price }"
   ]
  },
  {
   "cell_type": "code",
   "execution_count": 5,
   "id": "d2731aae-553a-4243-8e9b-1021329e4377",
   "metadata": {},
   "outputs": [],
   "source": [
    "w = FlexLayout( \n",
    "    widgets,\n",
    "            style={'height':'900px'}, \n",
    "            header={'title': 'Demo',\n",
    "                    'style':{'background': 'green'}}\n",
    "           ) "
   ]
  },
  {
   "cell_type": "code",
   "execution_count": 6,
   "id": "a9c6f911-d895-4a36-8982-b8ae76b994ca",
   "metadata": {},
   "outputs": [
    {
     "data": {
      "application/vnd.jupyter.widget-view+json": {
       "model_id": "d29bd3c88b744e42a422f0f2f9579932",
       "version_major": 2,
       "version_minor": 0
      },
      "text/plain": [
       "FlexLayout(children={'news': Html(children=[Card(children=[CardTitle(children=['Nvidia Is Pushing the Limits i…"
      ]
     },
     "metadata": {},
     "output_type": "display_data"
    }
   ],
   "source": [
    "w"
   ]
  },
  {
   "cell_type": "code",
   "execution_count": 7,
   "id": "9a76e3bc-de67-409f-a490-55a677397762",
   "metadata": {},
   "outputs": [],
   "source": [
    "tk = yf.Ticker('NVDA')"
   ]
  },
  {
   "cell_type": "code",
   "execution_count": 8,
   "id": "3264fac7-c13a-4012-9f80-246759f12a31",
   "metadata": {},
   "outputs": [],
   "source": [
    "a = tk.history('3mo')"
   ]
  },
  {
   "cell_type": "code",
   "execution_count": 9,
   "id": "0e79c846-517c-4afc-8686-42176d9f610b",
   "metadata": {},
   "outputs": [
    {
     "data": {
      "text/html": [
       "<div>\n",
       "<style scoped>\n",
       "    .dataframe tbody tr th:only-of-type {\n",
       "        vertical-align: middle;\n",
       "    }\n",
       "\n",
       "    .dataframe tbody tr th {\n",
       "        vertical-align: top;\n",
       "    }\n",
       "\n",
       "    .dataframe thead th {\n",
       "        text-align: right;\n",
       "    }\n",
       "</style>\n",
       "<table border=\"1\" class=\"dataframe\">\n",
       "  <thead>\n",
       "    <tr style=\"text-align: right;\">\n",
       "      <th></th>\n",
       "      <th>Open</th>\n",
       "      <th>High</th>\n",
       "      <th>Low</th>\n",
       "      <th>Close</th>\n",
       "      <th>Volume</th>\n",
       "      <th>Dividends</th>\n",
       "      <th>Stock Splits</th>\n",
       "    </tr>\n",
       "    <tr>\n",
       "      <th>Date</th>\n",
       "      <th></th>\n",
       "      <th></th>\n",
       "      <th></th>\n",
       "      <th></th>\n",
       "      <th></th>\n",
       "      <th></th>\n",
       "      <th></th>\n",
       "    </tr>\n",
       "  </thead>\n",
       "  <tbody>\n",
       "    <tr>\n",
       "      <th>2021-10-15</th>\n",
       "      <td>218.073306</td>\n",
       "      <td>219.283149</td>\n",
       "      <td>216.593476</td>\n",
       "      <td>218.593231</td>\n",
       "      <td>22679500</td>\n",
       "      <td>0.0</td>\n",
       "      <td>0</td>\n",
       "    </tr>\n",
       "    <tr>\n",
       "      <th>2021-10-18</th>\n",
       "      <td>217.463378</td>\n",
       "      <td>222.882713</td>\n",
       "      <td>216.413504</td>\n",
       "      <td>222.192795</td>\n",
       "      <td>18949400</td>\n",
       "      <td>0.0</td>\n",
       "      <td>0</td>\n",
       "    </tr>\n",
       "    <tr>\n",
       "      <th>2021-10-19</th>\n",
       "      <td>222.732729</td>\n",
       "      <td>223.762602</td>\n",
       "      <td>220.343022</td>\n",
       "      <td>222.872711</td>\n",
       "      <td>16147300</td>\n",
       "      <td>0.0</td>\n",
       "      <td>0</td>\n",
       "    </tr>\n",
       "    <tr>\n",
       "      <th>2021-10-20</th>\n",
       "      <td>223.022702</td>\n",
       "      <td>224.302544</td>\n",
       "      <td>219.793102</td>\n",
       "      <td>221.002945</td>\n",
       "      <td>14627600</td>\n",
       "      <td>0.0</td>\n",
       "      <td>0</td>\n",
       "    </tr>\n",
       "    <tr>\n",
       "      <th>2021-10-21</th>\n",
       "      <td>220.942944</td>\n",
       "      <td>227.082191</td>\n",
       "      <td>220.802961</td>\n",
       "      <td>226.892212</td>\n",
       "      <td>18759000</td>\n",
       "      <td>0.0</td>\n",
       "      <td>0</td>\n",
       "    </tr>\n",
       "    <tr>\n",
       "      <th>...</th>\n",
       "      <td>...</td>\n",
       "      <td>...</td>\n",
       "      <td>...</td>\n",
       "      <td>...</td>\n",
       "      <td>...</td>\n",
       "      <td>...</td>\n",
       "      <td>...</td>\n",
       "    </tr>\n",
       "    <tr>\n",
       "      <th>2022-01-10</th>\n",
       "      <td>265.809998</td>\n",
       "      <td>274.690002</td>\n",
       "      <td>256.440002</td>\n",
       "      <td>274.000000</td>\n",
       "      <td>59468100</td>\n",
       "      <td>0.0</td>\n",
       "      <td>0</td>\n",
       "    </tr>\n",
       "    <tr>\n",
       "      <th>2022-01-11</th>\n",
       "      <td>273.230011</td>\n",
       "      <td>280.649994</td>\n",
       "      <td>268.390015</td>\n",
       "      <td>278.170013</td>\n",
       "      <td>40408900</td>\n",
       "      <td>0.0</td>\n",
       "      <td>0</td>\n",
       "    </tr>\n",
       "    <tr>\n",
       "      <th>2022-01-12</th>\n",
       "      <td>280.670013</td>\n",
       "      <td>285.950012</td>\n",
       "      <td>276.079987</td>\n",
       "      <td>279.989990</td>\n",
       "      <td>38341300</td>\n",
       "      <td>0.0</td>\n",
       "      <td>0</td>\n",
       "    </tr>\n",
       "    <tr>\n",
       "      <th>2022-01-13</th>\n",
       "      <td>283.790009</td>\n",
       "      <td>284.799988</td>\n",
       "      <td>264.980011</td>\n",
       "      <td>265.750000</td>\n",
       "      <td>54017100</td>\n",
       "      <td>0.0</td>\n",
       "      <td>0</td>\n",
       "    </tr>\n",
       "    <tr>\n",
       "      <th>2022-01-14</th>\n",
       "      <td>263.000000</td>\n",
       "      <td>271.970001</td>\n",
       "      <td>262.100006</td>\n",
       "      <td>269.420013</td>\n",
       "      <td>39522800</td>\n",
       "      <td>0.0</td>\n",
       "      <td>0</td>\n",
       "    </tr>\n",
       "  </tbody>\n",
       "</table>\n",
       "<p>64 rows × 7 columns</p>\n",
       "</div>"
      ],
      "text/plain": [
       "                  Open        High         Low       Close    Volume  \\\n",
       "Date                                                                   \n",
       "2021-10-15  218.073306  219.283149  216.593476  218.593231  22679500   \n",
       "2021-10-18  217.463378  222.882713  216.413504  222.192795  18949400   \n",
       "2021-10-19  222.732729  223.762602  220.343022  222.872711  16147300   \n",
       "2021-10-20  223.022702  224.302544  219.793102  221.002945  14627600   \n",
       "2021-10-21  220.942944  227.082191  220.802961  226.892212  18759000   \n",
       "...                ...         ...         ...         ...       ...   \n",
       "2022-01-10  265.809998  274.690002  256.440002  274.000000  59468100   \n",
       "2022-01-11  273.230011  280.649994  268.390015  278.170013  40408900   \n",
       "2022-01-12  280.670013  285.950012  276.079987  279.989990  38341300   \n",
       "2022-01-13  283.790009  284.799988  264.980011  265.750000  54017100   \n",
       "2022-01-14  263.000000  271.970001  262.100006  269.420013  39522800   \n",
       "\n",
       "            Dividends  Stock Splits  \n",
       "Date                                 \n",
       "2021-10-15        0.0             0  \n",
       "2021-10-18        0.0             0  \n",
       "2021-10-19        0.0             0  \n",
       "2021-10-20        0.0             0  \n",
       "2021-10-21        0.0             0  \n",
       "...               ...           ...  \n",
       "2022-01-10        0.0             0  \n",
       "2022-01-11        0.0             0  \n",
       "2022-01-12        0.0             0  \n",
       "2022-01-13        0.0             0  \n",
       "2022-01-14        0.0             0  \n",
       "\n",
       "[64 rows x 7 columns]"
      ]
     },
     "execution_count": 9,
     "metadata": {},
     "output_type": "execute_result"
    }
   ],
   "source": [
    "a"
   ]
  },
  {
   "cell_type": "code",
   "execution_count": 10,
   "id": "5e81ba53-8f31-404e-b024-daa1a32302e0",
   "metadata": {},
   "outputs": [],
   "source": [
    "# import pandas as pd\n",
    "# df = pd.read_csv(\n",
    "#     \"https://raw.githubusercontent.com/plotly/datasets/master/finance-charts-apple.csv\"\n",
    "# )"
   ]
  },
  {
   "cell_type": "code",
   "execution_count": null,
   "id": "140e8483-13ca-4915-b888-612df42621cf",
   "metadata": {},
   "outputs": [],
   "source": []
  }
 ],
 "metadata": {
  "kernelspec": {
   "display_name": "Python 3 (ipykernel)",
   "language": "python",
   "name": "python3"
  },
  "language_info": {
   "codemirror_mode": {
    "name": "ipython",
    "version": 3
   },
   "file_extension": ".py",
   "mimetype": "text/x-python",
   "name": "python",
   "nbconvert_exporter": "python",
   "pygments_lexer": "ipython3",
   "version": "3.9.9"
  }
 },
 "nbformat": 4,
 "nbformat_minor": 5
}
