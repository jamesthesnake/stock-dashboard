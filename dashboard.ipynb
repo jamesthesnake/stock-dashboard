{
 "cells": [
  {
   "cell_type": "code",
   "execution_count": 15,
   "id": "b99d8299-e2fb-41d7-a086-5a8af4cf826f",
   "metadata": {},
   "outputs": [],
   "source": [
    "from ipyflex import FlexLayout\n",
    "import ipywidgets as ipw\n",
    "import yfinance as yf\n",
    "import ipyvuetify as v\n",
    "from widgets import new_factory, financial_info_factory, price_chart_factory, price_history_factory\n",
    "from ticker import TickerData\n",
    "from IPython.display import HTML"
   ]
  },
  {
   "cell_type": "code",
   "execution_count": 18,
   "id": "c0ca9d30-de29-410b-aac7-04448c454a9e",
   "metadata": {},
   "outputs": [
    {
     "data": {
      "text/html": [
       "\n",
       "<style>\n",
       "    .js-plotly-plot {height: 100%;}\n",
       "</style>\n"
      ],
      "text/plain": [
       "<IPython.core.display.HTML object>"
      ]
     },
     "metadata": {},
     "output_type": "display_data"
    }
   ],
   "source": [
    "display(HTML('''\n",
    "<style>\n",
    "    .js-plotly-plot {height: 100%;}\n",
    "</style>\n",
    "'''))"
   ]
  },
  {
   "cell_type": "code",
   "execution_count": 19,
   "id": "d907c7b5-991c-463d-8dcb-95814f31b85d",
   "metadata": {},
   "outputs": [],
   "source": [
    "ticker = TickerData(\"NVDA\")"
   ]
  },
  {
   "cell_type": "code",
   "execution_count": 20,
   "id": "a8664bc2-aa04-4e52-ae82-5ac751e9406a",
   "metadata": {},
   "outputs": [],
   "source": [
    "news = new_factory(ticker.news)\n",
    "info = financial_info_factory(ticker.financial_info)\n",
    "test = v.Row(children=[\n",
    "    v.Col(cols=12, md=6, children=[\n",
    "        v.Card(outlined=True, style_='height: 400px', children=[f'Element {i}'])\n",
    "    ]) for i in range (1,3)\n",
    "])\n",
    "price = price_chart_factory(ticker.price(), \"NVDA\")\n",
    "history = price_history_factory(ticker.price('3y'), \"NVDA\")"
   ]
  },
  {
   "cell_type": "code",
   "execution_count": 21,
   "id": "61d48577-30e7-446f-aac6-22c4ee6c1b28",
   "metadata": {},
   "outputs": [],
   "source": [
    "widgets = {'news':news, 'info': info, 'price': price,'history': history}"
   ]
  },
  {
   "cell_type": "code",
   "execution_count": 24,
   "id": "d2731aae-553a-4243-8e9b-1021329e4377",
   "metadata": {},
   "outputs": [],
   "source": [
    "w = FlexLayout( \n",
    "    widgets,\n",
    "            style={'height':'900px'}, \n",
    "            header={'title': 'Demo',\n",
    "                    'style':{'background': 'green'}},\n",
    "    template='ticker.json',\n",
    "    editable=False\n",
    "           ) "
   ]
  },
  {
   "cell_type": "code",
   "execution_count": 25,
   "id": "a9c6f911-d895-4a36-8982-b8ae76b994ca",
   "metadata": {},
   "outputs": [
    {
     "data": {
      "application/vnd.jupyter.widget-view+json": {
       "model_id": "4a9e26a9533e40028db89379cb8e3406",
       "version_major": 2,
       "version_minor": 0
      },
      "text/plain": [
       "FlexLayout(children={'news': Html(children=[Card(children=[CardTitle(children=['Nvidia Is Pushing the Limits i…"
      ]
     },
     "metadata": {},
     "output_type": "display_data"
    }
   ],
   "source": [
    "w"
   ]
  },
  {
   "cell_type": "code",
   "execution_count": null,
   "id": "24f3d4a5-c537-4140-8519-ea6d5d4197b8",
   "metadata": {},
   "outputs": [],
   "source": []
  }
 ],
 "metadata": {
  "kernelspec": {
   "display_name": "Python 3 (ipykernel)",
   "language": "python",
   "name": "python3"
  },
  "language_info": {
   "codemirror_mode": {
    "name": "ipython",
    "version": 3
   },
   "file_extension": ".py",
   "mimetype": "text/x-python",
   "name": "python",
   "nbconvert_exporter": "python",
   "pygments_lexer": "ipython3",
   "version": "3.9.9"
  }
 },
 "nbformat": 4,
 "nbformat_minor": 5
}
